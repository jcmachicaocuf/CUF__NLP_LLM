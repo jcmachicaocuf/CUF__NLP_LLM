{
  "nbformat": 4,
  "nbformat_minor": 0,
  "metadata": {
    "kernelspec": {
      "display_name": "Python 3",
      "language": "python",
      "name": "python3"
    },
    "language_info": {
      "codemirror_mode": {
        "name": "ipython",
        "version": 3
      },
      "file_extension": ".py",
      "mimetype": "text/x-python",
      "name": "python",
      "nbconvert_exporter": "python",
      "pygments_lexer": "ipython3",
      "version": "3.7.3"
    },
    "colab": {
      "provenance": [],
      "include_colab_link": true
    }
  },
  "cells": [
    {
      "cell_type": "markdown",
      "metadata": {
        "id": "view-in-github",
        "colab_type": "text"
      },
      "source": [
        "<a href=\"https://colab.research.google.com/github/jcmachicaocuf/CUF__NLP_LLM/blob/main/nlp__textos_redes_networkx.ipynb\" target=\"_parent\"><img src=\"https://colab.research.google.com/assets/colab-badge.svg\" alt=\"Open In Colab\"/></a>"
      ]
    },
    {
      "cell_type": "code",
      "metadata": {
        "id": "HOYAE1O5N-Sb",
        "colab": {
          "base_uri": "https://localhost:8080/",
          "height": 122
        },
        "outputId": "fcce7fd5-7e65-420f-8e83-b46b8dca8843"
      },
      "source": [
        "from google.colab import drive\n",
        "drive.mount('/content/drive')"
      ],
      "execution_count": null,
      "outputs": [
        {
          "output_type": "stream",
          "text": [
            "Go to this URL in a browser: https://accounts.google.com/o/oauth2/auth?client_id=947318989803-6bn6qk8qdgf4n4g3pfee6491hc0brc4i.apps.googleusercontent.com&redirect_uri=urn%3aietf%3awg%3aoauth%3a2.0%3aoob&scope=email%20https%3a%2f%2fwww.googleapis.com%2fauth%2fdocs.test%20https%3a%2f%2fwww.googleapis.com%2fauth%2fdrive%20https%3a%2f%2fwww.googleapis.com%2fauth%2fdrive.photos.readonly%20https%3a%2f%2fwww.googleapis.com%2fauth%2fpeopleapi.readonly&response_type=code\n",
            "\n",
            "Enter your authorization code:\n",
            "··········\n",
            "Mounted at /content/drive\n"
          ],
          "name": "stdout"
        }
      ]
    },
    {
      "cell_type": "markdown",
      "metadata": {
        "id": "oeVTrN5u9TiF"
      },
      "source": [
        "# Diagramación de Redes Semánticas Complejas"
      ]
    },
    {
      "cell_type": "code",
      "metadata": {
        "id": "jvGTeKaU9TiG",
        "colab": {
          "base_uri": "https://localhost:8080/",
          "height": 51
        },
        "outputId": "bacafe3b-7f7a-4a78-b024-8238820b1395"
      },
      "source": [
        "#@title Librerías\n",
        "import networkx as nx\n",
        "import matplotlib.pyplot as plt\n",
        "import pandas as pd\n",
        "import numpy as np\n",
        "import sys\n",
        "#import meaningcloud as mcd\n",
        "import pandas as pd\n",
        "import time\n",
        "import nltk\n",
        "nltk.download('punkt')\n",
        "from nltk.tokenize import word_tokenize"
      ],
      "execution_count": null,
      "outputs": [
        {
          "output_type": "stream",
          "text": [
            "[nltk_data] Downloading package punkt to /root/nltk_data...\n",
            "[nltk_data]   Unzipping tokenizers/punkt.zip.\n"
          ],
          "name": "stdout"
        }
      ]
    },
    {
      "cell_type": "code",
      "metadata": {
        "id": "cZrgBkFy9Tio"
      },
      "source": [
        "#@title Generación de data (manual)\n",
        "data_2 = pd.DataFrame(\n",
        "  [\n",
        "    ['Toma de Decisiones', 'Grupo 1'],\n",
        "    ['Información', 'Grupo 2'],\n",
        "    ['Percepción', 'Grupo 1'],\n",
        "    ['Inteligencia', 'Grupo 1'],\n",
        "    ['Función', 'Grupo 2'],\n",
        "    ['Inteligencia', 'Grupo 3'],\n",
        "    ['Información', 'Grupo 3'],\n",
        "    ['Toma de Decisiones', 'Grupo 3'],\n",
        "    ['Función', 'Grupo 1'],\n",
        "    ['Percepción', 'Grupo 2'],\n",
        "    ['Pandemia', 'Grupo 2'],\n",
        "    ['Pandemia', 'Grupo 3'],\n",
        "    ['Pandemia', 'Grupo 1']\n",
        "  ]\n",
        ")\n",
        "data_2.columns = ['palabra', 'grupo']"
      ],
      "execution_count": null,
      "outputs": []
    },
    {
      "cell_type": "code",
      "metadata": {
        "id": "Mth3RBzt2Gba",
        "colab": {
          "base_uri": "https://localhost:8080/",
          "height": 80
        },
        "outputId": "4bfdf1da-a58f-4ca9-9578-ba25eca7fb1e"
      },
      "source": [
        "#@title Generación de data (externa)\n",
        "ruta = '/content/drive/My Drive/2020 Proyectos/2020 Iniciativas con Claudia Avila/'\n",
        "data_2 = pd.read_excel('prueba_texto.xlsx')\n",
        "data_2"
      ],
      "execution_count": null,
      "outputs": [
        {
          "output_type": "execute_result",
          "data": {
            "text/html": [
              "<div>\n",
              "<style scoped>\n",
              "    .dataframe tbody tr th:only-of-type {\n",
              "        vertical-align: middle;\n",
              "    }\n",
              "\n",
              "    .dataframe tbody tr th {\n",
              "        vertical-align: top;\n",
              "    }\n",
              "\n",
              "    .dataframe thead th {\n",
              "        text-align: right;\n",
              "    }\n",
              "</style>\n",
              "<table border=\"1\" class=\"dataframe\">\n",
              "  <thead>\n",
              "    <tr style=\"text-align: right;\">\n",
              "      <th></th>\n",
              "      <th>texto</th>\n",
              "    </tr>\n",
              "  </thead>\n",
              "  <tbody>\n",
              "    <tr>\n",
              "      <th>0</th>\n",
              "      <td>The training of engineering professionals is i...</td>\n",
              "    </tr>\n",
              "  </tbody>\n",
              "</table>\n",
              "</div>"
            ],
            "text/plain": [
              "                                               texto\n",
              "0  The training of engineering professionals is i..."
            ]
          },
          "metadata": {
            "tags": []
          },
          "execution_count": 10
        }
      ]
    },
    {
      "cell_type": "code",
      "metadata": {
        "id": "Gq0zkOMwgAc5",
        "colab": {
          "base_uri": "https://localhost:8080/",
          "height": 171
        },
        "outputId": "6873e3eb-538f-4a55-fef5-79e1f1c86d9c"
      },
      "source": [
        "data_2.texto[0]"
      ],
      "execution_count": null,
      "outputs": [
        {
          "output_type": "execute_result",
          "data": {
            "application/vnd.google.colaboratory.intrinsic+json": {
              "type": "string"
            },
            "text/plain": [
              "'The training of engineering professionals is in a process of transformation and improvement to respond to the new demands that the present century demands. Given this, the requirements of international institutions such as UNESCO and international accreditors in Engineering programs such as ABET emphasize the importance of \"soft\" skills such as awareness for lifelong learning. In addition to technical knowledge, engineers have to experiment and become aware of the importance and impact of lifelong learning, and it is part of our job to equip them with tools. The Universidad Nacional de San Agustín de Arequipa responds to these challenges in its new educational model implemented since 2017. During 2020, in the context of distance learning, new strategies have been incorporated in search of this objective. The authors show their experience in strengthening this important competence by making use of the development of Personal Learning Environments for Industrial Engineering students in their first semester of studies.'"
            ]
          },
          "metadata": {
            "tags": []
          },
          "execution_count": 14
        }
      ]
    },
    {
      "cell_type": "code",
      "metadata": {
        "id": "bPO8GvhTdtbi"
      },
      "source": [
        "ruta_archivo = 'drive/My Drive/2020 Proyectos/data lab prueba/libro_conclusiones.xlsx'"
      ],
      "execution_count": null,
      "outputs": []
    },
    {
      "cell_type": "code",
      "metadata": {
        "id": "aOyDQM_ndyNb",
        "colab": {
          "base_uri": "https://localhost:8080/",
          "height": 167
        },
        "outputId": "38a0b3f8-77cc-49e4-f3c2-27d65f699faa"
      },
      "source": [
        "texto_conclu = pd.read_excel(ruta_archivo)\n",
        "texto_conclu"
      ],
      "execution_count": null,
      "outputs": [
        {
          "output_type": "execute_result",
          "data": {
            "text/html": [
              "<div>\n",
              "<style scoped>\n",
              "    .dataframe tbody tr th:only-of-type {\n",
              "        vertical-align: middle;\n",
              "    }\n",
              "\n",
              "    .dataframe tbody tr th {\n",
              "        vertical-align: top;\n",
              "    }\n",
              "\n",
              "    .dataframe thead th {\n",
              "        text-align: right;\n",
              "    }\n",
              "</style>\n",
              "<table border=\"1\" class=\"dataframe\">\n",
              "  <thead>\n",
              "    <tr style=\"text-align: right;\">\n",
              "      <th></th>\n",
              "      <th>id_tx</th>\n",
              "      <th>texto</th>\n",
              "    </tr>\n",
              "  </thead>\n",
              "  <tbody>\n",
              "    <tr>\n",
              "      <th>0</th>\n",
              "      <td>0</td>\n",
              "      <td>. Conclusiones sobre la deserción estudiantil ...</td>\n",
              "    </tr>\n",
              "    <tr>\n",
              "      <th>1</th>\n",
              "      <td>1</td>\n",
              "      <td>. Conclusiones y trabajo futuroEl uso de dispo...</td>\n",
              "    </tr>\n",
              "    <tr>\n",
              "      <th>2</th>\n",
              "      <td>2</td>\n",
              "      <td>. Conclusiones y trabajo futuroTeniendo en cue...</td>\n",
              "    </tr>\n",
              "    <tr>\n",
              "      <th>3</th>\n",
              "      <td>3</td>\n",
              "      <td>. Conclusiones En los días actuales, para la c...</td>\n",
              "    </tr>\n",
              "  </tbody>\n",
              "</table>\n",
              "</div>"
            ],
            "text/plain": [
              "   id_tx                                              texto\n",
              "0      0  . Conclusiones sobre la deserción estudiantil ...\n",
              "1      1  . Conclusiones y trabajo futuroEl uso de dispo...\n",
              "2      2  . Conclusiones y trabajo futuroTeniendo en cue...\n",
              "3      3  . Conclusiones En los días actuales, para la c..."
            ]
          },
          "metadata": {
            "tags": []
          },
          "execution_count": 4
        }
      ]
    },
    {
      "cell_type": "code",
      "metadata": {
        "id": "z7wPr6KBFQCF",
        "colab": {
          "base_uri": "https://localhost:8080/",
          "height": 34
        },
        "outputId": "ddede619-f288-4d41-d1dc-dd5d517e026b"
      },
      "source": [
        "tx0 = ''\n",
        "for tx in texto_conclu.texto:\n",
        "  tx0 += tx\n",
        "print(len(tx0))\n",
        "texto_fuente = tx0"
      ],
      "execution_count": null,
      "outputs": [
        {
          "output_type": "stream",
          "text": [
            "9853\n"
          ],
          "name": "stdout"
        }
      ]
    },
    {
      "cell_type": "code",
      "metadata": {
        "id": "MnATWJ3EqOVZ",
        "colab": {
          "base_uri": "https://localhost:8080/",
          "height": 202
        },
        "outputId": "0372b3f6-e9c1-4789-c4f0-a99942243037"
      },
      "source": [
        "texto_fuente = data_2.texto[0]\n",
        "#@title Generación de pares de párrafo\n",
        "tamanho_pal = 5\n",
        "pares = []\n",
        "tx_tokens = word_tokenize(texto_fuente)\n",
        "for j, tx in enumerate(tx_tokens[1:]):\n",
        "  if len(tx_tokens[j-1])>tamanho_pal and len(tx_tokens[j])>tamanho_pal:\n",
        "    pares.append([tx_tokens[j-1].lower(), tx_tokens[j].lower()])\n",
        "pares_df = pd.DataFrame(pares)\n",
        "pares_df.columns = ['col_a', 'col_b']\n",
        "pares_df.head()"
      ],
      "execution_count": null,
      "outputs": [
        {
          "output_type": "execute_result",
          "data": {
            "text/html": [
              "<div>\n",
              "<style scoped>\n",
              "    .dataframe tbody tr th:only-of-type {\n",
              "        vertical-align: middle;\n",
              "    }\n",
              "\n",
              "    .dataframe tbody tr th {\n",
              "        vertical-align: top;\n",
              "    }\n",
              "\n",
              "    .dataframe thead th {\n",
              "        text-align: right;\n",
              "    }\n",
              "</style>\n",
              "<table border=\"1\" class=\"dataframe\">\n",
              "  <thead>\n",
              "    <tr style=\"text-align: right;\">\n",
              "      <th></th>\n",
              "      <th>col_a</th>\n",
              "      <th>col_b</th>\n",
              "    </tr>\n",
              "  </thead>\n",
              "  <tbody>\n",
              "    <tr>\n",
              "      <th>0</th>\n",
              "      <td>engineering</td>\n",
              "      <td>professionals</td>\n",
              "    </tr>\n",
              "    <tr>\n",
              "      <th>1</th>\n",
              "      <td>present</td>\n",
              "      <td>century</td>\n",
              "    </tr>\n",
              "    <tr>\n",
              "      <th>2</th>\n",
              "      <td>century</td>\n",
              "      <td>demands</td>\n",
              "    </tr>\n",
              "    <tr>\n",
              "      <th>3</th>\n",
              "      <td>international</td>\n",
              "      <td>institutions</td>\n",
              "    </tr>\n",
              "    <tr>\n",
              "      <th>4</th>\n",
              "      <td>international</td>\n",
              "      <td>accreditors</td>\n",
              "    </tr>\n",
              "  </tbody>\n",
              "</table>\n",
              "</div>"
            ],
            "text/plain": [
              "           col_a          col_b\n",
              "0    engineering  professionals\n",
              "1        present        century\n",
              "2        century        demands\n",
              "3  international   institutions\n",
              "4  international    accreditors"
            ]
          },
          "metadata": {
            "tags": []
          },
          "execution_count": 15
        }
      ]
    },
    {
      "cell_type": "code",
      "metadata": {
        "id": "8_UlbAFXtgpy"
      },
      "source": [
        "G_2 = nx.from_pandas_edgelist(pares_df, 'col_a', 'col_b')"
      ],
      "execution_count": null,
      "outputs": []
    },
    {
      "cell_type": "code",
      "metadata": {
        "id": "B7Q9EXXS2yxd"
      },
      "source": [
        "#Parámetros\n",
        "my_alpha = 0.7\n",
        "iteraciones = 200\n",
        "escala = 1e6\n",
        "ancho, alto = 20, 20"
      ],
      "execution_count": null,
      "outputs": []
    },
    {
      "cell_type": "code",
      "metadata": {
        "id": "BA-IMDifFrsz",
        "colab": {
          "base_uri": "https://localhost:8080/",
          "height": 1000
        },
        "outputId": "8c1c7865-e428-4cec-8c32-e8756dea06a6"
      },
      "source": [
        "#@title Grafica Red\n",
        "\n",
        "pos_2 = nx.spring_layout(G_2, k=2.0, iterations=iteraciones)\n",
        "d_2 = nx.betweenness_centrality(G_2)\n",
        "labs = list(d_2.keys())\n",
        "sizes = [v*escala for v in list(d_2.values())]\n",
        "\n",
        "# Generación de etiquetas de nodos\n",
        "labels = {}\n",
        "for node in G_2.nodes():\n",
        "  labels[node] = node\n",
        "\n",
        "# Gráfica\n",
        "plt.figure(figsize=(ancho,alto))\n",
        "nx.draw_networkx_nodes(G_2, pos_2, nodelist=labs,\n",
        "                       node_color='b', node_size=sizes, alpha=my_alpha)\n",
        "#nx.draw_networkx_nodes(G_2, pos_2, nodelist=list(data_2.grupo),\n",
        "#                       node_color='r', node_size=node_sz, alpha=my_alpha)\n",
        "nx.draw_networkx_edges(G_2, pos_2, edge_color='lightgray', width=5.0, alpha=my_alpha)\n",
        "nx.draw_networkx_labels(G_2,pos_2,labels,font_size=18)\n",
        "plt.savefig('drive/My Drive/2020 Proyectos/data lab prueba/libro.jpg')\n",
        "#plt.show()"
      ],
      "execution_count": null,
      "outputs": [
        {
          "output_type": "display_data",
          "data": {
            "image/png": "[encoded data removed]",
            "text/plain": [
              "<Figure size 1440x1440 with 1 Axes>"
            ]
          },
          "metadata": {
            "tags": []
          }
        }
      ]
    },
    {
      "cell_type": "code",
      "metadata": {
        "id": "AYoF0NmKgLMr",
        "colab": {
          "base_uri": "https://localhost:8080/",
          "height": 34
        },
        "outputId": "a0a3ffb2-2469-45cf-c684-534b97e3d552"
      },
      "source": [],
      "execution_count": null,
      "outputs": [
        {
          "output_type": "display_data",
          "data": {
            "text/plain": [
              "<Figure size 432x288 with 0 Axes>"
            ]
          },
          "metadata": {
            "tags": []
          }
        }
      ]
    },
    {
      "cell_type": "code",
      "metadata": {
        "id": "n5Zaxv3YoWuJ",
        "colab": {
          "base_uri": "https://localhost:8080/",
          "height": 647
        },
        "outputId": "289fd824-0c94-47c3-ecc8-00fb102bc079"
      },
      "source": [
        "d_df = pd.DataFrame.from_dict(d_2, orient='index')\n",
        "d_df.sort_values(by=[0], ascending=False).head(20)"
      ],
      "execution_count": null,
      "outputs": [
        {
          "output_type": "execute_result",
          "data": {
            "text/html": [
              "<div>\n",
              "<style scoped>\n",
              "    .dataframe tbody tr th:only-of-type {\n",
              "        vertical-align: middle;\n",
              "    }\n",
              "\n",
              "    .dataframe tbody tr th {\n",
              "        vertical-align: top;\n",
              "    }\n",
              "\n",
              "    .dataframe thead th {\n",
              "        text-align: right;\n",
              "    }\n",
              "</style>\n",
              "<table border=\"1\" class=\"dataframe\">\n",
              "  <thead>\n",
              "    <tr style=\"text-align: right;\">\n",
              "      <th></th>\n",
              "      <th>0</th>\n",
              "    </tr>\n",
              "  </thead>\n",
              "  <tbody>\n",
              "    <tr>\n",
              "      <th>fueron</th>\n",
              "      <td>0.000716</td>\n",
              "    </tr>\n",
              "    <tr>\n",
              "      <th>nacional</th>\n",
              "      <td>0.000716</td>\n",
              "    </tr>\n",
              "    <tr>\n",
              "      <th>infectados</th>\n",
              "      <td>0.000716</td>\n",
              "    </tr>\n",
              "    <tr>\n",
              "      <th>minera</th>\n",
              "      <td>0.000596</td>\n",
              "    </tr>\n",
              "    <tr>\n",
              "      <th>regional</th>\n",
              "      <td>0.000596</td>\n",
              "    </tr>\n",
              "    <tr>\n",
              "      <th>avelino</th>\n",
              "      <td>0.000477</td>\n",
              "    </tr>\n",
              "    <tr>\n",
              "      <th>personal</th>\n",
              "      <td>0.000477</td>\n",
              "    </tr>\n",
              "    <tr>\n",
              "      <th>cerrados</th>\n",
              "      <td>0.000477</td>\n",
              "    </tr>\n",
              "    <tr>\n",
              "      <th>permanecen</th>\n",
              "      <td>0.000477</td>\n",
              "    </tr>\n",
              "    <tr>\n",
              "      <th>oficina</th>\n",
              "      <td>0.000358</td>\n",
              "    </tr>\n",
              "    <tr>\n",
              "      <th>empresa</th>\n",
              "      <td>0.000358</td>\n",
              "    </tr>\n",
              "    <tr>\n",
              "      <th>médico</th>\n",
              "      <td>0.000358</td>\n",
              "    </tr>\n",
              "    <tr>\n",
              "      <th>cáceres</th>\n",
              "      <td>0.000358</td>\n",
              "    </tr>\n",
              "    <tr>\n",
              "      <th>andrés</th>\n",
              "      <td>0.000358</td>\n",
              "    </tr>\n",
              "    <tr>\n",
              "      <th>altamente</th>\n",
              "      <td>0.000358</td>\n",
              "    </tr>\n",
              "    <tr>\n",
              "      <th>paralizan</th>\n",
              "      <td>0.000239</td>\n",
              "    </tr>\n",
              "    <tr>\n",
              "      <th>lograron</th>\n",
              "      <td>0.000239</td>\n",
              "    </tr>\n",
              "    <tr>\n",
              "      <th>pública</th>\n",
              "      <td>0.000239</td>\n",
              "    </tr>\n",
              "    <tr>\n",
              "      <th>artesanales</th>\n",
              "      <td>0.000239</td>\n",
              "    </tr>\n",
              "    <tr>\n",
              "      <th>especializado</th>\n",
              "      <td>0.000119</td>\n",
              "    </tr>\n",
              "  </tbody>\n",
              "</table>\n",
              "</div>"
            ],
            "text/plain": [
              "                      0\n",
              "fueron         0.000716\n",
              "nacional       0.000716\n",
              "infectados     0.000716\n",
              "minera         0.000596\n",
              "regional       0.000596\n",
              "avelino        0.000477\n",
              "personal       0.000477\n",
              "cerrados       0.000477\n",
              "permanecen     0.000477\n",
              "oficina        0.000358\n",
              "empresa        0.000358\n",
              "médico         0.000358\n",
              "cáceres        0.000358\n",
              "andrés         0.000358\n",
              "altamente      0.000358\n",
              "paralizan      0.000239\n",
              "lograron       0.000239\n",
              "pública        0.000239\n",
              "artesanales    0.000239\n",
              "especializado  0.000119"
            ]
          },
          "metadata": {
            "tags": []
          },
          "execution_count": 12
        }
      ]
    }
  ]
}