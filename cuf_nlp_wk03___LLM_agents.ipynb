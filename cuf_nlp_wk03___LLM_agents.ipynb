{
  "nbformat": 4,
  "nbformat_minor": 0,
  "metadata": {
    "colab": {
      "provenance": [],
      "authorship_tag": "ABX9TyPueQIOhaoNUUtyB1BWZ7sN",
      "include_colab_link": true
    },
    "kernelspec": {
      "name": "python3",
      "display_name": "Python 3"
    },
    "language_info": {
      "name": "python"
    }
  },
  "cells": [
    {
      "cell_type": "markdown",
      "metadata": {
        "id": "view-in-github",
        "colab_type": "text"
      },
      "source": [
        "<a href=\"https://colab.research.google.com/github/jcmachicaocuf/CUF__NLP_LLM/blob/main/cuf_nlp_wk03___LLM_agents.ipynb\" target=\"_parent\"><img src=\"https://colab.research.google.com/assets/colab-badge.svg\" alt=\"Open In Colab\"/></a>"
      ]
    },
    {
      "cell_type": "code",
      "source": [
        "!pip install langchain\n",
        "!pip install langchain_community\n",
        "!pip install openai\n",
        "!pip install python-dotenv\n",
        "!pip install tiktoken"
      ],
      "metadata": {
        "id": "OCiiWRCOaEGi"
      },
      "execution_count": null,
      "outputs": []
    },
    {
      "cell_type": "code",
      "source": [
        "!pip install langchain-experimental"
      ],
      "metadata": {
        "id": "mwp9RB2va3Pu"
      },
      "execution_count": 2,
      "outputs": []
    },
    {
      "cell_type": "code",
      "source": [
        "!pip install langchain --upgrade # This will ensure LangChain is updated, including its submodules"
      ],
      "metadata": {
        "id": "jn4gqFr9apAd"
      },
      "execution_count": 3,
      "outputs": []
    },
    {
      "cell_type": "code",
      "source": [
        "from langchain.agents import initialize_agent, Tool\n",
        "from langchain.chat_models import ChatOpenAI\n",
        "from langchain_experimental.tools import PythonREPLTool\n",
        "from google.colab import userdata\n",
        "import os\n",
        "from openai import OpenAI"
      ],
      "metadata": {
        "id": "CZXzlPkfe3yk"
      },
      "execution_count": 4,
      "outputs": []
    },
    {
      "cell_type": "code",
      "source": [
        "!pip install --upgrade openai httpx"
      ],
      "metadata": {
        "colab": {
          "base_uri": "https://localhost:8080/"
        },
        "id": "cJ7JcszgesPK",
        "outputId": "f0845224-a55d-4ad8-c556-7b2f4b916311"
      },
      "execution_count": 5,
      "outputs": [
        {
          "output_type": "stream",
          "name": "stdout",
          "text": [
            "Requirement already satisfied: openai in /usr/local/lib/python3.10/dist-packages (1.57.0)\n",
            "Requirement already satisfied: httpx in /usr/local/lib/python3.10/dist-packages (0.28.1)\n",
            "Requirement already satisfied: anyio<5,>=3.5.0 in /usr/local/lib/python3.10/dist-packages (from openai) (3.7.1)\n",
            "Requirement already satisfied: distro<2,>=1.7.0 in /usr/local/lib/python3.10/dist-packages (from openai) (1.9.0)\n",
            "Requirement already satisfied: jiter<1,>=0.4.0 in /usr/local/lib/python3.10/dist-packages (from openai) (0.8.0)\n",
            "Requirement already satisfied: pydantic<3,>=1.9.0 in /usr/local/lib/python3.10/dist-packages (from openai) (2.10.3)\n",
            "Requirement already satisfied: sniffio in /usr/local/lib/python3.10/dist-packages (from openai) (1.3.1)\n",
            "Requirement already satisfied: tqdm>4 in /usr/local/lib/python3.10/dist-packages (from openai) (4.66.6)\n",
            "Requirement already satisfied: typing-extensions<5,>=4.11 in /usr/local/lib/python3.10/dist-packages (from openai) (4.12.2)\n",
            "Requirement already satisfied: certifi in /usr/local/lib/python3.10/dist-packages (from httpx) (2024.8.30)\n",
            "Requirement already satisfied: httpcore==1.* in /usr/local/lib/python3.10/dist-packages (from httpx) (1.0.7)\n",
            "Requirement already satisfied: idna in /usr/local/lib/python3.10/dist-packages (from httpx) (3.10)\n",
            "Requirement already satisfied: h11<0.15,>=0.13 in /usr/local/lib/python3.10/dist-packages (from httpcore==1.*->httpx) (0.14.0)\n",
            "Requirement already satisfied: exceptiongroup in /usr/local/lib/python3.10/dist-packages (from anyio<5,>=3.5.0->openai) (1.2.2)\n",
            "Requirement already satisfied: annotated-types>=0.6.0 in /usr/local/lib/python3.10/dist-packages (from pydantic<3,>=1.9.0->openai) (0.7.0)\n",
            "Requirement already satisfied: pydantic-core==2.27.1 in /usr/local/lib/python3.10/dist-packages (from pydantic<3,>=1.9.0->openai) (2.27.1)\n"
          ]
        }
      ]
    },
    {
      "cell_type": "code",
      "source": [
        "apikey = userdata.get('OPENAI_API_KEY')"
      ],
      "metadata": {
        "id": "w2921STWbc0s"
      },
      "execution_count": 6,
      "outputs": []
    },
    {
      "cell_type": "code",
      "source": [
        "os.environ[\"OPENAI_API_KEY\"] = apikey"
      ],
      "metadata": {
        "id": "VtqnlsRaeDf_"
      },
      "execution_count": 7,
      "outputs": []
    },
    {
      "cell_type": "code",
      "execution_count": 9,
      "metadata": {
        "colab": {
          "base_uri": "https://localhost:8080/"
        },
        "id": "x1IEeBt3Z7dO",
        "outputId": "3bb5b6c8-567d-4b30-b63a-86a42bb9b433"
      },
      "outputs": [
        {
          "output_type": "stream",
          "name": "stdout",
          "text": [
            "12.0\n"
          ]
        }
      ],
      "source": [
        "# Define tools\n",
        "tools = [\n",
        "    Tool(\n",
        "        name=\"PythonREPL\",\n",
        "        func=PythonREPLTool().run,\n",
        "        description=\"Use for performing calculations\"\n",
        "    )\n",
        "]\n",
        "\n",
        "# Initialize agent\n",
        "llm = ChatOpenAI(temperature=0)\n",
        "agent = initialize_agent(tools, llm, agent=\"zero-shot-react-description\")\n",
        "\n",
        "# Run a query\n",
        "result = agent.run(\"What is the square root of 144?\")\n",
        "print(result)"
      ]
    },
    {
      "cell_type": "code",
      "source": [
        "from langchain.agents import AgentExecutor, Tool, ZeroShotAgent\n",
        "from langchain.llms import OpenAI"
      ],
      "metadata": {
        "id": "HKKza9mZvcWh"
      },
      "execution_count": 18,
      "outputs": []
    },
    {
      "cell_type": "code",
      "source": [
        "def creative_agent(query):\n",
        "    return f\"Creative answer for {query}\"\n",
        "\n",
        "def factual_agent(query):\n",
        "    return f\"Factual answer for {query}\"\n",
        "\n",
        "tools = [\n",
        "    Tool(name=\"Creative\", func=creative_agent, description=\"Generate creative ideas\"),\n",
        "    Tool(name=\"Factual\", func=factual_agent, description=\"Generate factual answers\"),\n",
        "]\n",
        "\n",
        "llm = OpenAI(temperature=0)\n",
        "agent = ZeroShotAgent.from_llm_and_tools(llm=llm, tools=tools)"
      ],
      "metadata": {
        "id": "9ZlTCKrTvgGL"
      },
      "execution_count": 19,
      "outputs": []
    },
    {
      "cell_type": "code",
      "source": [
        "orchestrator = AgentExecutor.from_agent_and_tools(agent=agent, tools=tools, verbose=True)\n",
        "print(orchestrator.run(\"Create a 100 word text in which you explore the supported theories about why the Sun is having more flares, but also use creative function to guess what false theories might be discussed, specifying which agent you are using for each step.\"))"
      ],
      "metadata": {
        "colab": {
          "base_uri": "https://localhost:8080/"
        },
        "id": "TknzvbS1vEyh",
        "outputId": "13011740-e453-4af0-8c45-5282cb79df81"
      },
      "execution_count": 23,
      "outputs": [
        {
          "output_type": "stream",
          "name": "stdout",
          "text": [
            "\n",
            "\n",
            "\u001b[1m> Entering new AgentExecutor chain...\u001b[0m\n",
            "\u001b[32;1m\u001b[1;3m Before starting, I should gather information about the Sun and its flares.\n",
            "Action: Factual\n",
            "Action Input: \"Sun flares\"\u001b[0m\n",
            "Observation: \u001b[33;1m\u001b[1;3mFactual answer for Sun flares\u001b[0m\n",
            "Thought:\u001b[32;1m\u001b[1;3m Now, I can use my creative function to generate false theories.\n",
            "Action: Creative\n",
            "Action Input: \"Alien interference\"\u001b[0m\n",
            "Observation: \u001b[36;1m\u001b[1;3mCreative answer for Alien interference\u001b[0m\n",
            "Thought:\u001b[32;1m\u001b[1;3m I should also consider other possible false theories.\n",
            "Action: Creative\n",
            "Action Input: \"Solar panel malfunction\"\u001b[0m\n",
            "Observation: \u001b[36;1m\u001b[1;3mCreative answer for Solar panel malfunction\u001b[0m\n",
            "Thought:\u001b[32;1m\u001b[1;3m I should also research any scientific studies or data that may support or debunk these false theories.\n",
            "Action: Factual\n",
            "Action Input: \"Scientific studies on Sun flares\"\u001b[0m\n",
            "Observation: \u001b[33;1m\u001b[1;3mFactual answer for Scientific studies on Sun flares\u001b[0m\n",
            "Thought:\u001b[32;1m\u001b[1;3m I now know the final answer.\n",
            "Final Answer: The Sun is having more flares due to natural fluctuations in its magnetic field, not because of alien interference or solar panel malfunction.\u001b[0m\n",
            "\n",
            "\u001b[1m> Finished chain.\u001b[0m\n",
            "The Sun is having more flares due to natural fluctuations in its magnetic field, not because of alien interference or solar panel malfunction.\n"
          ]
        }
      ]
    }
  ]
}