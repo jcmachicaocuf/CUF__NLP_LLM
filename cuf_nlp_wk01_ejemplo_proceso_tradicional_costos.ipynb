{
  "cells": [
    {
      "cell_type": "markdown",
      "metadata": {
        "id": "view-in-github",
        "colab_type": "text"
      },
      "source": [
        "<a href=\"https://colab.research.google.com/github/jcmachicaocuf/CUF__NLP_LLM/blob/main/cuf_nlp_wk01_ejemplo_proceso_tradicional_costos.ipynb\" target=\"_parent\"><img src=\"https://colab.research.google.com/assets/colab-badge.svg\" alt=\"Open In Colab\"/></a>"
      ]
    },
    {
      "cell_type": "markdown",
      "id": "fd293391-0e05-4f9d-aeac-e4f58ca65565",
      "metadata": {
        "id": "fd293391-0e05-4f9d-aeac-e4f58ca65565"
      },
      "source": [
        "# Herramientas NLP para analisis de reportes de corrupción"
      ]
    },
    {
      "cell_type": "code",
      "execution_count": null,
      "id": "9aeb3497-2900-45dc-a1e3-aed3fe0fa131",
      "metadata": {
        "collapsed": true,
        "jupyter": {
          "outputs_hidden": true
        },
        "id": "9aeb3497-2900-45dc-a1e3-aed3fe0fa131",
        "outputId": "0e0dab37-b944-4e49-c45f-9ae2ac812471"
      },
      "outputs": [
        {
          "name": "stdout",
          "output_type": "stream",
          "text": [
            "Collecting es-core-news-sm==3.8.0\n",
            "  Using cached https://github.com/explosion/spacy-models/releases/download/es_core_news_sm-3.8.0/es_core_news_sm-3.8.0-py3-none-any.whl (12.9 MB)\n",
            "\u001b[38;5;2m[+] Download and installation successful\u001b[0m\n",
            "You can now load the package via spacy.load('es_core_news_sm')\n"
          ]
        }
      ],
      "source": [
        "!python -m spacy download es_core_news_sm"
      ]
    },
    {
      "cell_type": "code",
      "execution_count": null,
      "id": "2f9d5b9d-5970-4bf1-b321-4118b48b9349",
      "metadata": {
        "collapsed": true,
        "jupyter": {
          "outputs_hidden": true
        },
        "id": "2f9d5b9d-5970-4bf1-b321-4118b48b9349",
        "outputId": "de1d31b9-4826-4c09-f601-da962b2d73a6"
      },
      "outputs": [
        {
          "name": "stdout",
          "output_type": "stream",
          "text": [
            "Collecting en-core-web-sm==3.8.0\n",
            "  Downloading https://github.com/explosion/spacy-models/releases/download/en_core_web_sm-3.8.0/en_core_web_sm-3.8.0-py3-none-any.whl (12.8 MB)\n",
            "     ---------------------------------------- 0.0/12.8 MB ? eta -:--:--\n",
            "     --------------------------------------- 0.0/12.8 MB 330.3 kB/s eta 0:00:39\n",
            "     --------------------------------------- 0.1/12.8 MB 656.4 kB/s eta 0:00:20\n",
            "      --------------------------------------- 0.2/12.8 MB 1.7 MB/s eta 0:00:08\n",
            "     - -------------------------------------- 0.6/12.8 MB 3.3 MB/s eta 0:00:04\n",
            "     --- ------------------------------------ 1.1/12.8 MB 5.0 MB/s eta 0:00:03\n",
            "     ----- ---------------------------------- 1.6/12.8 MB 6.6 MB/s eta 0:00:02\n",
            "     ------ --------------------------------- 2.2/12.8 MB 7.3 MB/s eta 0:00:02\n",
            "     -------- ------------------------------- 2.7/12.8 MB 7.9 MB/s eta 0:00:02\n",
            "     ---------- ----------------------------- 3.3/12.8 MB 8.4 MB/s eta 0:00:02\n",
            "     ----------- ---------------------------- 3.8/12.8 MB 8.7 MB/s eta 0:00:02\n",
            "     ------------- -------------------------- 4.4/12.8 MB 9.0 MB/s eta 0:00:01\n",
            "     --------------- ------------------------ 4.9/12.8 MB 9.1 MB/s eta 0:00:01\n",
            "     ---------------- ----------------------- 5.3/12.8 MB 9.2 MB/s eta 0:00:01\n",
            "     ------------------ --------------------- 5.9/12.8 MB 9.4 MB/s eta 0:00:01\n",
            "     -------------------- ------------------- 6.4/12.8 MB 9.5 MB/s eta 0:00:01\n",
            "     --------------------- ------------------ 7.0/12.8 MB 9.7 MB/s eta 0:00:01\n",
            "     ----------------------- ---------------- 7.5/12.8 MB 9.8 MB/s eta 0:00:01\n",
            "     ------------------------- -------------- 8.0/12.8 MB 9.9 MB/s eta 0:00:01\n",
            "     -------------------------- ------------- 8.6/12.8 MB 10.0 MB/s eta 0:00:01\n",
            "     ---------------------------- ----------- 9.1/12.8 MB 10.0 MB/s eta 0:00:01\n",
            "     ------------------------------ --------- 9.7/12.8 MB 10.1 MB/s eta 0:00:01\n",
            "     ------------------------------- ------- 10.2/12.8 MB 10.2 MB/s eta 0:00:01\n",
            "     -------------------------------- ------ 10.8/12.8 MB 11.5 MB/s eta 0:00:01\n",
            "     ---------------------------------- ---- 11.3/12.8 MB 11.7 MB/s eta 0:00:01\n",
            "     ------------------------------------ -- 11.8/12.8 MB 11.7 MB/s eta 0:00:01\n",
            "     ------------------------------------- - 12.4/12.8 MB 11.7 MB/s eta 0:00:01\n",
            "     --------------------------------------  12.8/12.8 MB 11.5 MB/s eta 0:00:01\n",
            "     --------------------------------------- 12.8/12.8 MB 11.3 MB/s eta 0:00:00\n",
            "Installing collected packages: en-core-web-sm\n",
            "Successfully installed en-core-web-sm-3.8.0\n",
            "\u001b[38;5;2m[+] Download and installation successful\u001b[0m\n",
            "You can now load the package via spacy.load('en_core_web_sm')\n"
          ]
        }
      ],
      "source": [
        "!python -m spacy download en_core_web_sm"
      ]
    },
    {
      "cell_type": "code",
      "execution_count": null,
      "id": "f245b4f5-de61-46fc-ba81-6242418895d1",
      "metadata": {
        "id": "f245b4f5-de61-46fc-ba81-6242418895d1"
      },
      "outputs": [],
      "source": [
        "import spacy\n",
        "import es_core_news_sm, en_core_web_sm\n",
        "import pandas as pd\n",
        "import numpy as np\n",
        "from collections import defaultdict\n",
        "import networkx as nx\n",
        "from sklearn.feature_extraction.text import TfidfVectorizer\n",
        "from sklearn.cluster import DBSCAN\n",
        "from sklearn.metrics.pairwise import cosine_similarity\n",
        "import time\n",
        "import psutil\n",
        "import warnings\n",
        "from typing import List, Dict, Tuple, Set\n",
        "import re\n",
        "from datetime import datetime\n",
        "import matplotlib.pyplot as plt\n",
        "from gensim.models import Word2Vec\n",
        "import seaborn as sns"
      ]
    },
    {
      "cell_type": "code",
      "execution_count": null,
      "id": "e61624bc-cbbd-4480-94e6-9f5ad61aa6ba",
      "metadata": {
        "id": "e61624bc-cbbd-4480-94e6-9f5ad61aa6ba"
      },
      "outputs": [],
      "source": [
        "# Cargar modelo de spaCy\n",
        "nlp = es_core_news_sm.load()\n",
        "nlp_en = en_core_web_sm.load()"
      ]
    },
    {
      "cell_type": "code",
      "execution_count": null,
      "id": "f897313a-144d-49e7-8a48-3bf9b37907f5",
      "metadata": {
        "id": "f897313a-144d-49e7-8a48-3bf9b37907f5"
      },
      "outputs": [],
      "source": [
        "# Métricas de rendimiento\n",
        "performance_metrics = {\n",
        "    'processing_time': [],\n",
        "    'memory_usage': [],\n",
        "    'processed_chars': 0\n",
        "}\n",
        "\n",
        "start_time = time.time()\n",
        "\n",
        "# Inicializar vectorizador TF-IDF\n",
        "tfidf = TfidfVectorizer(\n",
        "    max_features=5000,\n",
        "    ngram_range=(1, 3),\n",
        "    stop_words=nlp.Defaults.stop_words\n",
        ")\n",
        "\n",
        "# Inicializar modelo Word2Vec\n",
        "word2vec = None"
      ]
    },
    {
      "cell_type": "code",
      "execution_count": null,
      "id": "9e21e8be-e3c3-470e-ac99-18d2ff9cf98b",
      "metadata": {
        "id": "9e21e8be-e3c3-470e-ac99-18d2ff9cf98b"
      },
      "outputs": [],
      "source": [
        "# Inicializar vectorizador TF-IDF con stop words en español\n",
        "tfidf = TfidfVectorizer(\n",
        "    max_features=5000,\n",
        "    ngram_range=(1, 3),\n",
        "    stop_words=None  # Inicialmente sin stop words\n",
        ")\n",
        "\n",
        "# Manejaremos las stop words manualmente en el preprocesamiento\n",
        "stop_words = set(nlp.Defaults.stop_words)\n",
        "\n",
        "# Inicializar modelo Word2Vec\n",
        "word2vec = None"
      ]
    },
    {
      "cell_type": "code",
      "execution_count": null,
      "id": "e89f22ee-7423-4d11-86de-26ccec581113",
      "metadata": {
        "id": "e89f22ee-7423-4d11-86de-26ccec581113"
      },
      "outputs": [],
      "source": [
        "def _track_performance(text_length: int):\n",
        "    \"\"\"Registra métricas de rendimiento.\"\"\"\n",
        "    current_time = time.time()\n",
        "    memory_used = psutil.Process().memory_info().rss / 1024 / 1024  # MB\n",
        "\n",
        "    performance_metrics['processing_time'].append(current_time - start_time)\n",
        "    performance_metrics['memory_usage'].append(memory_used)\n",
        "    performance_metrics['processed_chars'] += text_length\n",
        "\n",
        "    return performance_metrics"
      ]
    },
    {
      "cell_type": "code",
      "execution_count": null,
      "id": "092eaa44-3694-4cd0-b8ff-53b87cd4db56",
      "metadata": {
        "id": "092eaa44-3694-4cd0-b8ff-53b87cd4db56"
      },
      "outputs": [],
      "source": [
        "ejemplo_texto = [\n",
        "    \"Hay un proveedor que trajo regalos para los evaluadores del proceso. Creo que esto representa un riesgo elevado porque nadie está haciendo seguimiento de las visitas de este proveedor, y hay contratos importantes que podrían tener influencia. Estos contratos son del nivel de US$250 mil y US$340 mil, y esto podría tener consecuencias porque además involucran a varias Municipalidades de Trujillo y Ferreñafe. Podría ser sospechoso que los proveedores hagan esto muy frecuentemente.\",\n",
        "    \"Tengo temor de que las organizaciones empiecen a dejar entrar empleados que no tengan suficiente integridad, porque ya no vienen formados con criterios éticos, no hay formación universitaria completa en estos temas, especialmente en la Municipalidad de Lima que presenta una acción sospechosa. Creo que esto representa un riesgo elevado porque nadie está haciendo seguimiento de las visitas de este proveedor, y hay contratos importantes que podrían tener influencia. Esto suele generar que la mayoría de profesionales no estén alertas ante la presencia de las mafias.\",\n",
        "    \"Los contratos no tienen cláusulas de protección contra la manipulación de proveedores con acciones sospechosas, parece que no hay muy buena garantía de que las cosas se puedan corregir a tiempo. Las aprobaciones parecen estar demorando más de lo debido y esto ya representa una situación bastante sospechosa para lo que podría estar ocurriendo. No hay gente responsable que se atreva a denunciar estos riesgos, sobre todo cuando los proveedores vienen de Ecuador. Podría ser sospechoso que los proveedores hagan esto muy frecuentemente.\"\n",
        "]\n",
        "largo_texto = len(ejemplo_texto)"
      ]
    },
    {
      "cell_type": "code",
      "execution_count": null,
      "id": "0cf4291a-0fa5-407d-8e03-f6edb79a45a7",
      "metadata": {
        "id": "0cf4291a-0fa5-407d-8e03-f6edb79a45a7",
        "outputId": "5eb21805-e43d-4b5a-9ae4-7accc1d071db"
      },
      "outputs": [
        {
          "data": {
            "text/plain": [
              "{'processing_time': [4.954621076583862,\n",
              "  14.801689147949219,\n",
              "  14.812690496444702,\n",
              "  14.822633504867554,\n",
              "  159.4389910697937,\n",
              "  159.44996213912964,\n",
              "  159.45993494987488,\n",
              "  216.12560963630676,\n",
              "  228.78567552566528,\n",
              "  228.79664659500122,\n",
              "  228.8076171875,\n",
              "  370.2679913043976],\n",
              " 'memory_usage': [443.77734375,\n",
              "  444.0703125,\n",
              "  444.0703125,\n",
              "  444.07421875,\n",
              "  703.73046875,\n",
              "  703.73046875,\n",
              "  704.07421875,\n",
              "  716.18359375,\n",
              "  716.84765625,\n",
              "  716.8515625,\n",
              "  716.8515625,\n",
              "  726.44140625],\n",
              " 'processed_chars': 4470}"
            ]
          },
          "execution_count": 694,
          "metadata": {},
          "output_type": "execute_result"
        }
      ],
      "source": [
        "_track_performance(largo_texto)"
      ]
    },
    {
      "cell_type": "code",
      "execution_count": null,
      "id": "44b838c5-fa1a-47e5-ae51-79b240c93cb5",
      "metadata": {
        "id": "44b838c5-fa1a-47e5-ae51-79b240c93cb5"
      },
      "outputs": [],
      "source": [
        "def _extract_entities(doc) -> Dict[str, Set[str]]:\n",
        "    \"\"\"Extrae entidades relevantes del documento.\"\"\"\n",
        "    entities = {\n",
        "        'personas': set(),\n",
        "        'organizaciones': set(),\n",
        "        'lugares': set(),\n",
        "        'fechas': set(),\n",
        "        'cantidades': set()\n",
        "    }\n",
        "\n",
        "    for ent in doc.ents:\n",
        "        if ent.label_ == 'PER':\n",
        "            entities['personas'].add(ent.text)\n",
        "        elif ent.label_ == 'ORG':\n",
        "            entities['organizaciones'].add(ent.text)\n",
        "        elif ent.label_ == 'LOC':\n",
        "            entities['lugares'].add(ent.text)\n",
        "        elif ent.label_ == 'DATE':\n",
        "            entities['fechas'].add(ent.text)\n",
        "        elif ent.label_ == 'MONEY':\n",
        "            entities['cantidades'].add(ent.text)\n",
        "\n",
        "    return entities"
      ]
    },
    {
      "cell_type": "code",
      "execution_count": null,
      "id": "665f2baa-8ab9-495e-8ade-21edf2263eed",
      "metadata": {
        "id": "665f2baa-8ab9-495e-8ade-21edf2263eed",
        "outputId": "beda5c0d-4e54-48d7-be76-84933fcf9f7a"
      },
      "outputs": [
        {
          "name": "stdout",
          "output_type": "stream",
          "text": [
            "{'personas': {'Ferreñafe', 'Podría'}, 'organizaciones': {'Creo'}, 'lugares': {'Municipalidades de Trujillo'}, 'fechas': set(), 'cantidades': set()}\n",
            "{'personas': set(), 'organizaciones': {'Municipalidades de Trujillo y Ferreñafe', 'haciendo seguimiento de las visitas de este proveedor', 'un', 'Hay un'}, 'lugares': set(), 'fechas': set(), 'cantidades': {'250', '340'}}\n",
            "{'personas': set(), 'organizaciones': set(), 'lugares': {'Municipalidad de Lima'}, 'fechas': set(), 'cantidades': set()}\n",
            "{'personas': set(), 'organizaciones': {'haciendo seguimiento de las visitas de este proveedor', 'Esto', 'Tengo temor de que', 'un'}, 'lugares': set(), 'fechas': set(), 'cantidades': set()}\n",
            "{'personas': {'Podría'}, 'organizaciones': set(), 'lugares': {'Ecuador'}, 'fechas': set(), 'cantidades': set()}\n",
            "{'personas': set(), 'organizaciones': {'ya representa una situación bastante sospechosa'}, 'lugares': set(), 'fechas': set(), 'cantidades': set()}\n"
          ]
        }
      ],
      "source": [
        "for texto in ejemplo_texto:\n",
        "    doc = nlp(texto)\n",
        "    doc_en = nlp_en(texto)\n",
        "    print(_extract_entities(doc))\n",
        "    print(_extract_entities(doc_en))"
      ]
    },
    {
      "cell_type": "code",
      "execution_count": null,
      "id": "3d30550c-cfe1-4453-a992-dfec217b0808",
      "metadata": {
        "id": "3d30550c-cfe1-4453-a992-dfec217b0808"
      },
      "outputs": [],
      "source": [
        "def _build_relationship_graph(entities: Dict[str, Set[str]]) -> nx.Graph:\n",
        "    \"\"\"Construye un grafo de relaciones entre entidades.\"\"\"\n",
        "    G = nx.Graph()\n",
        "\n",
        "    # Agregar nodos\n",
        "    for entity_type, entity_set in entities.items():\n",
        "        for entity in entity_set:\n",
        "            G.add_node(entity, type=entity_type)\n",
        "\n",
        "    # Conectar entidades que aparecen en el mismo contexto\n",
        "    for entity_type1, entities1 in entities.items():\n",
        "        for entity_type2, entities2 in entities.items():\n",
        "            if entity_type1 < entity_type2:  # Evitar duplicados\n",
        "                for e1 in entities1:\n",
        "                    for e2 in entities2:\n",
        "                        G.add_edge(e1, e2, weight=1)\n",
        "\n",
        "    return G"
      ]
    },
    {
      "cell_type": "code",
      "execution_count": null,
      "id": "5f712d73-b520-4928-a5f5-ec5ae1976e9b",
      "metadata": {
        "id": "5f712d73-b520-4928-a5f5-ec5ae1976e9b"
      },
      "outputs": [],
      "source": [
        "incident_patterns = [\n",
        "    # Patrones de corrupción\n",
        "    [{'LOWER': {'IN': ['soborno', 'coima', 'riesgo', 'mordida']}},\n",
        "     {'POS': 'NOUN', 'OP': '?'}],\n",
        "    [{'LOWER': 'ofrecer'},\n",
        "     {'LOWER': 'dinero'}],\n",
        "    # Patrones de uso indebido\n",
        "    [{'LOWER': {'IN': ['robo', 'hurto', 'sustracción']}},\n",
        "     {'POS': 'ADP', 'OP': '?'},\n",
        "     {'POS': 'NOUN'}],\n",
        "    # Patrones de irregularidades\n",
        "    [{'LOWER': {'IN': ['irregular', 'sospechoso', 'sospechosa', 'dudoso', 'dudosa']}},\n",
        "     {'POS': 'NOUN'}]\n",
        "]"
      ]
    },
    {
      "cell_type": "code",
      "execution_count": null,
      "id": "95608bf0-0771-4f03-8924-41183fc0909e",
      "metadata": {
        "id": "95608bf0-0771-4f03-8924-41183fc0909e"
      },
      "outputs": [],
      "source": [
        "# Configurar el matcher de spaCy\n",
        "matcher = spacy.matcher.Matcher(nlp.vocab)"
      ]
    },
    {
      "cell_type": "code",
      "execution_count": null,
      "id": "2f38de03-0c84-4fcf-af17-179266aa83db",
      "metadata": {
        "id": "2f38de03-0c84-4fcf-af17-179266aa83db",
        "outputId": "1709ce65-4510-4aa2-fe6c-952e37325197"
      },
      "outputs": [
        {
          "name": "stdout",
          "output_type": "stream",
          "text": [
            "0 [{'LOWER': {'IN': ['soborno', 'coima', 'riesgo', 'mordida']}}, {'POS': 'NOUN', 'OP': '?'}]\n",
            "1 [{'LOWER': 'ofrecer'}, {'LOWER': 'dinero'}]\n",
            "2 [{'LOWER': {'IN': ['robo', 'hurto', 'sustracción']}}, {'POS': 'ADP', 'OP': '?'}, {'POS': 'NOUN'}]\n",
            "3 [{'LOWER': {'IN': ['irregular', 'sospechoso', 'sospechosa', 'dudoso', 'dudosa']}}, {'POS': 'NOUN'}]\n"
          ]
        }
      ],
      "source": [
        "for idx, pattern in enumerate(incident_patterns):\n",
        "    print(idx, pattern)\n",
        "    matcher.add(f\"incident_pattern_{idx}\", [pattern])"
      ]
    },
    {
      "cell_type": "code",
      "execution_count": null,
      "id": "74c78799-7fd0-491f-9849-8b8a0fda6ae4",
      "metadata": {
        "id": "74c78799-7fd0-491f-9849-8b8a0fda6ae4",
        "outputId": "398b4258-cca8-4980-e8cf-3e017289a9ff"
      },
      "outputs": [
        {
          "data": {
            "text/plain": [
              "[]"
            ]
          },
          "execution_count": 740,
          "metadata": {},
          "output_type": "execute_result"
        }
      ],
      "source": [
        "matches = matcher(doc)\n",
        "matches"
      ]
    },
    {
      "cell_type": "code",
      "execution_count": null,
      "id": "88d3f72b-b887-477b-9ef8-fef7197a34f9",
      "metadata": {
        "id": "88d3f72b-b887-477b-9ef8-fef7197a34f9"
      },
      "outputs": [],
      "source": [
        "def _detect_incident_patterns(doc, matches) -> List[Dict]:\n",
        "    \"\"\"Detecta patrones de incidentes en el texto.\"\"\"\n",
        "    incidents = []\n",
        "\n",
        "    for match_id, start, end in matches:\n",
        "        print(start, end)\n",
        "        span = doc[start:end]\n",
        "        sentence = span.sent\n",
        "        main_verbs = [token.text for token in sentence\n",
        "                     if token.pos_ == \"VERB\" and token.dep_ in [\"ROOT\", \"ccomp\"]]\n",
        "\n",
        "        incidents.append({\n",
        "            'pattern': span.text,\n",
        "            'sentence': sentence.text,\n",
        "            'verbs': main_verbs,\n",
        "            'start_char': sentence.start_char,\n",
        "            'end_char': sentence.end_char\n",
        "        })\n",
        "\n",
        "    return incidents"
      ]
    },
    {
      "cell_type": "code",
      "execution_count": null,
      "id": "c624239b-f372-4705-8545-fbe4e2e0905b",
      "metadata": {
        "id": "c624239b-f372-4705-8545-fbe4e2e0905b"
      },
      "outputs": [],
      "source": [
        "def train_word2vec(texts: List[str]):\n",
        "    \"\"\"Entrena un modelo Word2Vec con los textos proporcionados.\"\"\"\n",
        "    sentences = []\n",
        "    for text in texts:\n",
        "        doc = nlp(text)\n",
        "        sentences.append([token.text.lower() for token in doc\n",
        "                        if not token.is_stop and not token.is_punct])\n",
        "\n",
        "    word2vec = Word2Vec(sentences, vector_size=100, window=5, min_count=1)"
      ]
    },
    {
      "cell_type": "code",
      "execution_count": null,
      "id": "8b3d4cfb-b9ff-48c5-9f5d-d3fab2f15cf0",
      "metadata": {
        "id": "8b3d4cfb-b9ff-48c5-9f5d-d3fab2f15cf0"
      },
      "outputs": [],
      "source": [
        "def find_similar_incidents(texts: List[str], min_similarity: float = 0.5) -> List[List[int]]:\n",
        "    \"\"\"\n",
        "    Encuentra grupos de incidentes similares usando DBSCAN.\n",
        "    \"\"\"\n",
        "    # Preprocesar textos eliminando stop words\n",
        "    processed_texts = []\n",
        "    for text in texts:\n",
        "        doc = nlp(text.lower())\n",
        "        words = [token.text for token in doc if token.text not in stop_words]\n",
        "        processed_texts.append(' '.join(words))\n",
        "\n",
        "    # Vectorizar textos preprocesados\n",
        "    X = tfidf.fit_transform(processed_texts)\n",
        "\n",
        "    # Calcular matriz de similitud y asegurarse que está en el rango [0,1]\n",
        "    similarities = cosine_similarity(X)\n",
        "    similarities = np.clip(similarities, 0, 1)  # Forzar rango [0,1]\n",
        "\n",
        "    # Convertir similitudes a distancias y asegurarse que son no-negativas\n",
        "    distances = np.clip(1 - similarities, 0, 1)  # Forzar rango [0,1]\n",
        "\n",
        "    try:\n",
        "        # Aplicar DBSCAN con parámetros ajustados\n",
        "        clustering = DBSCAN(\n",
        "            eps=min_similarity,\n",
        "            min_samples=1,  # Reducido a 1 para ser más permisivo\n",
        "            metric='precomputed'\n",
        "        ).fit(distances)\n",
        "\n",
        "        # Agrupar índices por cluster\n",
        "        clusters = defaultdict(list)\n",
        "        for idx, label in enumerate(clustering.labels_):\n",
        "            if label != -1:  # Ignorar ruido\n",
        "                clusters[label].append(idx)\n",
        "\n",
        "        return list(clusters.values())\n",
        "\n",
        "    except Exception as e:\n",
        "        print(f\"Error en clustering: {e}\")\n",
        "        print(\"Detalles de la matriz de distancias:\")\n",
        "        print(f\"Shape: {distances.shape}\")\n",
        "        print(f\"Min: {distances.min()}, Max: {distances.max()}\")\n",
        "        print(f\"Tiene valores negativos: {(distances < 0).any()}\")\n",
        "        return []"
      ]
    },
    {
      "cell_type": "code",
      "execution_count": null,
      "id": "05540a52-edaa-47d3-995f-8bcb9cea2cfb",
      "metadata": {
        "id": "05540a52-edaa-47d3-995f-8bcb9cea2cfb"
      },
      "outputs": [],
      "source": [
        "def analyze_incident(text: str) -> Dict:\n",
        "    start_time = time.time()\n",
        "    doc = nlp(text)\n",
        "    entities = _extract_entities(doc)\n",
        "    matches = matcher(doc)\n",
        "    incidents = _detect_incident_patterns(doc, matches)\n",
        "    relationship_graph = _build_relationship_graph(entities)\n",
        "\n",
        "    complexity_metrics = {\n",
        "        'num_sentences': len(list(doc.sents)),\n",
        "        'num_entities': sum(len(e) for e in entities.values()),\n",
        "        'num_incident_patterns': len(incidents),\n",
        "        'relationships_density': nx.density(relationship_graph)\n",
        "    }\n",
        "\n",
        "    _track_performance(len(text))\n",
        "\n",
        "    return {\n",
        "        'entities': entities,\n",
        "        'incidents': incidents,\n",
        "        'complexity': complexity_metrics,\n",
        "        'processing_time': time.time() - start_time\n",
        "    }"
      ]
    },
    {
      "cell_type": "code",
      "execution_count": null,
      "id": "6d1e74b9-8ac7-44ec-97d0-377073d9c954",
      "metadata": {
        "id": "6d1e74b9-8ac7-44ec-97d0-377073d9c954"
      },
      "outputs": [],
      "source": [
        "def analyze_batch(texts: List[str]) -> Dict:\n",
        "    results = []\n",
        "    for text in texts:\n",
        "        results.append(analyze_incident(text))\n",
        "\n",
        "    # Encontrar incidentes similares\n",
        "    similar_groups = find_similar_incidents(texts)\n",
        "\n",
        "    # Entrenar modelo Word2Vec si no existe\n",
        "    if word2vec is None:\n",
        "        train_word2vec(texts)\n",
        "\n",
        "    # Calcular estadísticas agregadas\n",
        "    total_incidents = sum(len(r['incidents']) for r in results)\n",
        "    total_entities = sum(len(r['entities']['personas']) for r in results)\n",
        "    avg_processing_time = np.mean([r['processing_time'] for r in results])\n",
        "\n",
        "    return {\n",
        "        'individual_results': results,\n",
        "        'similar_incident_groups': similar_groups,\n",
        "        'statistics': {\n",
        "            'total_incidents': total_incidents,\n",
        "            'total_entities': total_entities,\n",
        "            'avg_processing_time': avg_processing_time\n",
        "        },\n",
        "        'performance': performance_metrics\n",
        "    }"
      ]
    },
    {
      "cell_type": "code",
      "execution_count": null,
      "id": "a5d0e1df-3175-4b36-8668-90341157c10d",
      "metadata": {
        "id": "a5d0e1df-3175-4b36-8668-90341157c10d",
        "outputId": "dc2bc61e-18a0-4b78-9f01-a4f29e282735"
      },
      "outputs": [
        {
          "name": "stdout",
          "output_type": "stream",
          "text": [
            "17 18\n",
            "52 53\n"
          ]
        },
        {
          "data": {
            "text/plain": [
              "dict_keys(['individual_results', 'similar_incident_groups', 'statistics', 'performance'])"
            ]
          },
          "execution_count": 756,
          "metadata": {},
          "output_type": "execute_result"
        }
      ],
      "source": [
        "# Ejecutar el análisis primero\n",
        "analysis_results = analyze_batch(ejemplo_texto)\n",
        "analysis_results.keys()"
      ]
    },
    {
      "cell_type": "code",
      "execution_count": null,
      "id": "29c44ef3-4b5f-4487-b7d1-8beec122ddcc",
      "metadata": {
        "id": "29c44ef3-4b5f-4487-b7d1-8beec122ddcc"
      },
      "outputs": [],
      "source": [
        "def generate_cost_comparison(num_reports: int, avg_report_length: int, llm_cost_per_token: float = 0.0001) -> Dict:\n",
        "\n",
        "    # Estimar costos de NLP tradicional\n",
        "    avg_processing_time = np.mean(performance_metrics['processing_time'])\n",
        "    avg_memory_usage = np.mean(performance_metrics['memory_usage'])\n",
        "\n",
        "    # Costo computacional por hora (ejemplo)\n",
        "    compute_cost_per_hour = 0.50  # USD\n",
        "\n",
        "    # Calcular costos totales\n",
        "    total_chars = num_reports * avg_report_length\n",
        "    estimated_processing_time = (total_chars / performance_metrics['processed_chars']) * avg_processing_time\n",
        "\n",
        "    traditional_nlp_cost = (estimated_processing_time / 3600) * compute_cost_per_hour\n",
        "\n",
        "    # Estimar costos de LLM\n",
        "    # Asumiendo 4 caracteres por token en promedio\n",
        "    estimated_tokens = (total_chars / 4) * 2  # *2 para considerar tokens de entrada y salida\n",
        "    llm_cost = estimated_tokens * llm_cost_per_token\n",
        "\n",
        "    return {\n",
        "        'traditional_nlp': {\n",
        "            'processing_time_hours': estimated_processing_time / 3600,\n",
        "            'memory_usage_mb': avg_memory_usage,\n",
        "            'compute_cost_usd': traditional_nlp_cost\n",
        "        },\n",
        "        'llm': {\n",
        "            'estimated_tokens': estimated_tokens,\n",
        "            'cost_usd': llm_cost\n",
        "        },\n",
        "        'comparison': {\n",
        "            'cost_difference_usd': llm_cost - traditional_nlp_cost,\n",
        "            'cost_ratio': llm_cost / traditional_nlp_cost if traditional_nlp_cost > 0 else float('inf')\n",
        "        }\n",
        "    }"
      ]
    },
    {
      "cell_type": "code",
      "execution_count": null,
      "id": "c2e24c68-9e40-4910-8bc1-b04053783d09",
      "metadata": {
        "id": "c2e24c68-9e40-4910-8bc1-b04053783d09",
        "outputId": "8156f836-26d8-44e8-cd49-c2c7bdaceccd"
      },
      "outputs": [
        {
          "data": {
            "text/plain": [
              "{'traditional_nlp': {'processing_time_hours': 0.00012933729958845993,\n",
              "  'memory_usage_mb': 658.9487847222222,\n",
              "  'compute_cost_usd': 6.466864979422996e-05},\n",
              " 'llm': {'estimated_tokens': 7.5, 'cost_usd': 0.00075},\n",
              " 'comparison': {'cost_difference_usd': 0.00068533135020577,\n",
              "  'cost_ratio': 11.597582482183174}}"
            ]
          },
          "execution_count": 774,
          "metadata": {},
          "output_type": "execute_result"
        }
      ],
      "source": [
        "generate_cost_comparison(3, 5, 0.0001)"
      ]
    },
    {
      "cell_type": "code",
      "execution_count": null,
      "id": "4c8c09a7-c17d-4886-b240-c7e303bcfe89",
      "metadata": {
        "id": "4c8c09a7-c17d-4886-b240-c7e303bcfe89",
        "outputId": "92a1b223-0eaf-4e03-ab38-2175c9cb0600"
      },
      "outputs": [
        {
          "data": {
            "image/png": "[encoded data removed]",
            "text/plain": [
              "<Figure size 1200x800 with 2 Axes>"
            ]
          },
          "metadata": {},
          "output_type": "display_data"
        }
      ],
      "source": [
        "# 1. Gráfico de rendimiento\n",
        "fig, (ax1, ax2) = plt.subplots(2, 1, figsize=(12, 8))\n",
        "\n",
        "times = performance_metrics['processing_time']\n",
        "ax1.plot(times)\n",
        "ax1.set_title('Tiempo de Procesamiento por Reporte')\n",
        "ax1.set_xlabel('Número de Reporte')\n",
        "ax1.set_ylabel('Tiempo (s)')\n",
        "\n",
        "memory = performance_metrics['memory_usage']\n",
        "ax2.plot(memory)\n",
        "ax2.set_title('Uso de Memoria por Reporte')\n",
        "ax2.set_xlabel('Número de Reporte')\n",
        "ax2.set_ylabel('Memoria (MB)')\n",
        "\n",
        "plt.tight_layout()\n",
        "plt.show()"
      ]
    },
    {
      "cell_type": "code",
      "execution_count": null,
      "id": "f3df4656-5cc2-41e0-915b-319cafe62cb4",
      "metadata": {
        "id": "f3df4656-5cc2-41e0-915b-319cafe62cb4",
        "outputId": "2e300e46-317d-4bef-fc51-cbf5270d52d2"
      },
      "outputs": [
        {
          "data": {
            "image/png": "[encoded data removed]",
            "text/plain": [
              "<Figure size 1200x600 with 1 Axes>"
            ]
          },
          "metadata": {},
          "output_type": "display_data"
        }
      ],
      "source": [
        "# 2. Distribución de tipos de incidentes\n",
        "incident_types = []\n",
        "for result in analysis_results['individual_results']:\n",
        "    for incident in result['incidents']:\n",
        "        incident_types.append(incident['pattern'])\n",
        "\n",
        "plt.figure(figsize=(12, 6))\n",
        "pd.Series(incident_types).value_counts().plot(kind='bar')\n",
        "plt.title('Distribución de Tipos de Incidentes')\n",
        "plt.xticks(rotation=45)\n",
        "plt.tight_layout()\n",
        "plt.show()"
      ]
    },
    {
      "cell_type": "code",
      "execution_count": null,
      "id": "c6c9a4e7-4ae7-40be-9ef4-c4aedc3cdee7",
      "metadata": {
        "id": "c6c9a4e7-4ae7-40be-9ef4-c4aedc3cdee7",
        "outputId": "1795cb94-9bef-4237-f402-e6fdff30ffb2"
      },
      "outputs": [
        {
          "data": {
            "image/png": "[encoded data removed]",
            "text/plain": [
              "<Figure size 800x800 with 1 Axes>"
            ]
          },
          "metadata": {},
          "output_type": "display_data"
        }
      ],
      "source": [
        "# 3. Red de relaciones entre entidades\n",
        "G = nx.Graph()\n",
        "for result in analysis_results['individual_results']:\n",
        "    entities = result['entities']\n",
        "    for entity_type, entity_set in entities.items():\n",
        "        for entity in entity_set:\n",
        "            G.add_node(entity, type=entity_type)\n",
        "\n",
        "plt.figure(figsize=(8, 8))\n",
        "pos = nx.spring_layout(G)\n",
        "nx.draw(G, pos, with_labels=True, node_color='lightblue',\n",
        "        node_size=1000, font_size=8)\n",
        "plt.title('Red de Relaciones entre Entidades')\n",
        "plt.show()"
      ]
    },
    {
      "cell_type": "code",
      "execution_count": null,
      "id": "f252c2b6-520b-4c4f-852b-723969b23d54",
      "metadata": {
        "id": "f252c2b6-520b-4c4f-852b-723969b23d54"
      },
      "outputs": [],
      "source": []
    },
    {
      "cell_type": "code",
      "execution_count": null,
      "id": "9c85cfc9-07af-44c4-88fe-0d07ff7920e1",
      "metadata": {
        "id": "9c85cfc9-07af-44c4-88fe-0d07ff7920e1"
      },
      "outputs": [],
      "source": []
    }
  ],
  "metadata": {
    "kernelspec": {
      "display_name": "Python [conda env:base] *",
      "language": "python",
      "name": "conda-base-py"
    },
    "language_info": {
      "codemirror_mode": {
        "name": "ipython",
        "version": 3
      },
      "file_extension": ".py",
      "mimetype": "text/x-python",
      "name": "python",
      "nbconvert_exporter": "python",
      "pygments_lexer": "ipython3",
      "version": "3.11.7"
    },
    "colab": {
      "provenance": [],
      "include_colab_link": true
    }
  },
  "nbformat": 4,
  "nbformat_minor": 5
}