{
  "nbformat": 4,
  "nbformat_minor": 0,
  "metadata": {
    "colab": {
      "provenance": [],
      "authorship_tag": "ABX9TyNHUW0pBeCYucx1R5kdu2y5",
      "include_colab_link": true
    },
    "kernelspec": {
      "name": "python3",
      "display_name": "Python 3"
    },
    "language_info": {
      "name": "python"
    }
  },
  "cells": [
    {
      "cell_type": "markdown",
      "metadata": {
        "id": "view-in-github",
        "colab_type": "text"
      },
      "source": [
        "<a href=\"https://colab.research.google.com/github/jcmachicaocuf/CUF__NLP_LLM/blob/main/cuf_nlp_wk02___LenguageCognicion_v2.ipynb\" target=\"_parent\"><img src=\"https://colab.research.google.com/assets/colab-badge.svg\" alt=\"Open In Colab\"/></a>"
      ]
    },
    {
      "cell_type": "code",
      "source": [
        "import spacy\n",
        "!python -m spacy download es_core_news_sm # Descarga el modelo de español de spaCy\n",
        "nlp = spacy.load(\"es_core_news_sm\") # Importa el modelo de español"
      ],
      "metadata": {
        "collapsed": true,
        "id": "fA3CoBvSueVN"
      },
      "execution_count": null,
      "outputs": []
    },
    {
      "cell_type": "code",
      "source": [
        "# Ejemplo de texto en español: Extrae las entidades nombradas (NER)\n",
        "text = \"Apple está construyendo una nueva sede en Cupertino, California.\"\n",
        "doc = nlp(text)\n",
        "\n",
        "for ent in doc.ents:\n",
        "    print(ent.text, ent.label_)"
      ],
      "metadata": {
        "colab": {
          "base_uri": "https://localhost:8080/"
        },
        "id": "sB6wiecruh7K",
        "outputId": "357d7d89-228e-4df5-8609-5adac45383d3"
      },
      "execution_count": null,
      "outputs": [
        {
          "output_type": "stream",
          "name": "stdout",
          "text": [
            "Apple ORG\n",
            "Cupertino LOC\n",
            "California LOC\n"
          ]
        }
      ]
    },
    {
      "cell_type": "code",
      "source": [
        "# Construcción de Memoria\n",
        "memory = {}\n",
        "def add_to_memory(key, value):\n",
        "    memory[key] = value\n",
        "\n",
        "add_to_memory(\"Python\", \"Lenguaje de programación popular.\")\n",
        "add_to_memory(\"SpaCy\", \"Biblioteca para procesamiento de lenguaje natural.\")"
      ],
      "metadata": {
        "id": "5MJFaLsn0mke"
      },
      "execution_count": null,
      "outputs": []
    },
    {
      "cell_type": "code",
      "source": [
        "# Responder usando la memoria\n",
        "pregunta = \"¿Qué es SpaCy?\"\n",
        "doc = nlp(pregunta)\n",
        "for ent in doc.ents:\n",
        "    if ent.text in memory:\n",
        "        print(ent)\n",
        "        print(memory[ent.text])\n",
        "        break\n",
        "    else:\n",
        "        print(\"No encontré una respuesta en la memoria.\")"
      ],
      "metadata": {
        "colab": {
          "base_uri": "https://localhost:8080/"
        },
        "id": "UMW6Dtfl0v4c",
        "outputId": "564099cd-46c4-423e-fe3e-a5cb485a23ce"
      },
      "execution_count": null,
      "outputs": [
        {
          "output_type": "stream",
          "name": "stdout",
          "text": [
            "No encontré una respuesta en la memoria.\n",
            "SpaCy\n",
            "Biblioteca para procesamiento de lenguaje natural.\n"
          ]
        }
      ]
    }
  ]
}