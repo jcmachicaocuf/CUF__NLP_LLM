{
  "nbformat": 4,
  "nbformat_minor": 0,
  "metadata": {
    "colab": {
      "provenance": [],
      "include_colab_link": true
    },
    "kernelspec": {
      "name": "python3",
      "display_name": "Python 3"
    }
  },
  "cells": [
    {
      "cell_type": "markdown",
      "metadata": {
        "id": "view-in-github",
        "colab_type": "text"
      },
      "source": [
        "<a href=\"https://colab.research.google.com/github/jcmachicaocuf/CUF__NLP_LLM/blob/main/nlp__chunking_demo_monitoreo_medios.ipynb\" target=\"_parent\"><img src=\"https://colab.research.google.com/assets/colab-badge.svg\" alt=\"Open In Colab\"/></a>"
      ]
    },
    {
      "cell_type": "code",
      "metadata": {
        "id": "zGqdk8C8b-fL",
        "cellView": "form",
        "colab": {
          "base_uri": "https://localhost:8080/",
          "height": 33
        },
        "outputId": "a06a8a9f-ddbc-44b7-9609-6f05a59912c2"
      },
      "source": [
        "#@title Instalaciones\n",
        "!pip install PyPDF2"
      ],
      "execution_count": null,
      "outputs": [
        {
          "output_type": "stream",
          "text": [
            "Requirement already satisfied: PyPDF2 in /usr/local/lib/python3.6/dist-packages (1.26.0)\n"
          ],
          "name": "stdout"
        }
      ]
    },
    {
      "cell_type": "code",
      "metadata": {
        "id": "AcBwX_6Pb6ka",
        "colab": {
          "base_uri": "https://localhost:8080/",
          "height": 50
        },
        "outputId": "1786a343-9dcd-451d-b315-ea038b27ebaa"
      },
      "source": [
        "#@title Librerías\n",
        "import PyPDF2\n",
        "import pandas as pd\n",
        "import re\n",
        "import nltk\n",
        "nltk.download('punkt')\n",
        "from nltk import word_tokenize\n",
        "from nltk.probability import FreqDist"
      ],
      "execution_count": null,
      "outputs": [
        {
          "output_type": "stream",
          "text": [
            "[nltk_data] Downloading package punkt to /root/nltk_data...\n",
            "[nltk_data]   Package punkt is already up-to-date!\n"
          ],
          "name": "stdout"
        }
      ]
    },
    {
      "cell_type": "code",
      "metadata": {
        "id": "RZwUeozcalQ6",
        "colab": {
          "base_uri": "https://localhost:8080/",
          "height": 33
        },
        "outputId": "eb470de3-f6ea-4c91-9bda-06404da881aa"
      },
      "source": [
        "from google.colab import drive\n",
        "drive.mount('/content/drive')\n",
        "\n"
      ],
      "execution_count": null,
      "outputs": [
        {
          "output_type": "stream",
          "text": [
            "Drive already mounted at /content/drive; to attempt to forcibly remount, call drive.mount(\"/content/drive\", force_remount=True).\n"
          ],
          "name": "stdout"
        }
      ]
    },
    {
      "cell_type": "code",
      "metadata": {
        "id": "TOOyBBRtsIqF"
      },
      "source": [
        "ruta = 'drive/My Drive/Propuestas/propuestas_geodinamica/data/results/'\n"
      ],
      "execution_count": null,
      "outputs": []
    },
    {
      "cell_type": "code",
      "metadata": {
        "id": "aj6cjTR-AdkK"
      },
      "source": [
        "textos = pd.read_excel(ruta + 'parrafos_procesados.xlsx')\n",
        "textos = textos.iloc[:,1:]"
      ],
      "execution_count": null,
      "outputs": []
    },
    {
      "cell_type": "code",
      "metadata": {
        "id": "rpEoCYkJDIRs",
        "colab": {
          "base_uri": "https://localhost:8080/",
          "height": 414
        },
        "outputId": "3a12b316-3b3f-4ce4-c2f1-167eb244a6e8"
      },
      "source": [
        "textos.head()"
      ],
      "execution_count": null,
      "outputs": [
        {
          "output_type": "execute_result",
          "data": {
            "text/html": [
              "<div>\n",
              "<style scoped>\n",
              "    .dataframe tbody tr th:only-of-type {\n",
              "        vertical-align: middle;\n",
              "    }\n",
              "\n",
              "    .dataframe tbody tr th {\n",
              "        vertical-align: top;\n",
              "    }\n",
              "\n",
              "    .dataframe thead th {\n",
              "        text-align: right;\n",
              "    }\n",
              "</style>\n",
              "<table border=\"1\" class=\"dataframe\">\n",
              "  <thead>\n",
              "    <tr style=\"text-align: right;\">\n",
              "      <th></th>\n",
              "      <th>documento</th>\n",
              "      <th>titulo</th>\n",
              "      <th>texto</th>\n",
              "      <th>departamento</th>\n",
              "      <th>medio</th>\n",
              "      <th>intensidad</th>\n",
              "      <th>polaridad</th>\n",
              "      <th>acuerdo</th>\n",
              "      <th>subjetividad</th>\n",
              "      <th>confianza</th>\n",
              "      <th>ironía</th>\n",
              "    </tr>\n",
              "  </thead>\n",
              "  <tbody>\n",
              "    <tr>\n",
              "      <th>0</th>\n",
              "      <td>N° 2792_13-06-2020</td>\n",
              "      <td>Suspenden proceso electoral en la UNSA</td>\n",
              "      <td>La jueza del Juzgado Especializado Constituci...</td>\n",
              "      <td>Arequipa</td>\n",
              "      <td>Diario Correo</td>\n",
              "      <td>1</td>\n",
              "      <td>P</td>\n",
              "      <td>AGREEMENT</td>\n",
              "      <td>OBJECTIVE</td>\n",
              "      <td>100</td>\n",
              "      <td>NONIRONIC</td>\n",
              "    </tr>\n",
              "    <tr>\n",
              "      <th>1</th>\n",
              "      <td>N° 2792_13-06-2020</td>\n",
              "      <td>Agricultores del valle de Tambo realiza cace...</td>\n",
              "      <td>El día ayer los agricultores del valle de Tam...</td>\n",
              "      <td>Arequipa</td>\n",
              "      <td>La República</td>\n",
              "      <td>3</td>\n",
              "      <td>N</td>\n",
              "      <td>AGREEMENT</td>\n",
              "      <td>OBJECTIVE</td>\n",
              "      <td>100</td>\n",
              "      <td>NONIRONIC</td>\n",
              "    </tr>\n",
              "    <tr>\n",
              "      <th>2</th>\n",
              "      <td>N° 2792_13-06-2020</td>\n",
              "      <td>Población quema antena de telefonía y retie...</td>\n",
              "      <td>En el centro poblado de Huanacopampa, en el d...</td>\n",
              "      <td>Huancavelica</td>\n",
              "      <td>Diario Correo</td>\n",
              "      <td>4</td>\n",
              "      <td>N</td>\n",
              "      <td>AGREEMENT</td>\n",
              "      <td>OBJECTIVE</td>\n",
              "      <td>100</td>\n",
              "      <td>NONIRONIC</td>\n",
              "    </tr>\n",
              "    <tr>\n",
              "      <th>3</th>\n",
              "      <td>N° 2792_13-06-2020</td>\n",
              "      <td>Contraloría supervisó penal El Milagro</td>\n",
              "      <td>El día de ayer, la Contraloría General de la ...</td>\n",
              "      <td>La Libertad</td>\n",
              "      <td>Diario Correo</td>\n",
              "      <td>1</td>\n",
              "      <td>N</td>\n",
              "      <td>AGREEMENT</td>\n",
              "      <td>OBJECTIVE</td>\n",
              "      <td>100</td>\n",
              "      <td>NONIRONIC</td>\n",
              "    </tr>\n",
              "    <tr>\n",
              "      <th>4</th>\n",
              "      <td>N° 2792_13-06-2020</td>\n",
              "      <td>Personal de salud del Hospital Víctor Lazart...</td>\n",
              "      <td>El día de ayer, un grupo de personal de salud...</td>\n",
              "      <td>La Libertad</td>\n",
              "      <td>TV Cosmos</td>\n",
              "      <td>3</td>\n",
              "      <td>N</td>\n",
              "      <td>AGREEMENT</td>\n",
              "      <td>SUBJECTIVE</td>\n",
              "      <td>92</td>\n",
              "      <td>NONIRONIC</td>\n",
              "    </tr>\n",
              "  </tbody>\n",
              "</table>\n",
              "</div>"
            ],
            "text/plain": [
              "             documento  ...     ironía\n",
              "0   N° 2792_13-06-2020  ...  NONIRONIC\n",
              "1   N° 2792_13-06-2020  ...  NONIRONIC\n",
              "2   N° 2792_13-06-2020  ...  NONIRONIC\n",
              "3   N° 2792_13-06-2020  ...  NONIRONIC\n",
              "4   N° 2792_13-06-2020  ...  NONIRONIC\n",
              "\n",
              "[5 rows x 11 columns]"
            ]
          },
          "metadata": {
            "tags": []
          },
          "execution_count": 65
        }
      ]
    },
    {
      "cell_type": "markdown",
      "metadata": {
        "id": "JXTedsZs99W3"
      },
      "source": [
        "# Spacy para eventos de conflictos"
      ]
    },
    {
      "cell_type": "code",
      "metadata": {
        "id": "QEz2Ym-awaHG",
        "colab": {
          "base_uri": "https://localhost:8080/",
          "height": 486
        },
        "outputId": "141c4045-b2fb-49fe-e1b0-cb90549d751a"
      },
      "source": [
        "!python -m spacy download es"
      ],
      "execution_count": null,
      "outputs": [
        {
          "output_type": "stream",
          "text": [
            "Requirement already satisfied: es_core_news_sm==2.2.5 from https://github.com/explosion/spacy-models/releases/download/es_core_news_sm-2.2.5/es_core_news_sm-2.2.5.tar.gz#egg=es_core_news_sm==2.2.5 in /usr/local/lib/python3.6/dist-packages (2.2.5)\n",
            "Requirement already satisfied: spacy>=2.2.2 in /usr/local/lib/python3.6/dist-packages (from es_core_news_sm==2.2.5) (2.2.4)\n",
            "Requirement already satisfied: preshed<3.1.0,>=3.0.2 in /usr/local/lib/python3.6/dist-packages (from spacy>=2.2.2->es_core_news_sm==2.2.5) (3.0.2)\n",
            "Requirement already satisfied: murmurhash<1.1.0,>=0.28.0 in /usr/local/lib/python3.6/dist-packages (from spacy>=2.2.2->es_core_news_sm==2.2.5) (1.0.2)\n",
            "Requirement already satisfied: setuptools in /usr/local/lib/python3.6/dist-packages (from spacy>=2.2.2->es_core_news_sm==2.2.5) (47.3.1)\n",
            "Requirement already satisfied: thinc==7.4.0 in /usr/local/lib/python3.6/dist-packages (from spacy>=2.2.2->es_core_news_sm==2.2.5) (7.4.0)\n",
            "Requirement already satisfied: wasabi<1.1.0,>=0.4.0 in /usr/local/lib/python3.6/dist-packages (from spacy>=2.2.2->es_core_news_sm==2.2.5) (0.7.0)\n",
            "Requirement already satisfied: requests<3.0.0,>=2.13.0 in /usr/local/lib/python3.6/dist-packages (from spacy>=2.2.2->es_core_news_sm==2.2.5) (2.23.0)\n",
            "Requirement already satisfied: srsly<1.1.0,>=1.0.2 in /usr/local/lib/python3.6/dist-packages (from spacy>=2.2.2->es_core_news_sm==2.2.5) (1.0.2)\n",
            "Requirement already satisfied: tqdm<5.0.0,>=4.38.0 in /usr/local/lib/python3.6/dist-packages (from spacy>=2.2.2->es_core_news_sm==2.2.5) (4.41.1)\n",
            "Requirement already satisfied: numpy>=1.15.0 in /usr/local/lib/python3.6/dist-packages (from spacy>=2.2.2->es_core_news_sm==2.2.5) (1.18.5)\n",
            "Requirement already satisfied: plac<1.2.0,>=0.9.6 in /usr/local/lib/python3.6/dist-packages (from spacy>=2.2.2->es_core_news_sm==2.2.5) (1.1.3)\n",
            "Requirement already satisfied: catalogue<1.1.0,>=0.0.7 in /usr/local/lib/python3.6/dist-packages (from spacy>=2.2.2->es_core_news_sm==2.2.5) (1.0.0)\n",
            "Requirement already satisfied: cymem<2.1.0,>=2.0.2 in /usr/local/lib/python3.6/dist-packages (from spacy>=2.2.2->es_core_news_sm==2.2.5) (2.0.3)\n",
            "Requirement already satisfied: blis<0.5.0,>=0.4.0 in /usr/local/lib/python3.6/dist-packages (from spacy>=2.2.2->es_core_news_sm==2.2.5) (0.4.1)\n",
            "Requirement already satisfied: idna<3,>=2.5 in /usr/local/lib/python3.6/dist-packages (from requests<3.0.0,>=2.13.0->spacy>=2.2.2->es_core_news_sm==2.2.5) (2.9)\n",
            "Requirement already satisfied: urllib3!=1.25.0,!=1.25.1,<1.26,>=1.21.1 in /usr/local/lib/python3.6/dist-packages (from requests<3.0.0,>=2.13.0->spacy>=2.2.2->es_core_news_sm==2.2.5) (1.24.3)\n",
            "Requirement already satisfied: certifi>=2017.4.17 in /usr/local/lib/python3.6/dist-packages (from requests<3.0.0,>=2.13.0->spacy>=2.2.2->es_core_news_sm==2.2.5) (2020.6.20)\n",
            "Requirement already satisfied: chardet<4,>=3.0.2 in /usr/local/lib/python3.6/dist-packages (from requests<3.0.0,>=2.13.0->spacy>=2.2.2->es_core_news_sm==2.2.5) (3.0.4)\n",
            "Requirement already satisfied: importlib-metadata>=0.20; python_version < \"3.8\" in /usr/local/lib/python3.6/dist-packages (from catalogue<1.1.0,>=0.0.7->spacy>=2.2.2->es_core_news_sm==2.2.5) (1.6.1)\n",
            "Requirement already satisfied: zipp>=0.5 in /usr/local/lib/python3.6/dist-packages (from importlib-metadata>=0.20; python_version < \"3.8\"->catalogue<1.1.0,>=0.0.7->spacy>=2.2.2->es_core_news_sm==2.2.5) (3.1.0)\n",
            "\u001b[38;5;2m✔ Download and installation successful\u001b[0m\n",
            "You can now load the model via spacy.load('es_core_news_sm')\n",
            "\u001b[38;5;2m✔ Linking successful\u001b[0m\n",
            "/usr/local/lib/python3.6/dist-packages/es_core_news_sm -->\n",
            "/usr/local/lib/python3.6/dist-packages/spacy/data/es\n",
            "You can now load the model via spacy.load('es')\n"
          ],
          "name": "stdout"
        }
      ]
    },
    {
      "cell_type": "code",
      "metadata": {
        "id": "2Seb82GFwRRj"
      },
      "source": [
        "import spacy\n",
        "from string import punctuation\n",
        "nlp = spacy.load(\"es\")\n"
      ],
      "execution_count": null,
      "outputs": []
    },
    {
      "cell_type": "code",
      "metadata": {
        "id": "sbicYUtET_Bi"
      },
      "source": [
        "from spacy.lemmatizer import Lemmatizer, ADJ, NOUN, VERB\n",
        "\n",
        "lemmatizer = nlp.vocab.morphology.lemmatizer"
      ],
      "execution_count": null,
      "outputs": []
    },
    {
      "cell_type": "code",
      "metadata": {
        "id": "GZe7GTF6wimL"
      },
      "source": [
        "def get_hotverbs(text):\n",
        "    result = []\n",
        "    pos_tag = ['VERB']\n",
        "    #pos_tag = ['PROPN', 'NOUN'] # 1\n",
        "    doc = nlp(text.lower()) # 2\n",
        "    for token in doc:\n",
        "        # 3\n",
        "        if(token.text in nlp.Defaults.stop_words or token.text in punctuation):\n",
        "            continue\n",
        "        # 4\n",
        "        if(token.pos_ in pos_tag):\n",
        "            result.append(token.text)\n",
        "\n",
        "    return result # 5"
      ],
      "execution_count": null,
      "outputs": []
    },
    {
      "cell_type": "code",
      "metadata": {
        "id": "RwmSYBQvHFo1"
      },
      "source": [
        "def get_hotnouns(text):\n",
        "    result = []\n",
        "    pos_tag = ['PROPN', 'NOUN'] # 1\n",
        "    doc = nlp(text.lower()) # 2\n",
        "    for token in doc:\n",
        "        # 3\n",
        "        if(token.text in nlp.Defaults.stop_words or token.text in punctuation):\n",
        "            continue\n",
        "        # 4\n",
        "        if(token.pos_ in pos_tag):\n",
        "            result.append(token.text)\n",
        "\n",
        "    return result # 5"
      ],
      "execution_count": null,
      "outputs": []
    },
    {
      "cell_type": "code",
      "metadata": {
        "id": "ezbEQ25LwsWA"
      },
      "source": [
        "import itertools\n",
        "from collections import Counter\n",
        "textos['verbos_evento']=textos.apply(lambda row:get_hotverbs(row['texto']),axis=1)\n",
        "textos['nouns_evento']=textos.apply(lambda row:get_hotnouns(row['texto']),axis=1)"
      ],
      "execution_count": null,
      "outputs": []
    },
    {
      "cell_type": "code",
      "metadata": {
        "id": "a2RfSX-lHUVJ"
      },
      "source": [
        "textos['verbos_titular']=textos.apply(lambda row:get_hotverbs(row['titulo']),axis=1)\n",
        "textos['nouns_titular']=textos.apply(lambda row:get_hotnouns(row['titulo']),axis=1)\n",
        "textos['verbos_titular_lemma']=textos.apply(lambda row:get_hotverbs_lemma(row['titulo']),axis=1)\n",
        "textos['nouns_titular_lemma']=textos.apply(lambda row:get_hotnouns_lemma(row['titulo']),axis=1)"
      ],
      "execution_count": null,
      "outputs": []
    },
    {
      "cell_type": "code",
      "metadata": {
        "id": "ANt2PiB_EHBo"
      },
      "source": [
        "textos.to_excel('drive/My Drive/Propuestas/propuestas_geodinamica/data/results/parrafos_procesados_verbosynouns.xlsx')"
      ],
      "execution_count": null,
      "outputs": []
    },
    {
      "cell_type": "code",
      "metadata": {
        "id": "Uuvucvkg0FVV",
        "colab": {
          "base_uri": "https://localhost:8080/",
          "height": 197
        },
        "outputId": "83f86596-c00a-4f30-c628-8adf3ac15bb8"
      },
      "source": [
        "d = Counter(textos.hotwords.sum()).most_common(40)\n",
        "df = pd.DataFrame([d])\n",
        "\n",
        "Otros_words=df.T\n",
        "Otros_words.head()"
      ],
      "execution_count": null,
      "outputs": [
        {
          "output_type": "execute_result",
          "data": {
            "text/html": [
              "<div>\n",
              "<style scoped>\n",
              "    .dataframe tbody tr th:only-of-type {\n",
              "        vertical-align: middle;\n",
              "    }\n",
              "\n",
              "    .dataframe tbody tr th {\n",
              "        vertical-align: top;\n",
              "    }\n",
              "\n",
              "    .dataframe thead th {\n",
              "        text-align: right;\n",
              "    }\n",
              "</style>\n",
              "<table border=\"1\" class=\"dataframe\">\n",
              "  <thead>\n",
              "    <tr style=\"text-align: right;\">\n",
              "      <th></th>\n",
              "      <th>0</th>\n",
              "    </tr>\n",
              "  </thead>\n",
              "  <tbody>\n",
              "    <tr>\n",
              "      <th>0</th>\n",
              "      <td>(exigiendo, 22)</td>\n",
              "    </tr>\n",
              "    <tr>\n",
              "      <th>1</th>\n",
              "      <td>(realizan, 11)</td>\n",
              "    </tr>\n",
              "    <tr>\n",
              "      <th>2</th>\n",
              "      <td>(realizaron, 10)</td>\n",
              "    </tr>\n",
              "    <tr>\n",
              "      <th>3</th>\n",
              "      <td>(adjuntía, 10)</td>\n",
              "    </tr>\n",
              "    <tr>\n",
              "      <th>4</th>\n",
              "      <td>(exigen, 8)</td>\n",
              "    </tr>\n",
              "  </tbody>\n",
              "</table>\n",
              "</div>"
            ],
            "text/plain": [
              "                  0\n",
              "0   (exigiendo, 22)\n",
              "1    (realizan, 11)\n",
              "2  (realizaron, 10)\n",
              "3    (adjuntía, 10)\n",
              "4       (exigen, 8)"
            ]
          },
          "metadata": {
            "tags": []
          },
          "execution_count": 26
        }
      ]
    },
    {
      "cell_type": "markdown",
      "metadata": {
        "id": "2d0guunzMfcQ"
      },
      "source": [
        "# Spacy para titulares web"
      ]
    },
    {
      "cell_type": "code",
      "metadata": {
        "id": "WGAfku1iLec4"
      },
      "source": [
        "noticias = pd.read_excel('drive/My Drive/Propuestas/propuestas_geodinamica/data/results/noticias_titulares.xlsx')\n",
        "noticias = noticias.iloc[:,1:]"
      ],
      "execution_count": null,
      "outputs": []
    },
    {
      "cell_type": "code",
      "metadata": {
        "id": "W71CyhXqXYNv"
      },
      "source": [
        "def get_hotverbs_lemma(text):\n",
        "    result = []\n",
        "    pos_tag = ['VERB']\n",
        "    #pos_tag = ['PROPN', 'NOUN'] # 1\n",
        "    doc = nlp(text.lower()) # 2\n",
        "    for token in doc:\n",
        "        # 3\n",
        "        if(token.text in nlp.Defaults.stop_words or token.text in punctuation):\n",
        "            continue\n",
        "        # 4\n",
        "        if(token.pos_ in pos_tag):\n",
        "            result.append(token.lemma_)\n",
        "\n",
        "    return result # 5"
      ],
      "execution_count": null,
      "outputs": []
    },
    {
      "cell_type": "code",
      "metadata": {
        "id": "Ganf7vqwW_2f"
      },
      "source": [
        "def get_hotnouns_lemma(text):\n",
        "    result = []\n",
        "    pos_tag = ['PROPN', 'NOUN'] # 1\n",
        "    doc = nlp(text.lower()) # 2\n",
        "    for token in doc:\n",
        "        # 3\n",
        "        if(token.text in nlp.Defaults.stop_words or token.text in punctuation):\n",
        "            continue\n",
        "        # 4\n",
        "        if(token.pos_ in pos_tag):\n",
        "            result.append(token.lemma_)\n",
        "\n",
        "    return result # 5"
      ],
      "execution_count": null,
      "outputs": []
    },
    {
      "cell_type": "code",
      "metadata": {
        "id": "pUhMJCsyL4Zl",
        "colab": {
          "base_uri": "https://localhost:8080/",
          "height": 281
        },
        "outputId": "02ba12fa-9dfb-45da-b997-0d0cec925eef"
      },
      "source": [
        "noticias['verbos_titular']=noticias.apply(lambda row:get_hotverbs(row['titular']),axis=1)\n",
        "noticias['nouns_titular']=noticias.apply(lambda row:get_hotnouns(row['titular']),axis=1)\n",
        "noticias['verbos_titular_lemma']=noticias.apply(lambda row:get_hotverbs_lemma(row['titular']),axis=1)\n",
        "noticias['nouns_titular_lemma']=noticias.apply(lambda row:get_hotnouns_lemma(row['titular']),axis=1)\n",
        "noticias.head()"
      ],
      "execution_count": null,
      "outputs": [
        {
          "output_type": "execute_result",
          "data": {
            "text/html": [
              "<div>\n",
              "<style scoped>\n",
              "    .dataframe tbody tr th:only-of-type {\n",
              "        vertical-align: middle;\n",
              "    }\n",
              "\n",
              "    .dataframe tbody tr th {\n",
              "        vertical-align: top;\n",
              "    }\n",
              "\n",
              "    .dataframe thead th {\n",
              "        text-align: right;\n",
              "    }\n",
              "</style>\n",
              "<table border=\"1\" class=\"dataframe\">\n",
              "  <thead>\n",
              "    <tr style=\"text-align: right;\">\n",
              "      <th></th>\n",
              "      <th>fuente</th>\n",
              "      <th>titular</th>\n",
              "      <th>verbos_titular</th>\n",
              "      <th>nouns_titular</th>\n",
              "      <th>verbos_titular_lemma</th>\n",
              "      <th>nouns_titular_lemma</th>\n",
              "    </tr>\n",
              "  </thead>\n",
              "  <tbody>\n",
              "    <tr>\n",
              "      <th>0</th>\n",
              "      <td>https://gestion.pe/</td>\n",
              "      <td>Cambios en feriados por Fiestas Patrias: ¿cómo...</td>\n",
              "      <td>[calculará]</td>\n",
              "      <td>[cambio, feriar, fiesta, pagar, trabajador]</td>\n",
              "      <td>[calcular]</td>\n",
              "      <td>[cambio, feriar, fiesta, pagar, trabajador]</td>\n",
              "    </tr>\n",
              "    <tr>\n",
              "      <th>1</th>\n",
              "      <td>https://gestion.pe/</td>\n",
              "      <td>Inmunidad parlamentaria: Ledesma ve difícil un...</td>\n",
              "      <td>[ve]</td>\n",
              "      <td>[inmunidad, ledesma, referéndum, riesgo, covid...</td>\n",
              "      <td>[ver]</td>\n",
              "      <td>[inmunidad, ledesma, referéndum, riesgo, covid...</td>\n",
              "    </tr>\n",
              "    <tr>\n",
              "      <th>2</th>\n",
              "      <td>https://gestion.pe/</td>\n",
              "      <td>Fiscal Domingo Pérez: esta semana es decisiva ...</td>\n",
              "      <td>[]</td>\n",
              "      <td>[fiscal, domingo, pérez, semana, pedro, chávar...</td>\n",
              "      <td>[]</td>\n",
              "      <td>[fiscal, domingo, pérez, semana, pedro, chávar...</td>\n",
              "    </tr>\n",
              "    <tr>\n",
              "      <th>3</th>\n",
              "      <td>https://gestion.pe/</td>\n",
              "      <td>Osinergmin prohíbe condicionar pagos de luz y ...</td>\n",
              "      <td>[prohíbe, condicionar, atender, reclamos]</td>\n",
              "      <td>[osinergmin, pago, luz, gas, facturación]</td>\n",
              "      <td>[prohibir, condicionar, atender, reclamo]</td>\n",
              "      <td>[osinergmin, pago, luz, gas, facturación]</td>\n",
              "    </tr>\n",
              "    <tr>\n",
              "      <th>4</th>\n",
              "      <td>https://gestion.pe/</td>\n",
              "      <td>ATU: Estamos próximos a dar la viabilidad de l...</td>\n",
              "      <td>[]</td>\n",
              "      <td>[viabilidad, líneo, metro, limar]</td>\n",
              "      <td>[]</td>\n",
              "      <td>[viabilidad, líneo, metro, limar]</td>\n",
              "    </tr>\n",
              "  </tbody>\n",
              "</table>\n",
              "</div>"
            ],
            "text/plain": [
              "                fuente  ...                                nouns_titular_lemma\n",
              "0  https://gestion.pe/  ...        [cambio, feriar, fiesta, pagar, trabajador]\n",
              "1  https://gestion.pe/  ...  [inmunidad, ledesma, referéndum, riesgo, covid...\n",
              "2  https://gestion.pe/  ...  [fiscal, domingo, pérez, semana, pedro, chávar...\n",
              "3  https://gestion.pe/  ...          [osinergmin, pago, luz, gas, facturación]\n",
              "4  https://gestion.pe/  ...                  [viabilidad, líneo, metro, limar]\n",
              "\n",
              "[5 rows x 6 columns]"
            ]
          },
          "metadata": {
            "tags": []
          },
          "execution_count": 61
        }
      ]
    },
    {
      "cell_type": "code",
      "metadata": {
        "id": "HYOyRO3bMWFK"
      },
      "source": [
        "noticias.to_excel('drive/My Drive/Propuestas/propuestas_geodinamica/data/results/noticias_titulares.xlsx')"
      ],
      "execution_count": null,
      "outputs": []
    },
    {
      "cell_type": "markdown",
      "metadata": {
        "id": "XaSiwqD5-jUM"
      },
      "source": [
        "# Verbos con Chunker"
      ]
    },
    {
      "cell_type": "code",
      "metadata": {
        "id": "hwK5Ls6S-fH3"
      },
      "source": [
        "import pandas as pd\n",
        "#df = pd.read_excel('drive/My Drive/Propuestas/propuestas_geodinamica/data/results/parrafos_procesados_verbos.xlsx')\n",
        "#df = df[['texto']]\n"
      ],
      "execution_count": null,
      "outputs": []
    },
    {
      "cell_type": "code",
      "metadata": {
        "id": "qyGsa_N_FO2v"
      },
      "source": [
        "#df.to_excel('drive/My Drive/Propuestas/propuestas_geodinamica/data/results/parrafos_procesados_ingles.xlsx')\n"
      ],
      "execution_count": null,
      "outputs": []
    },
    {
      "cell_type": "code",
      "metadata": {
        "id": "lE1vxxAwFw6X",
        "colab": {
          "base_uri": "https://localhost:8080/",
          "height": 197
        },
        "outputId": "241159aa-9e6b-4eaa-ea04-0ff7b63376e1"
      },
      "source": [
        "df = pd.read_excel('drive/My Drive/Propuestas/propuestas_geodinamica/data/results/parrafos_procesados_ingles.xlsx')\n",
        "df = df[['text']]\n",
        "df.head()"
      ],
      "execution_count": null,
      "outputs": [
        {
          "output_type": "execute_result",
          "data": {
            "text/html": [
              "<div>\n",
              "<style scoped>\n",
              "    .dataframe tbody tr th:only-of-type {\n",
              "        vertical-align: middle;\n",
              "    }\n",
              "\n",
              "    .dataframe tbody tr th {\n",
              "        vertical-align: top;\n",
              "    }\n",
              "\n",
              "    .dataframe thead th {\n",
              "        text-align: right;\n",
              "    }\n",
              "</style>\n",
              "<table border=\"1\" class=\"dataframe\">\n",
              "  <thead>\n",
              "    <tr style=\"text-align: right;\">\n",
              "      <th></th>\n",
              "      <th>text</th>\n",
              "    </tr>\n",
              "  </thead>\n",
              "  <tbody>\n",
              "    <tr>\n",
              "      <th>0</th>\n",
              "      <td>Judge of the Court for Constitutional Karina ...</td>\n",
              "    </tr>\n",
              "    <tr>\n",
              "      <th>1</th>\n",
              "      <td>Yesterday on farmers Tambo Valley in the prov...</td>\n",
              "    </tr>\n",
              "    <tr>\n",
              "      <th>2</th>\n",
              "      <td>In the center of Huanacopampa populated in th...</td>\n",
              "    </tr>\n",
              "    <tr>\n",
              "      <th>3</th>\n",
              "      <td>Yesterday, the General Comptroller of the Rep...</td>\n",
              "    </tr>\n",
              "    <tr>\n",
              "      <th>4</th>\n",
              "      <td>Yesterday, a group of health personnel of the...</td>\n",
              "    </tr>\n",
              "  </tbody>\n",
              "</table>\n",
              "</div>"
            ],
            "text/plain": [
              "                                                text\n",
              "0   Judge of the Court for Constitutional Karina ...\n",
              "1   Yesterday on farmers Tambo Valley in the prov...\n",
              "2   In the center of Huanacopampa populated in th...\n",
              "3   Yesterday, the General Comptroller of the Rep...\n",
              "4   Yesterday, a group of health personnel of the..."
            ]
          },
          "metadata": {
            "tags": []
          },
          "execution_count": 65
        }
      ]
    },
    {
      "cell_type": "code",
      "metadata": {
        "id": "FtHLe1xnAbHO",
        "colab": {
          "base_uri": "https://localhost:8080/",
          "height": 133
        },
        "outputId": "d522d19e-45a5-4a2b-9e53-5579f96360b1"
      },
      "source": [
        "import nltk\n",
        "from nltk.tokenize import word_tokenize\n",
        "from nltk.tag import pos_tag\n",
        "from nltk import ne_chunk_sents\n",
        "from nltk import bigrams\n",
        "nltk.download('averaged_perceptron_tagger')\n",
        "from nltk.tag import pos_tag\n",
        "nltk.download('punkt')\n"
      ],
      "execution_count": null,
      "outputs": [
        {
          "output_type": "stream",
          "text": [
            "[nltk_data] Downloading package averaged_perceptron_tagger to\n",
            "[nltk_data]     /root/nltk_data...\n",
            "[nltk_data]   Package averaged_perceptron_tagger is already up-to-\n",
            "[nltk_data]       date!\n",
            "[nltk_data] Downloading package punkt to /root/nltk_data...\n",
            "[nltk_data]   Package punkt is already up-to-date!\n"
          ],
          "name": "stdout"
        },
        {
          "output_type": "execute_result",
          "data": {
            "text/plain": [
              "True"
            ]
          },
          "metadata": {
            "tags": []
          },
          "execution_count": 66
        }
      ]
    },
    {
      "cell_type": "code",
      "metadata": {
        "id": "76-CCgilYW9H"
      },
      "source": [
        "import itertools\n",
        "from collections import Counter\n",
        "#df['hot_bigrams']=df.apply(lambda row:FreqDist(row['bigrams_1']),axis=1)\n"
      ],
      "execution_count": null,
      "outputs": []
    },
    {
      "cell_type": "code",
      "metadata": {
        "id": "IJr2RuFv_XAU"
      },
      "source": [
        "%reload_ext autoreload\n",
        "%autoreload 2\n",
        "import sys, os\n",
        "sys.path.append('drive/My Drive/Propuestas/propuestas_geodinamica/src/')\n",
        "\n",
        "import chunker\n"
      ],
      "execution_count": null,
      "outputs": []
    },
    {
      "cell_type": "code",
      "metadata": {
        "id": "eDHp7MokAKIM"
      },
      "source": [
        "import numpy as np\n",
        "import pandas as pd\n",
        "import nltk\n",
        "from nltk.tokenize import word_tokenize, sent_tokenize\n",
        "from nltk.tag import pos_tag\n",
        "from nltk import ne_chunk_sents\n",
        "import re\n",
        "from nltk.corpus import stopwords\n",
        "\n",
        "import sys\n",
        "\n",
        "def PosTagger(text):\n",
        "\n",
        "    sent_tokenized = sent_tokenize(text)\n",
        "    tokenized =  [word_tokenize(sent) for sent in sent_tokenized]\n",
        "    pos_tagged = [pos_tag(sent) for sent in tokenized]\n",
        "\n",
        "    return pos_tagged\n",
        "\n",
        "def FirstGrammar(df, isFile = True, columns = False):\n",
        "\n",
        "    grammar = \"NP: {<DT>?<JJ>*<NN>}\"\n",
        "    cp = nltk.RegexpParser(grammar)\n",
        "    df['first_grammar'] = df.apply(lambda row: [cp.parse(sent) for sent in row['pos_tagged']] , axis=1)\n",
        "\n",
        "    return df\n",
        "\n",
        "\n"
      ],
      "execution_count": null,
      "outputs": []
    },
    {
      "cell_type": "code",
      "metadata": {
        "id": "BmLU8wg5cVhE"
      },
      "source": [
        "df['pos_tagger'] = df.apply(lambda x: PosTagger(x['text']), axis = 1)"
      ],
      "execution_count": null,
      "outputs": []
    },
    {
      "cell_type": "code",
      "metadata": {
        "id": "pzfPYmNmhAtw"
      },
      "source": [
        "df['tokenized'] = df.apply(lambda row:word_tokenize(row['text']), axis = 1)\n",
        "df['pos_tagged'] = df.apply(lambda row:pos_tag(row['tokenized']), axis = 1)"
      ],
      "execution_count": null,
      "outputs": []
    },
    {
      "cell_type": "code",
      "metadata": {
        "id": "c0A0RgL4hr12"
      },
      "source": [
        "grammar = \"NP: {<DT>?<JJ>*<NN>}\"\n",
        "\n",
        "cp = nltk.RegexpParser(grammar)\n",
        "#result = cp.parse(df_text)\n",
        "df['first_grammar'] = df.apply(lambda row:cp.parse(row['pos_tagged']), axis=1)\n"
      ],
      "execution_count": null,
      "outputs": []
    },
    {
      "cell_type": "code",
      "metadata": {
        "id": "Klx6BkPLiqLI",
        "colab": {
          "base_uri": "https://localhost:8080/",
          "height": 66
        },
        "outputId": "111b6448-5f76-407a-dd24-f11fc6adbc7a"
      },
      "source": [
        "nltk.download('conll2000')"
      ],
      "execution_count": null,
      "outputs": [
        {
          "output_type": "stream",
          "text": [
            "[nltk_data] Downloading package conll2000 to /root/nltk_data...\n",
            "[nltk_data]   Package conll2000 is already up-to-date!\n"
          ],
          "name": "stdout"
        },
        {
          "output_type": "execute_result",
          "data": {
            "text/plain": [
              "True"
            ]
          },
          "metadata": {
            "tags": []
          },
          "execution_count": 78
        }
      ]
    },
    {
      "cell_type": "code",
      "metadata": {
        "id": "Lw15tG8bifZ4"
      },
      "source": [
        "from nltk.corpus import conll2000\n",
        "import sys\n",
        "train_sents = conll2000.chunked_sents('train.txt', chunk_types=['NP'])\n"
      ],
      "execution_count": null,
      "outputs": []
    },
    {
      "cell_type": "code",
      "metadata": {
        "id": "DqBG3zl5i5Zd",
        "colab": {
          "base_uri": "https://localhost:8080/",
          "height": 50
        },
        "outputId": "f2c73982-2a9f-4bbc-dc51-567bbbb2f1d5"
      },
      "source": [
        "import re\n",
        "from nltk.corpus import stopwords\n",
        "nltk.download('stopwords')\n",
        "stopwords_set = set(stopwords.words(\"english\"))\n",
        "stopwords_set.add(\"It\")\n",
        "stopwords_set.add(\"The\")\n",
        "stopwords_set.add(\"http\")\n",
        "stopwords_set.add('//wwwdefensoriagobpe/temasphp')"
      ],
      "execution_count": null,
      "outputs": [
        {
          "output_type": "stream",
          "text": [
            "[nltk_data] Downloading package stopwords to /root/nltk_data...\n",
            "[nltk_data]   Unzipping corpora/stopwords.zip.\n"
          ],
          "name": "stdout"
        }
      ]
    },
    {
      "cell_type": "code",
      "metadata": {
        "id": "n0epyHNciVPN"
      },
      "source": [
        "class BigramChunker(nltk.ChunkParserI):\n",
        "    def __init__(self, train_sents):\n",
        "        train_data = [[(t,c) for w,t,c in nltk.chunk.tree2conlltags(sent)]\n",
        "                      for sent in train_sents]\n",
        "        self.tagger = nltk.BigramTagger(train_data)\n",
        "\n",
        "    def parse(self, sentence):\n",
        "        pos_tags = [pos for (word,pos) in sentence]\n",
        "        tagged_pos_tags = self.tagger.tag(pos_tags)\n",
        "        chunktags = [chunktag for (pos, chunktag) in tagged_pos_tags]\n",
        "        conlltags = [(word, pos, chunktag) for ((word,pos),chunktag)\n",
        "                     in zip(sentence, chunktags) if chunktag!='O' and chunktag != None]\n",
        "        iobTags=[]\n",
        "        for(word, pos, chunktag) in conlltags:\n",
        "            #sys.stdout.write (\"%s ->\" % iobTags)\n",
        "            if chunktag == 'B-NP':\n",
        "                iobTags.append ([])\n",
        "            iobTags[-1].append (word)\n",
        "            #sys.stdout.write (\"%s, (%s, %s, %s)\\n\" %(iobTags, word, pos, chunktag))\n",
        "\n",
        "        iobTags = [' '.join(_) for _ in iobTags if not (' '.join(_) in stopwords_set)]\n",
        "        return iobTags\n",
        "        #return conlltags\n",
        "bigram_chunker = BigramChunker(train_sents)"
      ],
      "execution_count": null,
      "outputs": []
    },
    {
      "cell_type": "code",
      "metadata": {
        "id": "1QX8AY6zgn2c",
        "colab": {
          "base_uri": "https://localhost:8080/",
          "height": 216
        },
        "outputId": "f726c85d-93e1-455e-faf1-1ae2fe5e78e9"
      },
      "source": [
        "df['bigram_chunker']=df.apply(lambda row: bigram_chunker.parse(row['pos_tagged']), axis = 1)\n",
        "df['bigram_chunker']"
      ],
      "execution_count": null,
      "outputs": [
        {
          "output_type": "execute_result",
          "data": {
            "text/plain": [
              "0     [Judge, the Court, Constitutional Karina El Ca...\n",
              "1     [Yesterday, farmers Tambo Valley, the province...\n",
              "2     [the center, Huanacopampa, the district, Pauca...\n",
              "3     [Yesterday, the General Comptroller, the Repub...\n",
              "4     [Yesterday, a group, health personnel, the Hos...\n",
              "                            ...                        \n",
              "83    [farmers, its list, agreements, those seeking,...\n",
              "84    [Yesterday traders, a protest, front, the Prov...\n",
              "85    [Yesterday population, the town center Tambo d...\n",
              "86    [Today UGELs administrative workers, a sit, pa...\n",
              "87    [Yesterday a group, citizens, the streets, the...\n",
              "Name: bigram_chunker, Length: 88, dtype: object"
            ]
          },
          "metadata": {
            "tags": []
          },
          "execution_count": 83
        }
      ]
    },
    {
      "cell_type": "code",
      "metadata": {
        "id": "AM_lWcjCKhCG"
      },
      "source": [
        "df_chunked=df[['text','bigram_chunker']]"
      ],
      "execution_count": null,
      "outputs": []
    },
    {
      "cell_type": "code",
      "metadata": {
        "id": "OXoiob5BKXc1"
      },
      "source": [
        "df_chunked.to_excel('drive/My Drive/Propuestas/propuestas_geodinamica/data/results/parrafos_procesados_chunked.xlsx')"
      ],
      "execution_count": null,
      "outputs": []
    },
    {
      "cell_type": "markdown",
      "metadata": {
        "id": "rpCkGVpDtfm1"
      },
      "source": [
        "# Gráficos"
      ]
    },
    {
      "cell_type": "code",
      "metadata": {
        "id": "vHiYQqfBlg2Q"
      },
      "source": [
        "noun_phrases=df['bigram_chunker'].apply(pd.Series).stack().apply(pd.Series)\\\n",
        "                    .rename({0:'phrase'}, axis = 1).reset_index().drop('level_1',axis=1)\n"
      ],
      "execution_count": null,
      "outputs": []
    },
    {
      "cell_type": "code",
      "metadata": {
        "id": "EEfKoTSzlucZ"
      },
      "source": [
        "noun_phrases['phrase']=noun_phrases.apply(lambda row: str.lower(row['phrase']),axis=1)\\\n",
        "                                    .str.replace('\\d+','').str.replace(\"[-+.^:,]\",\"\").fillna('')"
      ],
      "execution_count": null,
      "outputs": []
    },
    {
      "cell_type": "code",
      "metadata": {
        "id": "0yIaFMC1ly3K"
      },
      "source": [
        "noun_phrases=noun_phrases[(noun_phrases.phrase != '')&(noun_phrases.phrase != ' ')].dropna()"
      ],
      "execution_count": null,
      "outputs": []
    },
    {
      "cell_type": "code",
      "metadata": {
        "id": "CRpezEFSl0yU"
      },
      "source": [
        "from nltk.corpus import stopwords\n",
        "nltk.download('stopwords')\n",
        "from nltk.corpus import stopwords\n",
        "stopwords_set = set(stopwords.words(\"english\"))\n",
        "new_stopwords = ['It','The','the','this','e.g','%','we']\n",
        "stopwords_set = stopwords_set.union(new_stopwords)"
      ],
      "execution_count": null,
      "outputs": []
    },
    {
      "cell_type": "code",
      "metadata": {
        "id": "bsA2oDYdl2sB"
      },
      "source": [
        "noun_phrases['phrase'] = noun_phrases['phrase'].apply(lambda x: ' '.join([word for word in x.split() if word not in (stopwords_set)]))\n",
        "noun_phrases.dropna(inplace=True)"
      ],
      "execution_count": null,
      "outputs": []
    },
    {
      "cell_type": "code",
      "metadata": {
        "id": "EXMgX4SCl62s"
      },
      "source": [
        "noun_phrases_grouped=noun_phrases.groupby('phrase').count().sort_values('level_0',ascending=False).rename({'level_0':'count'}, axis = 1)\n",
        "noun_phrases_grouped.to_excel('drive/My Drive/Propuestas/propuestas_geodinamica/data/results/noun_phrases_grouped.xlsx')"
      ],
      "execution_count": null,
      "outputs": []
    },
    {
      "cell_type": "code",
      "metadata": {
        "id": "XS946_Cxr8cO",
        "colab": {
          "base_uri": "https://localhost:8080/",
          "height": 406
        },
        "outputId": "b173bfee-269b-4dfc-89eb-7ef8330d2bae"
      },
      "source": [
        "noun_phrases_grouped.reset_index(inplace=True)\n",
        "noun_phrases_grouped['totalwords'] = noun_phrases_grouped['phrase'].str.count(' ') + 1\n",
        "noun_phrases_grouped=noun_phrases_grouped[(noun_phrases_grouped.phrase != '')&(noun_phrases_grouped.phrase != ' ')].dropna()\n",
        "noun_phrases_grouped.sort_values(by='count',ascending=False)"
      ],
      "execution_count": null,
      "outputs": [
        {
          "output_type": "execute_result",
          "data": {
            "text/html": [
              "<div>\n",
              "<style scoped>\n",
              "    .dataframe tbody tr th:only-of-type {\n",
              "        vertical-align: middle;\n",
              "    }\n",
              "\n",
              "    .dataframe tbody tr th {\n",
              "        vertical-align: top;\n",
              "    }\n",
              "\n",
              "    .dataframe thead th {\n",
              "        text-align: right;\n",
              "    }\n",
              "</style>\n",
              "<table border=\"1\" class=\"dataframe\">\n",
              "  <thead>\n",
              "    <tr style=\"text-align: right;\">\n",
              "      <th></th>\n",
              "      <th>phrase</th>\n",
              "      <th>count</th>\n",
              "      <th>totalwords</th>\n",
              "    </tr>\n",
              "  </thead>\n",
              "  <tbody>\n",
              "    <tr>\n",
              "      <th>0</th>\n",
              "      <td>['yesterday group' 'students' 'the universidad...</td>\n",
              "      <td>2</td>\n",
              "      <td>31</td>\n",
              "    </tr>\n",
              "    <tr>\n",
              "      <th>2</th>\n",
              "      <td>['yesterday group' 'citizens' 'the streets' 't...</td>\n",
              "      <td>2</td>\n",
              "      <td>18</td>\n",
              "    </tr>\n",
              "    <tr>\n",
              "      <th>3</th>\n",
              "      <td>['monday' 'a sector' 'the population' 'a cacer...</td>\n",
              "      <td>2</td>\n",
              "      <td>31</td>\n",
              "    </tr>\n",
              "    <tr>\n",
              "      <th>4</th>\n",
              "      <td>['today ugels administrative workers' 'a sit' ...</td>\n",
              "      <td>2</td>\n",
              "      <td>14</td>\n",
              "    </tr>\n",
              "    <tr>\n",
              "      <th>5</th>\n",
              "      <td>['farmers' 'its list' 'agreements' 'those seek...</td>\n",
              "      <td>2</td>\n",
              "      <td>29</td>\n",
              "    </tr>\n",
              "    <tr>\n",
              "      <th>...</th>\n",
              "      <td>...</td>\n",
              "      <td>...</td>\n",
              "      <td>...</td>\n",
              "    </tr>\n",
              "    <tr>\n",
              "      <th>30</th>\n",
              "      <td>['yesterday' 'dozens' 'civil construction work...</td>\n",
              "      <td>1</td>\n",
              "      <td>35</td>\n",
              "    </tr>\n",
              "    <tr>\n",
              "      <th>29</th>\n",
              "      <td>['yesterday' 'farmers tambo valley' 'the provi...</td>\n",
              "      <td>1</td>\n",
              "      <td>20</td>\n",
              "    </tr>\n",
              "    <tr>\n",
              "      <th>28</th>\n",
              "      <td>['yesterday' 'health personnel' 'the hospital ...</td>\n",
              "      <td>1</td>\n",
              "      <td>21</td>\n",
              "    </tr>\n",
              "    <tr>\n",
              "      <th>27</th>\n",
              "      <td>['yesterday' 'health personnel' 'the hospital'...</td>\n",
              "      <td>1</td>\n",
              "      <td>41</td>\n",
              "    </tr>\n",
              "    <tr>\n",
              "      <th>79</th>\n",
              "      <td>['yesterday' 'the residents' 'the village' 'sa...</td>\n",
              "      <td>1</td>\n",
              "      <td>34</td>\n",
              "    </tr>\n",
              "  </tbody>\n",
              "</table>\n",
              "<p>80 rows × 3 columns</p>\n",
              "</div>"
            ],
            "text/plain": [
              "                                               phrase  count  totalwords\n",
              "0   ['yesterday group' 'students' 'the universidad...      2          31\n",
              "2   ['yesterday group' 'citizens' 'the streets' 't...      2          18\n",
              "3   ['monday' 'a sector' 'the population' 'a cacer...      2          31\n",
              "4   ['today ugels administrative workers' 'a sit' ...      2          14\n",
              "5   ['farmers' 'its list' 'agreements' 'those seek...      2          29\n",
              "..                                                ...    ...         ...\n",
              "30  ['yesterday' 'dozens' 'civil construction work...      1          35\n",
              "29  ['yesterday' 'farmers tambo valley' 'the provi...      1          20\n",
              "28  ['yesterday' 'health personnel' 'the hospital ...      1          21\n",
              "27  ['yesterday' 'health personnel' 'the hospital'...      1          41\n",
              "79  ['yesterday' 'the residents' 'the village' 'sa...      1          34\n",
              "\n",
              "[80 rows x 3 columns]"
            ]
          },
          "metadata": {
            "tags": []
          },
          "execution_count": 18
        }
      ]
    },
    {
      "cell_type": "code",
      "metadata": {
        "id": "kyw-mFqjsmeg"
      },
      "source": [
        "import pandas as pd\n",
        "noun_phrases_grouped.to_excel('drive/My Drive/Propuestas/propuestas_geodinamica/data/results/noun_phrases_grouped.xlsx')\n"
      ],
      "execution_count": null,
      "outputs": []
    },
    {
      "cell_type": "code",
      "metadata": {
        "id": "AhxFu5ictn9M"
      },
      "source": [
        "df = pd.read_excel('drive/My Drive/Propuestas/propuestas_geodinamica/data/results/final.xlsx')\n",
        "noun_phrases_grouped = df[['frase','count','totalwords']]"
      ],
      "execution_count": null,
      "outputs": []
    },
    {
      "cell_type": "code",
      "metadata": {
        "id": "HKgw3FZxsZIi",
        "colab": {
          "base_uri": "https://localhost:8080/",
          "height": 295
        },
        "outputId": "8fc69346-9be0-4d43-f676-7b47d7fbbb88"
      },
      "source": [
        "import seaborn as sns\n",
        "sns.barplot(y=\"frase\",x=\"count\", data=noun_phrases_grouped.head(15))"
      ],
      "execution_count": null,
      "outputs": [
        {
          "output_type": "execute_result",
          "data": {
            "text/plain": [
              "<matplotlib.axes._subplots.AxesSubplot at 0x7f7dad6fa2b0>"
            ]
          },
          "metadata": {
            "tags": []
          },
          "execution_count": 232
        },
        {
          "output_type": "display_data",
          "data": {
            "image/png": "[encoded data removed]",
            "text/plain": [
              "<Figure size 432x288 with 1 Axes>"
            ]
          },
          "metadata": {
            "tags": [],
            "needs_background": "light"
          }
        }
      ]
    },
    {
      "cell_type": "code",
      "metadata": {
        "id": "Cy0DHc2cwxWU",
        "colab": {
          "base_uri": "https://localhost:8080/",
          "height": 295
        },
        "outputId": "a45ea727-2c12-477b-d3b9-d160df964126"
      },
      "source": [
        "sns.barplot(y='count',x=\"totalwords\", data=noun_phrases_grouped.groupby('totalwords').count().reset_index())"
      ],
      "execution_count": null,
      "outputs": [
        {
          "output_type": "execute_result",
          "data": {
            "text/plain": [
              "<matplotlib.axes._subplots.AxesSubplot at 0x7f7dad4ad2e8>"
            ]
          },
          "metadata": {
            "tags": []
          },
          "execution_count": 233
        },
        {
          "output_type": "display_data",
          "data": {
            "image/png": "[encoded data removed]",
            "text/plain": [
              "<Figure size 432x288 with 1 Axes>"
            ]
          },
          "metadata": {
            "tags": [],
            "needs_background": "light"
          }
        }
      ]
    },
    {
      "cell_type": "code",
      "metadata": {
        "id": "LVRH01waw4JI",
        "colab": {
          "base_uri": "https://localhost:8080/",
          "height": 295
        },
        "outputId": "af4eae1e-7ee0-41e0-ff9c-6fff652cbc90"
      },
      "source": [
        "sns.barplot(x='count',y=\"frase\", data=noun_phrases_grouped[noun_phrases_grouped['totalwords']==3].head(10))"
      ],
      "execution_count": null,
      "outputs": [
        {
          "output_type": "execute_result",
          "data": {
            "text/plain": [
              "<matplotlib.axes._subplots.AxesSubplot at 0x7f7dad359710>"
            ]
          },
          "metadata": {
            "tags": []
          },
          "execution_count": 237
        },
        {
          "output_type": "display_data",
          "data": {
            "image/png": "[encoded data removed]",
            "text/plain": [
              "<Figure size 432x288 with 1 Axes>"
            ]
          },
          "metadata": {
            "tags": [],
            "needs_background": "light"
          }
        }
      ]
    },
    {
      "cell_type": "code",
      "metadata": {
        "id": "xhYZud1oxCmy",
        "colab": {
          "base_uri": "https://localhost:8080/",
          "height": 295
        },
        "outputId": "dabf5799-6405-4fe7-e9f4-37ea0a2f5cef"
      },
      "source": [
        "sns.barplot(x='count',y=\"frase\", data=noun_phrases_grouped[noun_phrases_grouped['totalwords']==2].head(10))"
      ],
      "execution_count": null,
      "outputs": [
        {
          "output_type": "execute_result",
          "data": {
            "text/plain": [
              "<matplotlib.axes._subplots.AxesSubplot at 0x7f7dacd8cf60>"
            ]
          },
          "metadata": {
            "tags": []
          },
          "execution_count": 238
        },
        {
          "output_type": "display_data",
          "data": {
            "image/png": "[encoded data removed]",
            "text/plain": [
              "<Figure size 432x288 with 1 Axes>"
            ]
          },
          "metadata": {
            "tags": [],
            "needs_background": "light"
          }
        }
      ]
    }
  ]
}