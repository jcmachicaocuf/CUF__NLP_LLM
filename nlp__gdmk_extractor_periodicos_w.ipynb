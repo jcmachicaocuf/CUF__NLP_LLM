{
  "nbformat": 4,
  "nbformat_minor": 0,
  "metadata": {
    "colab": {
      "provenance": [],
      "toc_visible": true,
      "include_colab_link": true
    },
    "kernelspec": {
      "name": "python3",
      "display_name": "Python 3"
    }
  },
  "cells": [
    {
      "cell_type": "markdown",
      "metadata": {
        "id": "view-in-github",
        "colab_type": "text"
      },
      "source": [
        "<a href=\"https://colab.research.google.com/github/jcmachicaocuf/CUF__NLP_LLM/blob/main/nlp__gdmk_extractor_periodicos_w.ipynb\" target=\"_parent\"><img src=\"https://colab.research.google.com/assets/colab-badge.svg\" alt=\"Open In Colab\"/></a>"
      ]
    },
    {
      "cell_type": "markdown",
      "metadata": {
        "id": "AiN4oWDBRgwX"
      },
      "source": [
        "# Extracción de vocabularios de periódicos locales"
      ]
    },
    {
      "cell_type": "code",
      "metadata": {
        "id": "hW2AMfMlV0qa"
      },
      "source": [
        "#@title Librerias\n",
        "import urllib3\n",
        "import requests\n",
        "from bs4 import BeautifulSoup\n",
        "import pandas as pd\n",
        "import time\n",
        "import numpy as np\n",
        "import networkx as nx\n",
        "import matplotlib.pyplot as plt\n",
        "import nltk"
      ],
      "execution_count": null,
      "outputs": []
    },
    {
      "cell_type": "code",
      "metadata": {
        "id": "VXZAukAQ92HN"
      },
      "source": [
        "#@title Carga de Webs Fuente\n",
        "web_pages = [\n",
        "              'https://gestion.pe/',\n",
        "              'https://larepublica.pe',\n",
        "              'https://www.expreso.com.pe/politica/',\n",
        "              'http://www.laindustria.pe/actualidad',\n",
        "              'https://diariocorreo.pe/edicion/la-libertad/?ref=menu_edi',\n",
        "              'https://rpp.pe/peru/ayacucho/',\n",
        "              'http://www.noticiasser.pe/cajamarca/'\n",
        "              'http://www.servindi.org/peru',\n",
        "              'https://radioamericana.com.pe/category/moquegua/',\n",
        "              'http://www.radiouno.pe/noticias/locales/',\n",
        "              'https://www.dipromin.com/category/noticias/mineria/',\n",
        "              'https://www.radiocutivalu.org/secciones/piura/',\n",
        "              'https://elcomercio.pe/politica/',\n",
        "              'https://www.actualidadambiental.pe/',\n",
        "              'https://elperuano.pe/seccion.aspx?sec=1',\n",
        "              'https://elcholo.com.pe/category/social/',\n",
        "              'https://canaln.pe/alerta-noticias',\n",
        "              'http://www.radioyaravi.org.pe/nota/3',\n",
        "              'https://www.pachamamaradio.org/regional',\n",
        "              'http://www.radiouno.pe/noticias/locales/'\n",
        "\n",
        "            ]"
      ],
      "execution_count": null,
      "outputs": []
    },
    {
      "cell_type": "code",
      "metadata": {
        "id": "KBaiE8UulgyW",
        "colab": {
          "base_uri": "https://localhost:8080/",
          "height": 166
        },
        "outputId": "d03e6f92-0012-4d85-ec07-c6bb8c5a69cd"
      },
      "source": [
        "#@title Explorador\n",
        "noticias = []\n",
        "wbs = 'http://www.laindustria.pe/actualidad'\n",
        "pagina = requests.get(wbs)\n",
        "soup = BeautifulSoup(pagina.content, 'html.parser')\n",
        "\n",
        "params = [\n",
        "          ['a', 'colorTextBlanco RobotoSlabBold textoTruncado'],\n",
        "          ['a', 'RobotoSlabRegular colorTextoAzul'],\n",
        "          ]\n",
        "\n",
        "for tx_a in soup.findAll('a', {'class': 'colorTextBlanco RobotoSlabBold textoTruncado'}):\n",
        "  noticias.append(tx_a.text)\n",
        "\n",
        "for tx_a in soup.findAll('a', {'class': 'RobotoSlabRegular colorTextoAzul'}):\n",
        "  noticias.append(tx_a.text)\n",
        "\n",
        "noticias"
      ],
      "execution_count": null,
      "outputs": [
        {
          "output_type": "execute_result",
          "data": {
            "text/plain": [
              "['Pronabec ofrece 150 becas para escolares mujeres interesadas en carreras de ciencias',\n",
              " 'Sentenciados por corrupción podrán postular este 2021 tras mecanismo de estas cuatro bancadas',\n",
              " 'Los Cuellos Blancos: Fiscal de la Nación denuncia constitucionalmente a Orlando Velásquez',\n",
              " '[PODCAST] Convivir con el miedo, por Edgar Vásquez',\n",
              " 'Publican decreto que otorga subsidio económico al transporte',\n",
              " 'Plantean adelantar pago de gratificaciones en sector público',\n",
              " 'Desde el 15 de julio se reinicia el transporte aéreo y terrestre interprovincial de pasajeros',\n",
              " 'Comisión Agraria aprueba dictamen que crea fondo de salvataje para la agricultura familiar',\n",
              " 'Perú sobrepasa los 10 mil fallecidos por coronavirus']"
            ]
          },
          "metadata": {
            "tags": []
          },
          "execution_count": 20
        }
      ]
    },
    {
      "cell_type": "code",
      "metadata": {
        "id": "12JBIRk_WJcM",
        "cellView": "form",
        "colab": {
          "base_uri": "https://localhost:8080/",
          "height": 333
        },
        "outputId": "f1aa12a5-c07e-42f6-bbd0-abe264ed2513"
      },
      "source": [
        "#@title Extracción\n",
        "noticias = []\n",
        "for wbs in web_pages:\n",
        "  print('***', wbs)\n",
        "  pagina = requests.get(wbs)\n",
        "  soup = BeautifulSoup(pagina.content, 'html.parser')\n",
        "  for k in soup.findAll('div', {'class': 'title'}):\n",
        "    for j in k.find_all('a', href=True):\n",
        "      txa = j.text.replace('\\n', '').replace('\\t', '')\n",
        "      if len(txa)>10:\n",
        "        noticias.append([wbs, txa])\n",
        "  for k in soup.findAll('article', {'class': 'LastNewsList'}):\n",
        "    for j in k.find_all('a', href=True):\n",
        "      txa = j.text.replace('\\n', '').replace('\\t', '')\n",
        "      if len(txa)>10:\n",
        "        noticias.append([wbs, txa])\n",
        "  for k in soup.findAll('h1'):\n",
        "    for j in k.find_all('a', href=True):\n",
        "      txa = j.text.replace('\\n', '').replace('\\t', '')\n",
        "      if len(txa)>10:\n",
        "        noticias.append([wbs, txa])\n",
        "  for k in soup.findAll('h2'):\n",
        "    for j in k.find_all('a', href=True):\n",
        "      txa = j.text.replace('\\n', '').replace('\\t', '')\n",
        "      if len(txa)>10:\n",
        "        noticias.append([wbs, txa])\n",
        "noticias_df = pd.DataFrame(noticias)"
      ],
      "execution_count": null,
      "outputs": [
        {
          "output_type": "stream",
          "text": [
            "*** https://gestion.pe/\n",
            "*** https://larepublica.pe\n",
            "*** https://www.expreso.com.pe/politica/\n",
            "*** http://www.laindustria.pe/actualidad\n",
            "*** https://diariocorreo.pe/edicion/la-libertad/?ref=menu_edi\n",
            "*** https://rpp.pe/peru/ayacucho/\n",
            "*** http://www.noticiasser.pe/cajamarca/http://www.servindi.org/peru\n",
            "*** https://radioamericana.com.pe/category/moquegua/\n",
            "*** http://www.radiouno.pe/noticias/locales/\n",
            "*** https://www.dipromin.com/category/noticias/mineria/\n",
            "*** https://www.radiocutivalu.org/secciones/piura/\n",
            "*** https://elcomercio.pe/politica/\n",
            "*** https://www.actualidadambiental.pe/\n",
            "*** https://elperuano.pe/seccion.aspx?sec=1\n",
            "*** https://elcholo.com.pe/category/social/\n",
            "*** https://canaln.pe/alerta-noticias\n",
            "*** http://www.radioyaravi.org.pe/nota/3\n",
            "*** https://www.pachamamaradio.org/regional\n",
            "*** http://www.radiouno.pe/noticias/locales/\n"
          ],
          "name": "stdout"
        }
      ]
    },
    {
      "cell_type": "code",
      "metadata": {
        "id": "AGdwCi-6WkPU",
        "colab": {
          "base_uri": "https://localhost:8080/",
          "height": 197
        },
        "outputId": "0f0e93f1-3705-4931-ad47-641f6ec1df51"
      },
      "source": [
        "noticias_df.columns = ['fuente', 'titular']\n",
        "noticias_df.head()"
      ],
      "execution_count": null,
      "outputs": [
        {
          "output_type": "execute_result",
          "data": {
            "text/html": [
              "<div>\n",
              "<style scoped>\n",
              "    .dataframe tbody tr th:only-of-type {\n",
              "        vertical-align: middle;\n",
              "    }\n",
              "\n",
              "    .dataframe tbody tr th {\n",
              "        vertical-align: top;\n",
              "    }\n",
              "\n",
              "    .dataframe thead th {\n",
              "        text-align: right;\n",
              "    }\n",
              "</style>\n",
              "<table border=\"1\" class=\"dataframe\">\n",
              "  <thead>\n",
              "    <tr style=\"text-align: right;\">\n",
              "      <th></th>\n",
              "      <th>fuente</th>\n",
              "      <th>titular</th>\n",
              "    </tr>\n",
              "  </thead>\n",
              "  <tbody>\n",
              "    <tr>\n",
              "      <th>0</th>\n",
              "      <td>https://gestion.pe/</td>\n",
              "      <td>Cambios en feriados por Fiestas Patrias: ¿cómo...</td>\n",
              "    </tr>\n",
              "    <tr>\n",
              "      <th>1</th>\n",
              "      <td>https://gestion.pe/</td>\n",
              "      <td>Inmunidad parlamentaria: Ledesma ve difícil un...</td>\n",
              "    </tr>\n",
              "    <tr>\n",
              "      <th>2</th>\n",
              "      <td>https://gestion.pe/</td>\n",
              "      <td>Fiscal Domingo Pérez: esta semana es decisiva ...</td>\n",
              "    </tr>\n",
              "    <tr>\n",
              "      <th>3</th>\n",
              "      <td>https://gestion.pe/</td>\n",
              "      <td>Osinergmin prohíbe condicionar pagos de luz y ...</td>\n",
              "    </tr>\n",
              "    <tr>\n",
              "      <th>4</th>\n",
              "      <td>https://gestion.pe/</td>\n",
              "      <td>ATU: Estamos próximos a dar la viabilidad de l...</td>\n",
              "    </tr>\n",
              "  </tbody>\n",
              "</table>\n",
              "</div>"
            ],
            "text/plain": [
              "                fuente                                            titular\n",
              "0  https://gestion.pe/  Cambios en feriados por Fiestas Patrias: ¿cómo...\n",
              "1  https://gestion.pe/  Inmunidad parlamentaria: Ledesma ve difícil un...\n",
              "2  https://gestion.pe/  Fiscal Domingo Pérez: esta semana es decisiva ...\n",
              "3  https://gestion.pe/  Osinergmin prohíbe condicionar pagos de luz y ...\n",
              "4  https://gestion.pe/  ATU: Estamos próximos a dar la viabilidad de l..."
            ]
          },
          "metadata": {
            "tags": []
          },
          "execution_count": 22
        }
      ]
    },
    {
      "cell_type": "code",
      "metadata": {
        "id": "gWIKFHQBDxrQ",
        "colab": {
          "base_uri": "https://localhost:8080/",
          "height": 120
        },
        "outputId": "311a2d62-181a-43cd-9d7d-6cb2ee735463"
      },
      "source": [
        "from google.colab import drive\n",
        "drive.mount('/content/drive')"
      ],
      "execution_count": null,
      "outputs": [
        {
          "output_type": "stream",
          "text": [
            "Go to this URL in a browser: https://accounts.google.com/o/oauth2/auth?client_id=947318989803-6bn6qk8qdgf4n4g3pfee6491hc0brc4i.apps.googleusercontent.com&redirect_uri=urn%3aietf%3awg%3aoauth%3a2.0%3aoob&response_type=code&scope=email%20https%3a%2f%2fwww.googleapis.com%2fauth%2fdocs.test%20https%3a%2f%2fwww.googleapis.com%2fauth%2fdrive%20https%3a%2f%2fwww.googleapis.com%2fauth%2fdrive.photos.readonly%20https%3a%2f%2fwww.googleapis.com%2fauth%2fpeopleapi.readonly\n",
            "\n",
            "Enter your authorization code:\n",
            "··········\n",
            "Mounted at /content/drive\n"
          ],
          "name": "stdout"
        }
      ]
    },
    {
      "cell_type": "code",
      "metadata": {
        "id": "sQKe8xuODFf1"
      },
      "source": [
        "noticias_df.to_excel('drive/My Drive/Propuestas/propuestas_geodinamica/data/results/noticias_titulares.xlsx')"
      ],
      "execution_count": null,
      "outputs": []
    },
    {
      "cell_type": "code",
      "metadata": {
        "id": "55tLb4ceyfHB",
        "colab": {
          "base_uri": "https://localhost:8080/",
          "height": 152
        },
        "outputId": "b291e8df-29e0-4b42-e4d2-e786559e8818"
      },
      "source": [
        "corpus = '. '.join(noticias_df.titular)\n",
        "corpus"
      ],
      "execution_count": null,
      "outputs": [
        {
          "output_type": "execute_result",
          "data": {
            "application/vnd.google.colaboratory.intrinsic": {
              "type": "string"
            },
            "text/plain": [
              "'Cambios en feriados por Fiestas Patrias: ¿cómo se calculará el pago de trabajadores?. Inmunidad parlamentaria: Ledesma ve difícil un referéndum ante riesgo por COVID-19. Fiscal Domingo Pérez: esta semana es decisiva para Pedro Chávarry y Tomás Gálvez. Osinergmin prohíbe condicionar pagos de luz y gas para atender reclamos por facturación. ATU: Estamos próximos a dar la viabilidad de las Líneas 3 y 4 del Metro de Lima  . Sector público: lo que más ganaron los trabajadores por laudos arbitrales . Donald Trump celebra el 4 de julio con gran evento pese al COVID-19. OMS detiene ensayos con hidroxicloroquina para tratar pacientes hospitalizados por COVID-19. 5G: ¿Cómo va su evolución y qué retos enfrentará en el Perú?. Neo Consulting: ¿Dónde compraron los peruanos durante la cuarentena?. FIDA: agricultura familiar en Perú y el camino a la ‘resiliencia’ ante cualquier crisis. Galería Indigo: El negocio online no logra igualar la experiencia directa al comprar arte . Marsh: asegurándonos un retorno laboral seguro. The Economist: Romance puesto a prueba. No es reinventarse, es sobrevivir: la alta cocina en tiempos del COVID-19. Brasil autoriza ensayos de vacuna contra el COVID-19 de empresa china Sinovac. Informalidad estatal. Mypes empiezan a aumentar demanda de capital de trabajo. Informe detalla los temas de desinformación más virales sobre el COVID-19. Hoteles de Manhattan ofrecen habitaciones para uso de oficina. Boicot a Facebook: ¿Quiénes estarán en la reunión con grupos de derechos civiles?. Compañía socia en cosméticos de Kylie Jenner demanda a Coty. Reino Unido otorgará US$ 6,200 millones en contratos de testeos del virus. Corredores: “No podemos estar en mismo marco legal que transporte urbano convencional”. ¿Cuánto podrían bajar los pagos en efectivo en Lima tras el COVID-19? . Vladimir Putin está listo para su próximo acto. Compradores de aluminio se enfrentan a un mercado ajustado. ¿Qué pasó en GESTIÓN un día como hoy, 4 de julio?. ATU: Subsidio a transporte público se dio por 30 días, luego se evaluará extensión. La caricatura de hoy. Eclipse “Luna de Trueno” de julio 2020 EN VIVO: a qué hora y dónde ver HOY el eclipse penumbral. ¿Qué pasa si sacudes tu celular mientras tienes la aplicación de Facebook abierta? [VIDEO]. La importancia de una limpieza facial profunda. El futuro de la reforma universitaria. Investigacion. El enigma de los incas continúa en 2020. El teletrabajo la nueva normalidad que ofrece una valiosa oportunidad a las empresas. Chivas 2-0 Atlas EN VIVO HOY: sigue la transmisión del partido por la Copa GNP de México . N-Gage: ¿cómo era el extraño teléfono de Nokia que fracasó por ser incómodo y ‘feo’?. CÓMO PREPARAR VINAGRETAS PARA ENSALADAS. Eclipse “Luna de trueno”, el fenómeno de julio que se observará en toda América este fin de semana. Cultura Asiática. It’s okay to not be okay: dorama en polémica por incluir carta de Jonghyun. Comas: piden ayuda para dueño de albergue con más de 100 animales que se contagió COVID-19. Ugel Chiclayo alista atención presencial desde el 15 de julio. Bomberos cuentan con menos de la mitad de personal y equipos tras la cuarentena. Cultura Asiática. Lee Min Ho alborota las redes al exponer sus piernas en Instagram. Cierran un tramo de la ciclovía de norte a sur en avenida Tupac Amaru. Piura: sentencia a sujeto por tenencia ilegal de municiones en Talara. Carlos Argüelles, el físico peruano contratado como docente en la Universidad de Harvard. Cultura Asiática. Los actores de dramas coreanos más atractivos de todos los tiempos (ránking). Referéndum sobre eliminación de inmunidad parlamentaria no tiene que realizarse en 90 días. Chiclayo: anciana vence al coronavirus tras estar dos meses en UCI. “Todo el pueblo está infectado”, denuncian las comunidades Awajún . Alistan el funcionamiento de 346 camas para luchar contra la COVID-19 en Arequipa. LaLiga: Conoce la tabla de posiciones y programación de la fecha 34. Inician campaña barrio por barrio para detectar casos de la COVID-19 en Cajamarca . Hospital temporal de Trujillo en última etapa. Brote de peste negra: descubre la historia de la enfermedad que ha resurgido en Mongolia. Bono Independiente 760: Averigua AQUÍ con DNI cuándo puedes retirar el subsidio económico. Bono de Electricidad S/ 160: REVISA AHORA si accediste a este subsidio económico. Luz del Sur y Enel: REVISA AQUÍ cuál es el monto de tu recibo digital vía ONLINE. Beca Benito Juárez 2020: ¿cómo me registro en la plataforma del Bienestar Azteca? . Bienestar Azteca: CONSULTA AQUÍ el SALDO de tu Beca Benito Juárez 2020. Áncash registra más de 700 muertes por COVID-19. Beca Benito Juárez: todo sobre el REGISTRO a través de la app del Bienestar Azteca 2020. Columnistas. Comunicados. Licitaciones y Empleos. Contra la pandemia: 30 canciones elementales del rock hecho en Trujillo (III) . Ejecutarán cuatro caminos vecinales en el distrito de Huanchaco . La Libertad: Realizan última inspección a Hospital Temporal instalado en colegio Ramón Castilla (FOTOS). Homero Burgos: \"Dejan morir a los que pasan los 60 años\". La Libertad: Vacunan casa por casa a adultos mayores y personas con discapacidad . UNT elaborará 2,000 dosis de Ivermectina para comuna de Angasmarca . Laredo: Brigada COVID-19 realiza tamizaje a diversas asociaciones de mototaxis . Contra la pandemia: 30 canciones elementales del rock hecho en Trujillo (II). Lucha por el oxígeno continuará en La Libertad . Día 111: Reportan 40 fallecidos por COVID-19 en La Libertad. Fiscal de la Nación acusa constitucionalmente a Velásquez como presunto miembro de \"Los Cuellos Blancos del Puerto\". Entregan tercer lote de ivermectina a Chepén. Apoyarán fortalecimiento de capacidades de municipalidades a nivel nacional . Trujillo: Sin coordinación y sin autonomía crece el caos   . Policía está tras los pasos de tercer asesino de jefe de Foncodes La Libertad . Contra la pandemia: 30 canciones elementales del rock hecho en Trujillo (I) . La Libertad: 200 trabajadores de la Salud se suman a lucha contra el COVID-19. La Libertad: Mujer de 65 años logra vencer el COVID-19 en Trujillo (FOTOS) . Trujillo: Motociclista colombiano muere arrollado por camión en El Porvenir  . \\u200bCon dos obras en Simbal se reinicia la reconstrucción en La Libertad. La Libertad: Conforman equipos de respuesta rápída frente al COVID-19 . La Libertad: Contraloría advierte riesgo de propagación de COVID-19 en penal de Trujillo. COVID-19: 32 fallecidos y 607 recuperados en últimas 24 horas en La Libertad . La Libertad: 40 comerciantes de tres centros de abastos de La Esperanza dan positivo al COVID-19 . La Libertad: COVID-19 cobra la vida de reconocido cuadro aprista. La Libertad: Transporte interprovincial y nacional comenzará a operar en las próximas semanas . Entregan 6,000 pastillas de azitromicina a Hospital de Chepén . Ayacucho: Hallan a 15 personas bebiendo en un local del centro histórico. Ayacucho: Intervienen vehículo que transportaba 27 kilos de marihuana. Fotos: Así lucen las principales ciudades del Perú tras el fin de la cuarentena total. Ayacucho: Desalojan con gas lacrimógeno a médicos que querían dialogar con el premier Vicente Zeballos. Ayacucho: Detienen a seis personas e incautan armas y drogas en la zona del VRAEM. Ayacucho: Fallece el primer policía y hay 80 efectivos contagiados con la COVID-19. Ayacucho: Más de 4 mil familias no fueron incluidas en el bono de 380 soles. Ayacucho: Escolares no acceden a clases virtuales por falta de antenas. Ayacucho: Médicos piden que se declare en colapso el servicio COVID-19 del Hospital Regional. Ayacucho: Dieciocho policías dan positivo a la COVID-19. Ayacucho: Solo tres clínicas pueden aplicar pruebas rápidas para el descarte de la COVID-19. Ayacucho: Exjefe de Comando COVID-19 aplica “tratamiento” con ozono y dióxido de cloro a reos de un penal. La situación de Ayacucho ante la temporada de heladas y la COVID-19. Ayacucho: Más de 2 mil ciudadanos no pueden retornar a la región. Ayacucho: Trabajadores de salud tomaban y celebraban cumpleaños y los intervienen. Ayacucho: 24 menores desaparecieron durante el estado de emergencia. Ayacucho: Sismo de 4.1 en el distrito de Colta origina colapso de 16 viviendas. Ayacucho: Retiran a jefe del Comando COVID-19 que recetó dióxido de cloro como \\'medicamento\\' para el nuevo coronavirus. Ayacucho: Médico del Comando COVID-19 presenta dióxido de cloro como \\'medicamento\\' para el nuevo coronavirus. Ayacucho: Mujer de 73 años es la primera víctima de la COVID–19 en el VRAEM. Ayacucho: Solicitan pruebas rápidas para que trabajadores del Bando de La Nación se reincorporen. Ayacucho: Detienen a hombre que vendía ivermectina veterinaria como cura de la COVID-19. Médicos cubanos llegarán a Ayacucho para apoyar en la lucha contra la COVID-19. Ayacucho: Alcalde de la provincia de Huamanga da positivo para la COVID-19. Ayacucho: Jóvenes recolectan televisores y radios para que niños puedan recibir clases. El retablo ayacuchano que rinde un gran homenaje a los héroes de la salud que combaten a diario la COVID-19. Ayacucho: Detienen a trabajadores del Hospital Regional que bebían alcohol en reunión social. Detectan más de veinte casos positivos de la COVID-19 en un mercado del VRAEM. Alumnos de Ayacucho construyen robot que reduce el contacto con pacientes infectados. Intervienen a dieciséis personas por ingresar clandestinamente a Ayacucho. Asesinan a cientos de vicuñas por su pelaje en Ayacucho. Ayacucho: Un sismo de magnitud 4.4 sacudió a provincia de Parinacochas. Ayacucho: Jefes de Departamentos y Servicios de Hospital de EsSalud renuncian a sus cargos. Diresa de Ayacucho reporta el primer caso de la COVID-19 en el VRAEM. Ayacucho: Capturan a miembro de Sendero Luminoso buscado hace más de 30 años. Primer caso de una reclusa contagiada con la COVID-19 en penal de Ayacucho. Ayacucho: Pollos insalubres eran vendidos con sobreprecio en Huanca Sancos. Ayacucho: Intervienen a más de 20 personas que llegaron de Lima en minivan. Ayacucho: Primer fallecido por COVID-19 fue diagnosticado un día antes de morir. Ayacucho: Marcelina, la paciente de 82 años que le ganó la batalla a la COVID-19. Ayacuchanos reparten almuerzos y bebidas a 150 personas varadas en Lima. Ayacucho: Crean \\'app\\' para ubicar viviendas con necesidad de alimentos y ayudarlas. Ayacucho: Aíslan a 210 personas que llegaron en un viaje humanitario. Ayacucho: Solo hay 200 camas de hotel disponibles para los 10 mil inscritos por viajes humanitarios. Detienen a jefa de farmacia del Hospital Regional de Ayacucho al hallar medicamentos del Minsa en su negocio. Imagen del Santísimo recorrió Ayacucho en una camioneta y con un sacerdote a bordo por el Jueves Santo. Ganador del premio de History Channel donó 3 mil galletas contra la anemia en Ayacucho. Coronavirus | Personas retenidas, un herido y disparos en el penal de Ayacucho en plena emergencia. Coronavirus | Delegación de judo con 15 menores regresó a Ayacucho desde Guayaquil. Coronavirus | Congresista se subió a un camión de verduras para llegar a Ayacucho. Las comunidades exigen bonos por COVID-19 a las empresas mineras, ¿qué ocurrirá si estas pagan. Consulta previa virtual: ¿Es posible aplicarla para acelerar los proyectos mineros?. Inversión minera suma US$1.559 millones a mayo; más de la mitad proviene de Anglo American, Chinalco y Marcobre. Tragedia en Arequipa: cuatro mineros artesanales mueren en un socavón. #CADEx: “Debemos trabajar juntos para la recuperación económica post COVID19”. Codelco ve escenario “catastrófico” si aumentan restricciones a la minería por virus. Antofagasta llega a acuerdos tempranos de suministro con fundiciones de cobre en China. Antapaccay: entregan 5000 pruebas rápidas en Espinar. Ley de Minería: Las 11 recomendaciones que planteó la Comisión para el Desarrollo Minero Sostenible. Actividad minera y petrolera de Perú cae en mayo por tercer mes consecutivo. Condenados por corrupción podrán postular en las elecciones del 2021. Congreso no consigue los votos para eliminar la inmunidad parlamentaria. El Congreso, las interpelaciones y el Ejecutivo: el “exceso” en cuestión | ANÁLISIS. Congreso: estos son los temas por los que\\xa0buscan interpelar\\xa0a seis ministros. Condenados por corrupción podrán postular en las elecciones 2021. Congreso crea el distrito electoral para peruanos en el exterior con dos escaños. Continuidad y cambio, por Martín Tanaka. Mirian Morales, ¿qué hiciste?, una crónica de Fernando Vivas. Condenados por corrupción podrán postular en las elecciones 2021 tras bloqueo de reforma en el Congreso. Acción Popular solicitará convocatoria a Pleno extraordinario del Congreso por reforma impedimentos para postular. Marianella Ledesma lamenta que no se haya aprobado eliminar inmunidad parlamentaria. Caso Los Cuellos Blancos: JNJ evaluará suspensión del fiscal supremo Tomás Gálvez el miércoles 8. Martín Vizcarra y su entorno bajo sospecha: claves de los cuestionamientos contra personas de su confianza. Fiestas Patrias: 27 y 29 de julio serán días laborables, anunció Martín Vizcarra. Congreso no consigue los votos para eliminar la inmunidad parlamentaria y deberá ser sometida a referéndum. Continuidad y cambio . Reforma electoral: Congreso crea el distrito electoral para peruanos en el exterior con dos escaños. Pedro Chávarry continuará siendo procesado por remoción de fiscales del equipo Lava Jato. Congreso: este lunes se instalará segunda legislatura ordinaria. Presidenta del TC sobre nueva elección de magistrados: “hay que estar vigilantes sobre quiénes van a ser los elegidos”. Fiscal de la Nación presentó denuncia constitucional contra Tomás Gálvez y César Hinostroza. Alejandro Aguinaga: Kenji Fujimori “siempre cuenta con nuestro apoyo”. Acción Popular pide a Ética investigar a Rosario Paredes por recorte de sueldos. Más contrataciones de familiares del entorno de Martín Vizcarra bajo sospecha. Denuncian a congresista de Acción Popular por recortar sueldos. Congreso aprueba que elección de magistrados del TC sea por concurso público de méritos. Congreso: estos son los temas por los que buscan interpelar a seis ministros. Vizcarra pide al Congreso aprobar dictamen que impide postular a sentenciados por delitos dolosos. Congreso: presentan segunda moción de interpelación contra ministro Víctor Zamora. El Congreso, las interpelaciones y el Ejecutivo: el “exceso” en cuestión | ANÁLISIS. APP no apoya interpelaciones a ministros en actual situación, afirma Valdez. Mirian Morales, ¿qué hiciste?, una crónica de Fernando Vivas. Reforma política demagógica . Vicente Zeballos al Congreso: Interpelaciones no deben servir “para entorpecer, ni buscar protagonismo”. Yehude Simon: Poder Judicial dicta 36 meses de arresto domiciliario. Congresista Rocío Silva Santisteban devuelve gastos de instalación . Otra vez Andrés. Inmunidad parlamentaria: congresistas de Acción Popular y UPP presentan dictámenes en minoría. La eliminación de la inmunidad parlamentaria en manos de Acción Popular. Comisión de Fiscalización cita a expareja de Mirian Morales por consultorías en el Estado. Congresistas no pueden destinar bono de instalación para donaciones, según informe interno. Cuellos Blancos: Corte Suprema rechaza pedido de Walter Ríos para variar prisión preventiva por arresto domiciliario. Caso Mirian Morales: fiscal Abia no descarta tomar declaración del presidente Martín Vizcarra . Caso Mirian Morales: Zeballos ratifica disposición del Ejecutivo de entregar elementos para la investigación . Ministra María Antonieta Alva: “Tengo la tranquilidad de haberlo dejado todo por el país”. Guillermo Aliaga sobre mociones de interpelación: “No veo esa intención obstruccionista”. TC pide al Congreso autonomía en el orden de reemplazo de magistrados. La vieja normalidad. Fiscal anticorrupción cita a declarar a Mirian Morales el martes 7 de julio. Zeballos sobre Mirian Morales: Si se evidencia responsabilidad, se tomarán acciones. Kenji Fujimori se casó antes que concluya la cuarentena | FOTOS. Otra vez Andrés. Fiscal investiga contrataciones de familiares de Mirian Morales, secretaria general de Palacio. Pocos escaños por electores: el problema de la subrepresentación legislativa. Frente Amplio: “La inmunidad parlamentaria no es un privilegio, sino una garantía para ejercer funciones”. Inmunidad parlamentaria: ¿Qué bancadas apoyan su eliminación y cuántos votos les falta?. Gerardo Sepúlveda ante fiscalía: los detalles del interrogatorio del exsocio de PPK. Ministro del Interior al Congreso: “Respetos guardan respetos”. Ampliarán atención en 8 regiones con 1,500 camas hospitalarias. Nacional: 72 distritos son declarados en estado de emergencia por bajas temperaturas. Lambayeque: OCMA puso en funcionamiento Formulario Electrónico para atender a usuarios judiciales mediante audiencia virtual. Lambayeque: Penal de Chiclayo no separa residuos comunes de los desechos médicos. Naional: Se realizaron cerca de 14 mil vuelos a nivel nacional en el marco del Estado de Emergencia. Apurímac: Director de Red de Salud Aymaraes se sube sueldo en plena crisis sanitaria. Ayacucho: Comerciantes y ciudadanos se apoderan del Centro Histórico. Apurímac: Más de 2 mil 900 hogares en condición vulnerable no recibieron bono de S/.380. Lambayeque: En 3 días SUNARP emitió 3 mil copias literales de manera virtual. Amazonas: Jóvenes dejaron la cuarentena y se fueron de paseo. Nacional: Lanzan Encuesta COVID-19 para anticiparse al virus y adelantar acciones'"
            ]
          },
          "metadata": {
            "tags": []
          },
          "execution_count": 23
        }
      ]
    },
    {
      "cell_type": "code",
      "metadata": {
        "id": "pe63Ilpjz3im",
        "colab": {
          "base_uri": "https://localhost:8080/",
          "height": 50
        },
        "outputId": "c0090a2f-84a4-4a4b-dd83-4b493b2c4866"
      },
      "source": [
        "from nltk.tokenize import word_tokenize\n",
        "nltk.download('punkt')\n",
        "from nltk.probability import FreqDist"
      ],
      "execution_count": null,
      "outputs": [
        {
          "output_type": "stream",
          "text": [
            "[nltk_data] Downloading package punkt to /root/nltk_data...\n",
            "[nltk_data]   Unzipping tokenizers/punkt.zip.\n"
          ],
          "name": "stdout"
        }
      ]
    },
    {
      "cell_type": "code",
      "metadata": {
        "id": "aFt34a0U0KxC",
        "colab": {
          "base_uri": "https://localhost:8080/",
          "height": 216
        },
        "outputId": "7b893392-85b0-44e4-d196-d3e9852d479b"
      },
      "source": [
        "#@title Generación de vocabulario más frecuente\n",
        "corpus_tk = word_tokenize(corpus.lower())\n",
        "corpus_tk = [w for w in corpus_tk if len(w)>4]\n",
        "fdist = FreqDist(corpus_tk)\n",
        "fdist_df = pd.DataFrame.from_dict(fdist, orient='index').sort_values(by=[0], ascending=False)\n",
        "print(len(fdist_df))\n",
        "fdist_df[0].head(10)"
      ],
      "execution_count": null,
      "outputs": [
        {
          "output_type": "stream",
          "text": [
            "977\n"
          ],
          "name": "stdout"
        },
        {
          "output_type": "execute_result",
          "data": {
            "text/plain": [
              "ayacucho         47\n",
              "covid-19         39\n",
              "congreso         17\n",
              "libertad         14\n",
              "contra           11\n",
              "personas          9\n",
              "inmunidad         9\n",
              "parlamentaria     9\n",
              "trujillo          8\n",
              "morales           8\n",
              "Name: 0, dtype: int64"
            ]
          },
          "metadata": {
            "tags": []
          },
          "execution_count": 25
        }
      ]
    },
    {
      "cell_type": "markdown",
      "metadata": {
        "id": "6WOig8KwXaGn"
      },
      "source": [
        "## Comentarios"
      ]
    },
    {
      "cell_type": "markdown",
      "metadata": {
        "id": "X6_twrFu4iiY"
      },
      "source": [
        "Los pasos siguientes a este punto serían:\n",
        "* Mayor validación de vocabularios\n",
        "* Comparación de vocabularios por medio\n",
        "* Si se hace la lectura semanal se puede hacer seguimientos por día y comparaciones"
      ]
    },
    {
      "cell_type": "markdown",
      "metadata": {
        "id": "_CHsvPWj83mF"
      },
      "source": [
        "Consultas:\n",
        "\n",
        "¿Cómo sería el proceso en el caso de conflictos de Defensoría?:\n",
        "\n",
        "1. Se arma el vocabulario: a partir de los PDF de defensoría\n",
        "2. Se envía este vocabulario al cliente para validación\n",
        "3. Se hace match de vocabulario de defensoría y noticias web?\n",
        "4. Se obtiene y valida primer filtrado de noticias web de interés\n",
        "5. Se identifica features (regiones, tipos de conflictos pre-establecidos, actores)\n",
        "6. Se agrupa tipos de noticias según features? o k-means? (a veces k-means falla mucho...)\n",
        "7. Desarrollo de esquema de reporte que el cliente requiere automatizar"
      ]
    },
    {
      "cell_type": "markdown",
      "metadata": {
        "id": "6rPE2FkfLZ2m"
      },
      "source": [
        "Procedimiento más desde el cliente:\n",
        "\n",
        "1. Se hace un listado de medios que DEF quiere cubrir (sobre todo que cubran todos los departamentos)\n",
        "2. Se recopilan criterios de calificación del conflicto. Internamente podríamos emplear varias técnicas para conectar el *criterio conceptual* con el *algoritmo*\n",
        "3. Se hace una clasificación experimental usando los criterios. Parece que su interés es ahora distribución geográfica del conflicto\n",
        "4. Se valida el resultado"
      ]
    },
    {
      "cell_type": "markdown",
      "metadata": {
        "id": "AJCNNqj7TuQs"
      },
      "source": [
        "# Extacción de Reportes de Defensoría"
      ]
    },
    {
      "cell_type": "code",
      "metadata": {
        "id": "fXfmpZ40UYm3"
      },
      "source": [
        "!pip install PyPDF2"
      ],
      "execution_count": null,
      "outputs": []
    },
    {
      "cell_type": "code",
      "metadata": {
        "id": "sV01-tN6T6C8",
        "colab": {
          "base_uri": "https://localhost:8080/",
          "height": 70
        },
        "outputId": "af609ff2-5623-42ee-eab5-48611310c073"
      },
      "source": [
        "#@title Librerías adicionales\n",
        "import PyPDF2\n",
        "import pandas as pd\n",
        "import re\n",
        "import os\n",
        "import nltk\n",
        "from nltk.tokenize import word_tokenize\n",
        "from nltk.probability import FreqDist\n",
        "nltk.download('punkt')"
      ],
      "execution_count": null,
      "outputs": [
        {
          "output_type": "stream",
          "text": [
            "[nltk_data] Downloading package punkt to /root/nltk_data...\n",
            "[nltk_data]   Package punkt is already up-to-date!\n"
          ],
          "name": "stdout"
        },
        {
          "output_type": "execute_result",
          "data": {
            "text/plain": [
              "True"
            ]
          },
          "metadata": {
            "tags": []
          },
          "execution_count": 17
        }
      ]
    },
    {
      "cell_type": "code",
      "metadata": {
        "id": "-uelT5dIvx14"
      },
      "source": [
        "from google.colab import drive\n",
        "drive.mount('/content/drive')"
      ],
      "execution_count": null,
      "outputs": []
    },
    {
      "cell_type": "code",
      "metadata": {
        "id": "UnT0G6w3UiSZ",
        "colab": {
          "base_uri": "https://localhost:8080/",
          "height": 194
        },
        "outputId": "9307b046-49b3-43b9-fce9-94cc395f8c60"
      },
      "source": [
        "ruta = 'drive/My Drive/2020 Proyectos/2020 Iniciativas con Claudia Avila/PY Monitoreo de Medios Demo/documentos fuente/'\n",
        "archivos = os.listdir(ruta)\n",
        "archivos"
      ],
      "execution_count": null,
      "outputs": [
        {
          "output_type": "execute_result",
          "data": {
            "text/plain": [
              "['Monitoreo de Medios N° 2792_13-06-2020.pdf',\n",
              " 'Monitoreo de Medios N° 2797_19-06-2020.pdf',\n",
              " 'Monitoreo de Medios N° 2785_05-06-2020.pdf',\n",
              " 'Monitoreo de Medios N° 2760_07-05-2020.pdf',\n",
              " 'Monitoreo de Medios N° 2747_22-04-2020.pdf',\n",
              " 'Monitoreo de Medios N° 2739_14-04-2020.pdf',\n",
              " 'Monitoreo de Medios N° 2733_04-04-2020.pdf',\n",
              " 'Monitoreo de Medios N° 2731_02-04-2020.pdf',\n",
              " 'Monitoreo de Medios N° 2794_16-06-2020.pdf',\n",
              " 'Monitoreo de Medios N° 2802_25-06-2020.pdf']"
            ]
          },
          "metadata": {
            "tags": []
          },
          "execution_count": 10
        }
      ]
    },
    {
      "cell_type": "code",
      "metadata": {
        "id": "JaQac5BkXQdb"
      },
      "source": [
        "arch_x = archivos[2]"
      ],
      "execution_count": null,
      "outputs": []
    },
    {
      "cell_type": "code",
      "metadata": {
        "id": "N_-WpfE2WD9c",
        "colab": {
          "base_uri": "https://localhost:8080/",
          "height": 54
        },
        "outputId": "85b3da4a-c750-4789-fb47-55075847f89f"
      },
      "source": [
        "#@title Extracción de texto PDF\n",
        "tex_acum = ''\n",
        "fileObj = open(ruta + arch_x, 'rb')\n",
        "pdfRead = PyPDF2.PdfFileReader(fileObj)\n",
        "pag = pdfRead.numPages\n",
        "\n",
        "for i in range(0, pag):\n",
        "    page = pdfRead.getPage(i)\n",
        "    lector = page.extractText()\n",
        "    texto = str(lector)\n",
        "    tex_acum += ' ' + texto.replace('\\n', '. ')\n",
        "print(tex_acum)"
      ],
      "execution_count": null,
      "outputs": [
        {
          "output_type": "stream",
          "text": [
            "  . * Este documento es de circulación interna y constituye un insumo periodístico para el monitoreo, análisis e . intervención en conflictos sociales..  . * La APCSG reinicia el monitoreo de medios luego de su suspensión en diciembre de 2016 . (Boletín N.º 2268).  .  . * El contenido de este documento no expresa ni insinúa ningún tipo de opinión ni posición de la Defensoría del Pueblo..  .  . http://www.defensoria.gob.pe/temas.php?des=3.  .  .  . ADJUNTÍA PARA LA PREVENCIÓN DE CONFLICTOS SOCIALES . Y LA G. OBERNABILIDAD.  .  . MONITOREO DE MEDIOS Nº 2785.  . Viernes, . 5 de junio de 2020.  .  .  . .  . Apurímac.  .  . Minera Las Bambas entregó pruebas rápidas a la provincia de Cotabambas.. -.  . La Minera . Las Bambas.  . entregó 2 mil 500 pruebas rápidas al Comando Covid. -. 19 de Cotabambas, . conformado por los alcaldes distritales, alcalde provincial, subprefectura, así como por . autoridades y representantes de la sociedad civil y comunal de dicha jurisdicción. La entrega . for. ma parte del compromiso de la empresa minera en línea a su principio de responsabilidad . social. La entrega se efectuó el . 3 de junio en el local de la municipalidad provincial de . Cotabambas, ubicado en la ciudad de Tambobamba. (. A Primera Hora. ).  .  . .  . Arequipa.  .  . Defensoría del Pueblo pide intervención de Susalud en clínicas privadas.. -.  . La Oficina . Defensorial de.  . Arequipa pidió a la Superintendencia Nacional de Salud (Su. S. alud) revisar y . transparentar los cobros que realizan las clínicas privadas para tomar pruebas de descarte por . coronavirus. El representante de la Defensoría del Pueblo.  . en Arequipa, Ángel Manrique, pidió . que se aclare si las pruebas realizadas por el Ministerio de Salud . derivadas . por.  . las . clínicas.  . tuvieron un costo para las personas a quienes se las aplicaron. Por otro lado, explicó, que en . el caso de las pruebas . moleculares estas deben estar acreditadas por el Instituto Nacional de . Salud y en el caso de Arequipa por los laboratorios regionales y recientemente el de la . Universidad Nacional de San Agustín. (. El Pueblo. ).  .  . Camaná: Trabajadores de salud acatan protesta nacional.. -.  . El personal de salud del . Policlínico de EsSalud Camaná.  . acató la protesta nacional convocada por los gremios de . Essalud, el pasado miér. coles . 3 de junio..  . Los.  . trabajadores . se apostaron para exigir la provisión . de equipos de protección personal, pruebas rápidas del descarte del Covid. -. 19, el pago del . bono a todos los trabajadores de salud y establecer un puente aére. o para trasladar a Lima al . personal infectado. (. Diario Sin Fronteras. ).  .  . Médicos del Hospital Goyoneche realizan protesta.. -.  . El día de ayer, personal médico del . Hospital Goyoneche, realizó una protesta en el patio del nosocomio, exigiendo la provisión de . equipos de protección personal para todos los profesionales de la salud que vienen laborando . en el marco del estado de emergen. cia para frenar el avance del Covid. -. 19. El presidente del . Cuerpo Médico del nosocomio, Germán Torres Escobedo, indicó que les entregaron . mascarillas, sin embargo, estas no cumplirían la normativa para proteger al personal que labora . en primera línea de luc. ha contra el coronavirus. En esa línea, criticó la gestión del director del . . Covid. -. . Radio Yaravi. ).  .  .   . * Este documento es de circulación interna y constituye un insumo periodístico para el monitoreo, análisis e . intervención en conflictos sociales..  . * La APCSG reinicia el monitoreo de medios luego de su suspensión en diciembre de 2016 . (Boletín N.º 2268).  .  . * El contenido de este documento no expresa ni insinúa ningún tipo de opinión ni posición de la Defensoría del Pueblo..  .  . http://www.defensoria.gob.pe/temas.php?des=3.  .  .  . ADJUNTÍA PARA LA PREVENCIÓN DE CONFLICTOS SOCIALES . Y LA G. OBERNABILIDAD.  .  . 345 mineros artesanales se formalizan en Arequipa.. -.  . Un total de 345 mineros podrán . laborar en Bella Unión, Caravelí, una vez que se apruebe el pr. otocolo de seguridad para el . reinicio de la operación de las labores mineras. Esto luego que el Gobierno Regional de . Arequipa a través de la Gerencia Regional de Energía y Minas apruebe la resolución que . permite su formalización. El gerente de Energía y Mi. nas, Juan Muñiz, señaló que . cumplieron.  . con todo el trámite. Asimismo, adelantó que enviaron el protocolo al Consejo Regional de . Arequipa para su aprobación, lo que permitirá que las labores mineras en la región vuelvan a . operar progresivamente. (. Diario Correo. ).  .  . Ciudadanos de Arequipa varados en Lima piden a Indeci fijar fecha para su traslado.. -.  . Los 452 arequipeños . varados en la ciudad de Lima desde hace más de dos meses piden al . Instituto Nacional de Defensa Civil (Indeci) fijar la fecha para su traslado humanitario. Los . varados señalaron.  . que la Gerencia Regional de Transportes y Comunicaciones publicó una . lista de.  . 303 beneficiarios el último 26 de mayo y otra el 27 de mayo de 149 personas más . . se sincere y nos diga cuando nos trasladarán porque ya tienen recursos, por favor, y si.  . será en . . Diario Correo. ).  .  . .  . Cusco.  .  . Campesinos exigen al Gobierno d. eclarar en emergencia al agro.. -.  . Los dirigentes de la . Federación Agraria Revolucionaria Túpac Amaru Fartac Cusco, ayer en conferencia de prensa . virtual, . exi. gieron.  . al gobierno nacional declarar al agro en estado de emergencia y que se . acuer. den . del.  . sector . que pasa uno de los peores momentos. Así lo dio.  . a conocer.  . Víctor Raúl . Mayta Frisancho, presidente de la Fartac, quien indicó que para exigir esta declaratoria han . presentado los informes al gobierno nacional para que haga las evaluaciones . y a partir de ello . declarar en emergencia.  . el sector. . (. A Primera Hora. ).  .  . Solo el 82% de escolares en la región realizar clases virtuales.. -.  . Los funcionarios de la . D. irección . R. egional de Educación informaron que a la fecha la plataforma educativa en forma . . llega.  . a un 82% de . los . escolares de las . i. nstitu. ciones . e. ducativas . e. statales en . Cusco. Así lo dio a conocer la directora de Gestión. , Lizbeth Araoz tarco, quien . señalo que aún falta . llegar.  . a un 18%.  . con las clases virtuales, porque no tienen los instrumentos . o la conectividad del caso. (. A Primera Hora. ).  .  . Trabaj. adores de Construcción Civil realizan protesta.. -.  . El día de ayer, el Sindicato de . Trabajadores de Construcción Civil del Cusco.  . realizó una movilización masiva por las calles de . la ciudad. Con pancartas en mano demanda. ro. n al gobierno nacional ser beneficiados.  . con . . del andamio, venimos pasando serios problemas, por ello exigimos que, a más del gobierno . nacional, así como las autoridades de la región y las municipalida. des hasta la fecha no tienen . la reactivación en la construcción, por ello exigimos a que cumplan con los compromisos que . . A Primera Hora. ).  .  .  .   . * Este documento es de circulación interna y constituye un insumo periodístico para el monitoreo, análisis e . intervención en conflictos sociales..  . * La APCSG reinicia el monitoreo de medios luego de su suspensión en diciembre de 2016 . (Boletín N.º 2268).  .  . * El contenido de este documento no expresa ni insinúa ningún tipo de opinión ni posición de la Defensoría del Pueblo..  .  . http://www.defensoria.gob.pe/temas.php?des=3.  .  .  . ADJUNTÍA PARA LA PREVENCIÓN DE CONFLICTOS SOCIALES . Y LA G. OBERNABILIDAD.  .  . .  . La Libertad.  .  . Trujillo: Familiares de pacientes con coronavirus denuncian falta de información.. -.   . En la . puerta de emergencia del Hospital Regional de Trujillo, familiares de pacientes hospita. lizados . por coronavirus exigen ser informados sobre el estado de salud de sus seres queridos.  . Situación similar viven los parientes de las víctimas mortales . por.  . C. ovid. -. 19, quienes no reciben . información para . realizar.  . los trámites correspondientes para . cremar o enterrar a sus familiares. . Esta falta de información sumada a la desesperación provoca que los familiares se aglomeren . en la puerta de emergencias del nosocomio, lo que representa un grave peligro de contagio . del Covid. -. 19. (. Canal N. ).  .  . .  . Loreto.  .  . Comunidad Kichwa Doce de Octubre realiza protesta y pide ayuda médica.. -.  . La comunidad . kichwa Doce de Octubre, en el distrito del Tigre, rea. lizó una acción de protesta hacia el . gobierno regional y nacional, a causa del . presunto . abandono del establecimiento de salud en . la comunidad, la cual atiende a casi mil personas de cinco comunidades. . Comuneras y . comuneros exigen acción preventiva y a tiempo de las autoridades de salud. También se suma . al llamado de urgencia la técnica laboratorista Marjori Ramirez del puesto de salud, único . personal de salud en la comunidad. L. a técnica expresa la necesidad de medicinas y médicos . con capacidad de atender casos de COVID . -. . atención como se merece la población. Acá hay malaria, anemia y muchas enfermedades. . Ahora se suma el coronavirus, n. . Observatorio . Petrolero. ).  .  . Comunidades de la Provincia de Requena claman apoyo.. -.  . Las comunidades que se . encuentran en los ríos Ucayali, Puinahua.  . y Tapiche lanzan un pedido de auxilio ante el avance . de la pandemia al interior de la provincia Requena. Muchas de estas no cuentan con un puesto . o centro de salud y los más cercanos se encuentran desabastecidos y solo operados por una . enfermera u obstetr. a sin más apoyo. ,.  . y en muchos casos sin medicina ni equipos. Los traslados . hac. i. a la ciudad de Requena puede. n.  . demorar hasta 6 horas desde distritos como Maquía. , . siendo las personas de la tercera e. dad las más afectadas y las que en su mayoría vienen . falleciendo ante la falta de acción inmediata. (. SERVINDI. ).  .  . .  . Piura.  .  . Defensoría del Pueblo reclama atención preferente a pacientes diabéticos afectados por . Covid. -. 19.. -.  . La . O. ficina . Defensorial de.  . Piura exigió al Hospital Covid. -. 19 Santa Rosa brindar . atención prioritaria a los pacientes con diabetes que requieren.  . ser referidos a este . establecimiento de salud por complicaciones provocadas por su condición y necesitan estar en . la Unidad de Cuidados Intensivos (UCI). Cabe precisar que la institución recibió la queja del . hijo de un paciente de 58 años, diagnosticado c. on diabetes, hipertensión y coronavirus, . internado en el Hospital de Sullana, desde donde se solicitó su referencia hacia el Hospital . COVID. -. 19 Santa Rosa en Piura por presentar insuficiencia respiratoria, sin embargo, esta no .   . * Este documento es de circulación interna y constituye un insumo periodístico para el monitoreo, análisis e . intervención en conflictos sociales..  . * La APCSG reinicia el monitoreo de medios luego de su suspensión en diciembre de 2016 . (Boletín N.º 2268).  .  . * El contenido de este documento no expresa ni insinúa ningún tipo de opinión ni posición de la Defensoría del Pueblo..  .  . http://www.defensoria.gob.pe/temas.php?des=3.  .  .  . ADJUNTÍA PARA LA PREVENCIÓN DE CONFLICTOS SOCIALES . Y LA G. OBERNABILIDAD.  .  . fue realizada a tiempo, fallec. iendo el paciente en el Hospital de Sullana sin ser referido. (. El . Region. al Piura. ).  .  . .  . Puno.  .  . Trabajadores de salud alistan protesta generalizada contra autoridades.. -.  . La Federación . Nacional Unificada de Trabajadores del Sector Salud (Fenutssa), mediante su dirigente Víctor . Chura Mayta, informó que evalúan realizar una . protesta generalizada en contra de las . autoridades de la región altiplánica. La manifestación se daría porque los directores de las . diferentes Redes de Salud despidieron a contratados; a pesar de la Comisión de Trabajo.  . dispuso que no se puede desp. edir.  . a ni. ngún funcionario en este Estado de Emergencia . S. anitaria. (. Diario Correo. ).  .  . Empresas mineras retoman actividades . sin cumplir protocolos sanitarios.. -.  . Las empresas . mineras que operan en el distrito de Ananea.  . no cumplen las normas del estado de emergencia.  . para . retomar sus actividades.  . de. bido . a.  . que.  . no cumpl. e. n los protocolos de seguridad, así lo . infor. mó . l. a.  . fiscalizador. a.  . de la Municipalidad Distrital de Ananea, Elisban Calcina Gonzales. El . funcionario llegó hasta los campamentos mineros junto a miembros de la Policía Nacional y del . Ejército y confirmaron que hubo movimientos de tierras. En el lugar encon. traron maquinaria . pesada. Según información de la municipalidad, se intervino las operaciones de la constructora . BFFJ S.A.C. dedicada a la minería a tajo abierto, en el centro poblado Cerro Lunar de Oro y la . comunidad de Casa Blanca. . (. RPP Noticias. ).  .  . Juliaca: Familiares de soldado desaparecido en Tacna protesta. n.. -.  . Un grupo de familiares . del soldado Wílber Carcausto Uchiri, naturales de la provincia de Azángaro, protestaron en la . ciudad de Juliaca, exigiendo el esclarecimiento del caso de su desaparición el pasado mes de . mayo. Sabina Mamani Mamani, tía del efecti. vo, señaló que están más de 20 días sin respuesta, . además cuestionó el abuso de parte de efectivos de la Policía Nacional, tras la intervención a . los padres quienes protestaban en la ciudad heroica. Por su parte. ,.  . Blanca Carcausto Uchiri, . hermana de Wílber, . exigió el pronunciamiento del Ministro de Defensa, en tanto resaltó las . virtudes de su hermano y los objetivos que pretendía luego de servir a la patria. (. Radio Onda . Azul. ).  .  . .  . Tacna.  .  . Policía y Ejército se movilizan en busca de soldado desaparecido.. -.  . Un contingente de . policías y militares, con participación de la Fiscalía, intensifica la búsqueda del cabo Wilber . Carcausto Uchiri (22), t. ras recibir una información que podría estar en un descampado del . cerro Intiorko, entre los distritos Alto de la Alianza y Ciudad Nueva. Hay que indicar que entre . los kilómetros 4 al 15 de la carretera Tacna. -. Tarata.  . hay . casas y granjas de porc. inos y aves, . y . algunos predios están abandonados. (. Diario Correo. ).  .  . Población realiza cacerolazo y pide re. inicio de actividades en las galerías comerciales . de Cercado.. -.  . Trabajadores de galerías comerciales y tiendas de diversos rubros que funcionan . en la avenida Bolognesi. ,.  . e. n.  . T. a. c. n. a. ,.  . .  . como . medida.  . de protesta . para .   . * Este documento es de circulación interna y constituye un insumo periodístico para el monitoreo, análisis e . intervención en conflictos sociales..  . * La APCSG reinicia el monitoreo de medios luego de su suspensión en diciembre de 2016 . (Boletín N.º 2268).  .  . * El contenido de este documento no expresa ni insinúa ningún tipo de opinión ni posición de la Defensoría del Pueblo..  .  . http://www.defensoria.gob.pe/temas.php?des=3.  .  .  . ADJUNTÍA PARA LA PREVENCIÓN DE CONFLICTOS SOCIALES . Y LA G. OBERNABILIDAD.  .  . exigir a.  . la. s autoridades . el reinicio de.  . atención en los establecimientos . cumpliendo.  . los . protocolos de bioseguridad debidamente aprobados para no propiciar la propagación del . Covid. -. 19. Los manifestantes.  . se instalaron en las dos pistas de la avenida Bolognesi co. n . carteles . para hacer . llegar su voz de protesta. (. Diario Correo. ).  .  . .  . Nacional.  .  . Congreso Aprueba tres proyectos que benefician a profesionales de la salud.. -.  . Con 124 . votos a favor y dos abstenciones, el Congreso de la República aprobó esta madrugada los . proyectos de Ley N° 5142, 5143 y 5144, propuestos por la congresista Yess. y Fabián Díaz. El . primer proyecto faculta al Ministerio de Salud incorporar al régimen laboral del Decreto . Legislativo 276 a los trabajadores que se encuentran laborando bajo el régimen del contrato . administrativo de servicios (CAS). Mientras que el segund. o proyecto está referido al . nombramiento de los profesionales, técnicos y auxiliares asistenciales de salud, que laboren . bajo cualquier modalidad en las dependencias del sector público, a nivel nacional. El tercer . proyecto aprobado declara de interés nacio. nal y necesidad pública el cambio de grupo . ocupacional y cambio de línea de carrera del personal del Ministerio de Salud y de las unidades . ejecutoras de salud de los gobiernos regionales. (. Página 3. ).  .  . Ministro de Justicia: Decreto para deshacinar penales podría beneficiar hasta siete mil . internos.. -.  . El ministro de Justicia y Derechos Humanos, Fernando Castañeda, estimó que el . decreto . legislativo para el deshacinamiento de los penales y centros juveniles, promulgado en . el contexto de la emergencia sanitaria por el coronavirus. , podría beneficiar a 7 mil internos. . . e aproximadamente 7 mil . . que no ponen en riesgo la seguridad ciudadana, los cuales están establecidos claramente en . el decreto legislativo 1513. En ese sentido. ,.  . ase. guró que no se beneficiará con la excarcelación . a personas involucradas en secuestros, homicidios o sicariato, así como también en actos de . corrupción de funcionarios. (. Diario Correo. ).  .  . Gobierno declaró de alta prioridad producción y distribución de oxígeno.. -.  . El presidente . de la República, Martín Vizcarra, dem. andó a las empresas y clínicas privadas del país.  . a actuar . con responsabilidad, sin sacar provecho individual de la situación actual en que vivimos, en . referencia a los excesivos costos de los balones de oxígeno, como de las pruebas moleculares . que se brin. . para atender a los pacientes de Covid, son los equipos de oxígeno. Pero actualmente con el . oxígeno está ocurriendo lo mismo que sucedió con otros equipos y bienes para luchar co. ntra . esta enfermedad. Es lamentable que siempre exista gente inescrupulosa que se aprovecha . . jefe de Estado anunció que se aprobó en Consejo de Ministros un Decreto.  . de Urgencia . orientado a incrementar la producción y el acceso a sistemas de oxígeno medicinal para el . tratamiento del Covid. -. 19. (. Diario de Chimbote. ).  .  . Víct. or Zamora: Eventualmente se requerirá extender cuarentena, pero en distintas . modalidades.. -.  . El ministro de Salud, Víctor Zamora, estimó que dependiendo de la evolución .   . * Este documento es de circulación interna y constituye un insumo periodístico para el monitoreo, análisis e . intervención en conflictos sociales..  . * La APCSG reinicia el monitoreo de medios luego de su suspensión en diciembre de 2016 . (Boletín N.º 2268).  .  . * El contenido de este documento no expresa ni insinúa ningún tipo de opinión ni posición de la Defensoría del Pueblo..  .  . http://www.defensoria.gob.pe/temas.php?des=3.  .  .  . ADJUNTÍA PARA LA PREVENCIÓN DE CONFLICTOS SOCIALES . Y LA G. OBERNABILIDAD.  .  . del coronavirus (COVID. -. 19), se requerirá una extensión de la cuarentena en nuestro país p. ara . enfrentar la pandemia, aunque esta vez en distintas modalidades. El ministro refirió que la . ampliación de la emergencia sanitaria hasta el 7 de setiembre permitirá tener todos los . . vir con una medida . . extensión de la cuarentena, pero en distintas modalidades, puede ser. Se ha adelantado . opinión sobre distintas modalidades de cuarentena: generalizadas.  . y focalizadas. Nosotros . necesitamos la emergencia sanitaria parea tener todos los instrumentos necesarios para . . Diario Correo. ).  .  . 212 internos y 15 trabajadores del INPE fallecieron por el Covid. -. 19.. -.  . El ministro de Justicia . y Derechos Humanos, Fernando Castañeda, reveló . que, hasta este viernes, 212 internos y 15 . trabajadores del Instituto Nacional Penitenciario (INPE) fallecieron por el nuevo coronavirus. . . En diálogo con un medio local, refirió que otros 67 reclusos y 17 trabajadores del INPE se . encuentran hospi. talizados, mientras que otros 54 trabajadores ya han sido dados de alta y han . retornado a sus labores. (. Diario Correo. ).  .  . Transportistas interprovinciales exigirán subvención directa al Gobierno si sus buses . operan al 50% de capacidad.. -.  . Los transportistas interprovinciales exigirán una subvención . directa al Estado si los obligan a operar al 50% de . capacidad de sus unidades, informó el . presidente de la Asociación de Propietarios de Ómnibus Interprovinciales (Apoip), José . Navarrete. El dirigente indicó que están a la espera de resolver el tema de la ocupación del . vehículo con el Ministerio de Transpor. tes y Comunicaciones . porque los costos de operar serían . mayores a lo que se cobraría los pasajeros. (. RPP Noticias. ).  .  . Opinión.  . León Trahtemberg.. -.  . Entender el desacato ciudadano.. -.  . . niño a hacer las cosas porque otros se lo exigen (bajo pena de castigo, bajar notas, prohibiciones), . al . crecer va perdiendo el temor a las amenazas y castigos que vienen del otro, haciéndose común . el desacato. Ocurre cuando las normas no fueron aprendidas por convicción sino por imposición, . cuando los reglamentos sustituyeron a la disciplina positiva, cuando.  . el miedo a la sanción sustituyó . . impone al alumno una conducta, se pierde la oportunidad de que éste la aprenda convencido de . . Diario Correo. ).  . . -.  . . icto social conocido . . días bloqueando la carretera Fernando Belaunde, en Amazonas, pidiendo la derogación de dos . decretos legislativos que eran considerados por las . comunidades amazónicas como una violación . a sus derechos de territorialidad. La policía intervino para desalojarlos y se generó un . enfrentamiento en la zona conocida como 'La Curva del Diablo', donde fallecieron al menos 10 . ciudadanos indígenas y 23 agente. s del orden. Pese a esto, la comunidad indígena intenta mirar . . RPP Noticias. ).  .   . * Este documento es de circulación interna y constituye un insumo periodístico para el monitoreo, análisis e . intervención en conflictos sociales..  . * La APCSG reinicia el monitoreo de medios luego de su suspensión en diciembre de 2016 . (Boletín N.º 2268).  .  . * El contenido de este documento no expresa ni insinúa ningún tipo de opinión ni posición de la Defensoría del Pueblo..  .  . http://www.defensoria.gob.pe/temas.php?des=3.  .  .  . ADJUNTÍA PARA LA PREVENCIÓN DE CONFLICTOS SOCIALES . Y LA G. OBERNABILIDAD.  .  . Paco Muguiro: Día del Medio Ambiente: entre el Baguazo y el Covid. -. 19.. -.  . . del asombro, nuestra cabeza, la de los médicos, la de los políticos, la de los espe. cialistas que . estudian los virus, todos estamos llenos de preguntas sin contestar. ¿Cómo puede ser posible que . en el siglo XXI con todos los medios que tenemos, podamos saber tan poco de este enemigo, tan . peligroso que ha encerrado en sus casas a varios mi. llones, que ha contagiado a 6,263.581, . matado a 376.000, y los que faltarán de América y África, pero además ha sido capaz de . inmovilizar a miles de aviones, autos y trenes en todo el mundo, y de parar todas las industrias . grandes y chicas? Sabemos que sal. ió de China en el mes de Enero, y que en tres meses se ha  . extendido por todo el mundo. Le hemos puesto nombre: Covid. -. 19, y sabemos que marcará la . historia casi tanto como una guerra mundial. De hoy en adelante habrá un antes y un después de . la pandemia.  . El Covid. -. 19, se ha hecho presente en el medio ambiente, pero ¿intuimos de dónde . . Noticias SER. ).  .  . Normas . Legales.  .  .  . Publicado 04/06/2020.  . DECRETOS LEGISLATIVOS . .  . EDICION EXTRAORDINARIA.  . DECRET. O LEGISLATIVO N° 1514. .. -.  . Decreto Legislativo que optimiza la aplicación de la medida . de vigilancia electrónica personal como medida coercitiva personal y sanción penal a fin de reducir . el hacinamiento.  . DECRETO LEGISLATIVO N° 1513. .. -.  . Decreto Legislativo que establece disposiciones de carácter . excepcional para el deshacinamiento de establecimi. entos penitenciarios y centros juveniles por . riesgo de contagio de virus COVID. -. 19.  .  . DECRETOS DE URGENCIA . .  . EDICION EXTRAORDINARIA.  . DECRETO DE URGENCIA N° 066. -. 2020. .. -.  . Decreto de Urgencia que dicta medidas extraordi. narias . para incrementar la producción y el acceso a sistemas de oxígeno medicinal para el tratamiento . del Coronavirus y reforzar la respuesta sanitaria en el marco del Estado de Emergencia Nacional . por el COVID. -. 19.  .  . PRESIDENCIA DEL CONSEJO DE MINISTROS . .  . ED. ICION EXTRAORDINARIA.  . DECRETO SUPREMO N° 101. -. 2020. -. PCM. .. -.  . Decreto Supremo que apru. eba la Fase 2 de la . Reanudación de Actividades Económicas dentro del marco de la declaratoria de Emergencia . Sanitaria Nacional por las graves circunstancias que afectan la vida de la Nación a consecuencia . del COVID. -. 19 y modifica el Decreto Supremo N° 080. -. 2. 020. -. PCM.  .  . ENERGIA Y MINAS . .  . EDICION EXTRAORDINARIA.  . RESOLUCION MINISTER. IAL N° 148. -. 2020. -. MINEM/DM. .. -.  . Aprueban listado de procedimientos . administrativos del Ministerio de Energía y Minas correspondiente a los Subsectores Electricidad . e Hidrocarburos cuya tramitación no se encuentra sujeta a la suspensión de plazos establecida en . el D.U. N° 026. -. 2020 y en el D.U. N° 029. -. 2020 y sus prórrogas.  .  .   . * Este documento es de circulación interna y constituye un insumo periodístico para el monitoreo, análisis e . intervención en conflictos sociales..  . * La APCSG reinicia el monitoreo de medios luego de su suspensión en diciembre de 2016 . (Boletín N.º 2268).  .  . * El contenido de este documento no expresa ni insinúa ningún tipo de opinión ni posición de la Defensoría del Pueblo..  .  . http://www.defensoria.gob.pe/temas.php?des=3.  .  .  . ADJUNTÍA PARA LA PREVENCIÓN DE CONFLICTOS SOCIALES . Y LA G. OBERNABILIDAD.  .  . MUNICIPALIDAD METROPOLITANA DE LIMA . .  . EDICION EXTRAORDINARIA.  . RESOLUCION DE ALCALDIA N° 152. .. -.  . Aprueban el Listado de Procedimientos Administrativos . de la Municipalidad Metropolitana de Lima que no se encuentran sujetos a la suspensión de plazos . de tramitación que . establece el D.U. Nº 0262020 y el D.U. Nº 029. -. 2020 y sus prórrogas.  .  . Publicado 05/06/2020.  . CULTURA.  . DECRETO SUPREMO N° 007. -. 2020. -. MC. .. -.  . Decreto Supremo que modifica el Reglamento de la . Ley N° 28296 Ley General del Patrimonio Cultural de la Nación aprobado por Decreto Supremo . N° 011. -. 2006. -. ED.  . DECRETO SUPREMO N° 008. -. 2020. -. MC. .. -.  . Decreto Supremo que aprueba los Lineamientos para . el traslado y entrega de bienes y/o alimentos a p. ueblos indígenas u originarios por parte de . entidades públicas personas naturales y/o jurídicas de derecho privado en el marco de la . emergencia sanitaria declarada por el COVID. -. 19.  . RESOLUCION MINISTERIAL N° 142. -. 2020. -. MC. .. -.  . Aprueban el Protocolo Sanitario de Operación . ante el COVID. -. 19 del Sector Cultura para el inicio gradual e incr. emental de la comercialización de . libros y/o productos editoriales afines a través de las librerías con modalidad de servicio a domicilio . o para recoger en el establecimiento correspondiente a la actividad comercio electrónico de bienes . para el hogar y afi. nes de la Fase 1 de la Reanudación de Actividades.  . RESOLUCION MINISTERIAL N° 1. 43. -. 2020. -. MC. .. -.  . Aprueban Criterios de focalización territorial y la . obligación de informar incidencias del Sector Cultura para el inicio gradual e incremental de la . comercialización de libros a través de las librerías con modalidad de servicio a domicilio o p. ara . recoger en el establecimiento correspondiente a la actividad comercio electrónico de bienes para . el hogar y afines de la Fase 1 de la Reanudación de Actividades.  .  .  . DESARROLLO E INCLUSION SOCIAL.  . RESOLUCION N° 0047. -. 2020. -. MIDIS/PNPDS. -. DE. .. -.  . Aprueban el Instructivo para la recepción virtual . de documentos en mesa de partes del Program. a Nacional de entrega de la pensión no contributiva . a personas con discapacidad severa en situación de pobreza . -.  . CONTIGO y habilitan recepción . virtual de documentos.  .   .  . MUJER Y POBLACIONES VULNERABLES.  . RESOLUCION MINISTERIAL N° 093. -. 2020. -. MIMP. .. -.  . Aprueban el Manual de Operaciones del . Programa Nacional para la Prevención y Erradicac. ión de la Violencia contra las Mujeres e . Integrantes del Grupo Familiar . .  . AURORA.  .  .  . VIVIENDA, CONSTRUCCION Y SANEAMIENTO.  . RESOLUCION MINISTERIAL N° 111. -. 2020. -. VIVIENDA. .. -.  . Aprueban Lineamientos Téc. nicos que . establecen las Condiciones de Seguridad de los Establecimientos Objeto de Inspección con nivel . de Riesgo Bajo o Medio al efectuar el cambio de giro.  .  .  .  .  .   . * Este documento es de circulación interna y constituye un insumo periodístico para el monitoreo, análisis e . intervención en conflictos sociales..  . * La APCSG reinicia el monitoreo de medios luego de su suspensión en diciembre de 2016 . (Boletín N.º 2268).  .  . * El contenido de este documento no expresa ni insinúa ningún tipo de opinión ni posición de la Defensoría del Pueblo..  .  . http://www.defensoria.gob.pe/temas.php?des=3.  .  .  . ADJUNTÍA PARA LA PREVENCIÓN DE CONFLICTOS SOCIALES . Y LA G. OBERNABILIDAD.  .  . AUTORIDAD NACIONAL DEL SERVICIO CIVIL.  . RESOLUCION N° 000039. -. 2020. -. SERVIR. -. PE. .. -.  . Formalizan acuerdo de Consejo Directivo que . aprobó la Directiva para la aplicación del Trabajo Re. moto.  .  .  . CONSEJO EJECUTIVO DEL PODER JUDICIAL.  . RESOLUCION ADMINISTRATIVA N° 000160. -. 2020. -. CE. -. PJ. .. -.  . Prorrogan el funci. onamiento de . diversos órganos jurisdiccionales transitorios.  . RESOLUC. ION ADMINISTRATIVA N° 000165. -. 2020. -. CE. -. PJ. .. -.  . Aprueban la propuesta adaptada del . Plan de Trabajo 2020 de la Comisión Permanente de Acceso a la Justicia de Personas en . Condición de Vulnerabilidad y Justicia en tu Comunidad.  . RESOLUCION ADMINISTRATIVA N° 000166. -. 2020. -. CE. -. PJ. .. -.  . Disponen que la imp. lementación del . Sistema de Mesa de Partes Virtual para la Especialidad Penal aprobado mediante Res. Adm. N° . 000145. -. 2020. -. CE. -. PJ es de carácter transitorio; en tanto no entre en aplicación la Mesa de Partes . Electrónica para la referida especialidad.  .  . JUNTA NAC. IONAL DE JUSTICIA.  . RESOLUCION N° 043. -. 2020. -. JNJ. .. -.  . Modifican el Reglamento del Procedimie. nto de Revisión . Especial de Nombramientos Ratificaciones Evaluaciones y Procedimientos Disciplinarios . efectuados por los ex Consejeros removidos por el Congreso de la República.  .  . \n"
          ],
          "name": "stdout"
        }
      ]
    },
    {
      "cell_type": "code",
      "metadata": {
        "id": "fqk2WoPIWksj",
        "colab": {
          "base_uri": "https://localhost:8080/",
          "height": 230
        },
        "outputId": "7eaaf3b2-0b56-4d74-e0b8-03b08510b799"
      },
      "source": [
        "#@title Generación de vocabulario más frecuente\n",
        "corpus_tk = word_tokenize(tex_acum.lower())\n",
        "corpus_tk = [w for w in corpus_tk if len(w)>4]\n",
        "fdist = FreqDist(corpus_tk)\n",
        "fdist_df = pd.DataFrame.from_dict(fdist, orient='index').sort_values(by=[0], ascending=False)\n",
        "print(len(fdist_df))\n",
        "fdist_df[0].head(10)"
      ],
      "execution_count": null,
      "outputs": [
        {
          "output_type": "stream",
          "text": [
            "1124\n"
          ],
          "name": "stdout"
        },
        {
          "output_type": "execute_result",
          "data": {
            "text/plain": [
              "covid           22\n",
              "salud           22\n",
              "nacional        21\n",
              "monitoreo       19\n",
              "decreto         18\n",
              "conflictos      18\n",
              "documento       18\n",
              "defensoría      12\n",
              "emergencia      12\n",
              "trabajadores    12\n",
              "Name: 0, dtype: int64"
            ]
          },
          "metadata": {
            "tags": []
          },
          "execution_count": 18
        }
      ]
    },
    {
      "cell_type": "markdown",
      "metadata": {
        "id": "itDtLGxY-8N0"
      },
      "source": [
        "# Identificación de hrefs por artículo"
      ]
    },
    {
      "cell_type": "markdown",
      "metadata": {
        "id": "yt671nqT9vhO"
      },
      "source": [
        "# Experimento Extracción de Artículo Completo"
      ]
    },
    {
      "cell_type": "code",
      "metadata": {
        "id": "tDcw0W0B-VEl"
      },
      "source": [
        "!pip install newspaper3k"
      ],
      "execution_count": null,
      "outputs": []
    },
    {
      "cell_type": "code",
      "metadata": {
        "id": "0tNllKEh8XQA",
        "colab": {
          "base_uri": "https://localhost:8080/",
          "height": 52
        },
        "outputId": "65def1a6-6440-474e-a470-1243ddfcffc5"
      },
      "source": [
        "from newspaper import Article\n",
        "import string\n",
        "import nltk\n",
        "nltk.download('punkt')\n",
        "import requests\n",
        "from bs4 import BeautifulSoup"
      ],
      "execution_count": null,
      "outputs": [
        {
          "output_type": "stream",
          "text": [
            "[nltk_data] Downloading package punkt to /root/nltk_data...\n",
            "[nltk_data]   Package punkt is already up-to-date!\n"
          ],
          "name": "stdout"
        }
      ]
    },
    {
      "cell_type": "code",
      "metadata": {
        "id": "YIrRRu6H8o27"
      },
      "source": [
        "urlx = 'https://aprimerahora.pe/2020/06/26/observan-y-piden-explicaciones-al-cambio-de-razon-social-y-el-logo-de-la-emufec/'"
      ],
      "execution_count": null,
      "outputs": []
    },
    {
      "cell_type": "code",
      "metadata": {
        "id": "fHhJefOx9pzn",
        "colab": {
          "base_uri": "https://localhost:8080/",
          "height": 160
        },
        "outputId": "ae298d72-b0b4-436c-e863-8107c901fe65"
      },
      "source": [
        "#@title Extraer artículo de URL\n",
        "article = Article(url=urlx)\n",
        "article.download() #Download the article\n",
        "article.parse() #Parse the article\n",
        "article.nlp() #Apply Natural Language Processing (NLP)\n",
        "corpus = article.text #Store the article text into corpus\n",
        "corpus"
      ],
      "execution_count": null,
      "outputs": [
        {
          "output_type": "execute_result",
          "data": {
            "application/vnd.google.colaboratory.intrinsic": {
              "type": "string"
            },
            "text/plain": [
              "'Observan y piden explicaciones al cambio de razón social y el logo de la EMUFEC\\n\\nRegidores de la municipalidad provincial del Cusco, hacen serias observaciones y piden explicaciones a los funcionarios de la Empresa Municipal de Festejos del Cusco EMUFEC, al cambio de la razón social y el logo de la empresa, el cual pusieron de manifiesto en las fiestas jubilares.\\n\\nIndicaron que estos cambios que realizaron en las recientes fiestas del mes jubilar de nuestra ciudad, fueron impuestas el cual se realizó sin el acuerdo ni análisis que debió de realizarse en la junta general de accionistas\\n\\n“En ningún momento hemos aprobado el cambio de la razón social de la empresa, menos el logo que en estas fiestas estrenaron los de la EMUFEC, por ello vamos a proponer en sesión de consejo para que el directorio se presente al pleno del consejo”, señalo Ricardo Almanza.\\n\\nEl regidor de la municipalidad provincial, señalo que nadie puede hacer lo que quiere en la empresa municipal de festejos, sin antes que las juntas generales de accionistas asuman estos cambios, por tanto, los cambios que realizan son ilegales.\\n\\n“Parece que la palabra del pleno del consejo municipal para los funcionarios de la empresa, no tienen repercusión, por tanto, no pueden hacer lo que les viene en gana, todo cambio debe ser tratado en la junta general de accionistas y el directorio”, señaló.\\n\\nAlmanza, indico que se debe mantener el logotipo que siempre se utilizaron en las fiestas jubilares el mismo que viene desde hace más de 30 años y no puede ser que de un momento a otro, so pretexto de marketear realicen el cambio, cuando estos es antiestético y otras observaciones.\\n\\n“Nosotros vamos a insistir que se mantenga el logo y la razón social, para cualquier cambio se debe de consultar al pleno del consejo municipal”, sentenció.'"
            ]
          },
          "metadata": {
            "tags": []
          },
          "execution_count": 22
        }
      ]
    },
    {
      "cell_type": "markdown",
      "metadata": {
        "id": "h7DpaE9RDlda"
      },
      "source": [
        "## Método de Extracción de Contenido de Conflictos de Artículos Periódicos\n",
        "\n",
        "1. En PDFs de Monitoreo Medios : Corpus_Monitoreo_Medios\n",
        "2. Extraer vocabulario de Corpus_Monitoreo_Medios\n",
        "  - Frecuencia de palabras, Filtradas por Expertos\n",
        "  - Sentimientos\n",
        "  - Entidades\n",
        "  - Verbos\n"
      ]
    },
    {
      "cell_type": "code",
      "metadata": {
        "id": "RRj1lTmq-7dC",
        "colab": {
          "base_uri": "https://localhost:8080/",
          "height": 105
        },
        "outputId": "2151cbbb-3adf-445a-f924-533e223ce15a"
      },
      "source": [
        "#@title Explorador\n",
        "noticias = []\n",
        "wbs = 'https://aprimerahora.pe/'\n",
        "pagina = requests.get(wbs)\n",
        "soup = BeautifulSoup(pagina.content, 'html.parser')\n",
        "#soup\n",
        "pars = [['a', 'post-url post-title']]\n",
        "\n",
        "seleccion = soup.findAll(pars[0][0], attrs={'class': pars[0][1]})\n",
        "for sel in seleccion:\n",
        "  noticias.append(sel['href'])\n",
        "noticias[0:5]"
      ],
      "execution_count": null,
      "outputs": [
        {
          "output_type": "execute_result",
          "data": {
            "text/plain": [
              "['https://aprimerahora.pe/2020/06/26/autoridades-anuncian-que-hoy-se-firmando-el-contrato-para-el-hospital-antonio-lorena/',\n",
              " 'https://aprimerahora.pe/2020/06/26/40-de-alcaldes-de-la-region-no-tienen-el-plan-de-contingencia-para-el-invierno/',\n",
              " 'https://aprimerahora.pe/2020/06/26/se-incendia-el-balneario-turistico-de-cocalmayo-santa-teresa-la-convencion/',\n",
              " 'https://aprimerahora.pe/2020/06/26/en-cusco-mas-de-9-mil-hogares-pobres-no-fueron-incluidos-en-los-bonos-economicos/',\n",
              " 'https://aprimerahora.pe/2020/06/26/observan-y-piden-explicaciones-al-cambio-de-razon-social-y-el-logo-de-la-emufec/']"
            ]
          },
          "metadata": {
            "tags": []
          },
          "execution_count": 31
        }
      ]
    },
    {
      "cell_type": "code",
      "metadata": {
        "id": "bCtIBuV-AQfE",
        "colab": {
          "base_uri": "https://localhost:8080/",
          "height": 35
        },
        "outputId": "d160f5ce-9df4-42e1-c3e8-c39fd6c3f4d6"
      },
      "source": [
        "seleccion[0]['href']"
      ],
      "execution_count": null,
      "outputs": [
        {
          "output_type": "execute_result",
          "data": {
            "application/vnd.google.colaboratory.intrinsic": {
              "type": "string"
            },
            "text/plain": [
              "'https://aprimerahora.pe/2020/06/26/autoridades-anuncian-que-hoy-se-firmando-el-contrato-para-el-hospital-antonio-lorena/'"
            ]
          },
          "metadata": {
            "tags": []
          },
          "execution_count": 30
        }
      ]
    },
    {
      "cell_type": "markdown",
      "metadata": {
        "id": "EbjtWysd-XVI"
      },
      "source": [
        "# Referencias\n",
        "https://adonde.com/noticias-peru/diarios-lima.php"
      ]
    }
  ]
}